{
  "nbformat": 4,
  "nbformat_minor": 0,
  "metadata": {
    "colab": {
      "name": "Aula 02 desafios #QuarentenaDados.ipynb",
      "provenance": [],
      "collapsed_sections": [],
      "authorship_tag": "ABX9TyNE6Dct8VgsEoiLm9UzrhXv",
      "include_colab_link": true
    },
    "kernelspec": {
      "name": "python3",
      "display_name": "Python 3"
    }
  },
  "cells": [
    {
      "cell_type": "markdown",
      "metadata": {
        "id": "view-in-github",
        "colab_type": "text"
      },
      "source": [
        "<a href=\"https://colab.research.google.com/github/LeonardoClemente23/quarentenadados-Alura/blob/main/Aula_02_desafios_QuarentenaDados.ipynb\" target=\"_parent\"><img src=\"https://colab.research.google.com/assets/colab-badge.svg\" alt=\"Open In Colab\"/></a>"
      ]
    },
    {
      "cell_type": "code",
      "metadata": {
        "id": "nUN3Dbv39cVN",
        "outputId": "4046e13e-928d-48a4-bf0a-4d16726a80f9",
        "colab": {
          "base_uri": "https://localhost:8080/",
          "height": 71
        }
      },
      "source": [
        "import pandas as pd\n",
        "import matplotlib.pyplot as plt\n",
        "import seaborn as sns\n"
      ],
      "execution_count": null,
      "outputs": [
        {
          "output_type": "stream",
          "text": [
            "/usr/local/lib/python3.6/dist-packages/statsmodels/tools/_testing.py:19: FutureWarning: pandas.util.testing is deprecated. Use the functions in the public API at pandas.testing instead.\n",
            "  import pandas.util.testing as tm\n"
          ],
          "name": "stderr"
        }
      ]
    },
    {
      "cell_type": "code",
      "metadata": {
        "id": "DlYA26WkCLBH",
        "outputId": "f9d21dcd-3388-4613-f877-40ee19b87b9c",
        "colab": {
          "base_uri": "https://localhost:8080/",
          "height": 204
        }
      },
      "source": [
        "# lê a base de dados\n",
        "filmes = pd.read_csv(\"https://raw.githubusercontent.com/alura-cursos/introducao-a-data-science/master/aula0/ml-latest-small/movies.csv\")\n",
        "\n",
        "# muda o título das colunas\n",
        "filmes.columns = [\"filmeId\", \"titulo\", \"generos\"]\n",
        "\n",
        "# mostra as primeiras linhas do dataframe\n",
        "filmes.tail()\n"
      ],
      "execution_count": null,
      "outputs": [
        {
          "output_type": "execute_result",
          "data": {
            "text/html": [
              "<div>\n",
              "<style scoped>\n",
              "    .dataframe tbody tr th:only-of-type {\n",
              "        vertical-align: middle;\n",
              "    }\n",
              "\n",
              "    .dataframe tbody tr th {\n",
              "        vertical-align: top;\n",
              "    }\n",
              "\n",
              "    .dataframe thead th {\n",
              "        text-align: right;\n",
              "    }\n",
              "</style>\n",
              "<table border=\"1\" class=\"dataframe\">\n",
              "  <thead>\n",
              "    <tr style=\"text-align: right;\">\n",
              "      <th></th>\n",
              "      <th>filmeId</th>\n",
              "      <th>titulo</th>\n",
              "      <th>generos</th>\n",
              "    </tr>\n",
              "  </thead>\n",
              "  <tbody>\n",
              "    <tr>\n",
              "      <th>9737</th>\n",
              "      <td>193581</td>\n",
              "      <td>Black Butler: Book of the Atlantic (2017)</td>\n",
              "      <td>Action|Animation|Comedy|Fantasy</td>\n",
              "    </tr>\n",
              "    <tr>\n",
              "      <th>9738</th>\n",
              "      <td>193583</td>\n",
              "      <td>No Game No Life: Zero (2017)</td>\n",
              "      <td>Animation|Comedy|Fantasy</td>\n",
              "    </tr>\n",
              "    <tr>\n",
              "      <th>9739</th>\n",
              "      <td>193585</td>\n",
              "      <td>Flint (2017)</td>\n",
              "      <td>Drama</td>\n",
              "    </tr>\n",
              "    <tr>\n",
              "      <th>9740</th>\n",
              "      <td>193587</td>\n",
              "      <td>Bungo Stray Dogs: Dead Apple (2018)</td>\n",
              "      <td>Action|Animation</td>\n",
              "    </tr>\n",
              "    <tr>\n",
              "      <th>9741</th>\n",
              "      <td>193609</td>\n",
              "      <td>Andrew Dice Clay: Dice Rules (1991)</td>\n",
              "      <td>Comedy</td>\n",
              "    </tr>\n",
              "  </tbody>\n",
              "</table>\n",
              "</div>"
            ],
            "text/plain": [
              "      filmeId  ...                          generos\n",
              "9737   193581  ...  Action|Animation|Comedy|Fantasy\n",
              "9738   193583  ...         Animation|Comedy|Fantasy\n",
              "9739   193585  ...                            Drama\n",
              "9740   193587  ...                 Action|Animation\n",
              "9741   193609  ...                           Comedy\n",
              "\n",
              "[5 rows x 3 columns]"
            ]
          },
          "metadata": {
            "tags": []
          },
          "execution_count": 2
        }
      ]
    },
    {
      "cell_type": "code",
      "metadata": {
        "id": "DeQRXA8nClAw",
        "outputId": "7b720bf2-1aa9-4797-dfa7-5ade837eb3cc",
        "colab": {
          "base_uri": "https://localhost:8080/",
          "height": 204
        }
      },
      "source": [
        "avaliacoes = pd.read_csv(\"https://github.com/alura-cursos/introducao-a-data-science/blob/master/aula0/ml-latest-small/ratings.csv?raw=true\")\n",
        "avaliacoes.columns = [\"usuarioId\", \"filmeId\", \"nota\", \"momento\"]\n",
        "avaliacoes.head()\n"
      ],
      "execution_count": null,
      "outputs": [
        {
          "output_type": "execute_result",
          "data": {
            "text/html": [
              "<div>\n",
              "<style scoped>\n",
              "    .dataframe tbody tr th:only-of-type {\n",
              "        vertical-align: middle;\n",
              "    }\n",
              "\n",
              "    .dataframe tbody tr th {\n",
              "        vertical-align: top;\n",
              "    }\n",
              "\n",
              "    .dataframe thead th {\n",
              "        text-align: right;\n",
              "    }\n",
              "</style>\n",
              "<table border=\"1\" class=\"dataframe\">\n",
              "  <thead>\n",
              "    <tr style=\"text-align: right;\">\n",
              "      <th></th>\n",
              "      <th>usuarioId</th>\n",
              "      <th>filmeId</th>\n",
              "      <th>nota</th>\n",
              "      <th>momento</th>\n",
              "    </tr>\n",
              "  </thead>\n",
              "  <tbody>\n",
              "    <tr>\n",
              "      <th>0</th>\n",
              "      <td>1</td>\n",
              "      <td>1</td>\n",
              "      <td>4.0</td>\n",
              "      <td>964982703</td>\n",
              "    </tr>\n",
              "    <tr>\n",
              "      <th>1</th>\n",
              "      <td>1</td>\n",
              "      <td>3</td>\n",
              "      <td>4.0</td>\n",
              "      <td>964981247</td>\n",
              "    </tr>\n",
              "    <tr>\n",
              "      <th>2</th>\n",
              "      <td>1</td>\n",
              "      <td>6</td>\n",
              "      <td>4.0</td>\n",
              "      <td>964982224</td>\n",
              "    </tr>\n",
              "    <tr>\n",
              "      <th>3</th>\n",
              "      <td>1</td>\n",
              "      <td>47</td>\n",
              "      <td>5.0</td>\n",
              "      <td>964983815</td>\n",
              "    </tr>\n",
              "    <tr>\n",
              "      <th>4</th>\n",
              "      <td>1</td>\n",
              "      <td>50</td>\n",
              "      <td>5.0</td>\n",
              "      <td>964982931</td>\n",
              "    </tr>\n",
              "  </tbody>\n",
              "</table>\n",
              "</div>"
            ],
            "text/plain": [
              "   usuarioId  filmeId  nota    momento\n",
              "0          1        1   4.0  964982703\n",
              "1          1        3   4.0  964981247\n",
              "2          1        6   4.0  964982224\n",
              "3          1       47   5.0  964983815\n",
              "4          1       50   5.0  964982931"
            ]
          },
          "metadata": {
            "tags": []
          },
          "execution_count": 3
        }
      ]
    },
    {
      "cell_type": "code",
      "metadata": {
        "id": "aVafBEAACqR-",
        "outputId": "cfa2b6df-e1f7-4030-f7de-2381fb609e76",
        "colab": {
          "base_uri": "https://localhost:8080/",
          "height": 419
        }
      },
      "source": [
        "# tira a média das notas por filme\n",
        "media_por_filme = avaliacoes.groupby(\"filmeId\")[\"nota\"].mean()\n",
        "\n",
        "# junta os filmes as suas respectivas médias.\n",
        "filmes_com_media = filmes.join(media_por_filme,on = \"filmeId\")\n",
        "filmes_com_media = filmes_com_media.rename(columns={'nota': 'nota_media'})\n",
        "filmes_com_media.sort_values(by=\"nota_media\",ascending=False)\n"
      ],
      "execution_count": null,
      "outputs": [
        {
          "output_type": "execute_result",
          "data": {
            "text/html": [
              "<div>\n",
              "<style scoped>\n",
              "    .dataframe tbody tr th:only-of-type {\n",
              "        vertical-align: middle;\n",
              "    }\n",
              "\n",
              "    .dataframe tbody tr th {\n",
              "        vertical-align: top;\n",
              "    }\n",
              "\n",
              "    .dataframe thead th {\n",
              "        text-align: right;\n",
              "    }\n",
              "</style>\n",
              "<table border=\"1\" class=\"dataframe\">\n",
              "  <thead>\n",
              "    <tr style=\"text-align: right;\">\n",
              "      <th></th>\n",
              "      <th>filmeId</th>\n",
              "      <th>titulo</th>\n",
              "      <th>generos</th>\n",
              "      <th>nota_media</th>\n",
              "    </tr>\n",
              "  </thead>\n",
              "  <tbody>\n",
              "    <tr>\n",
              "      <th>7656</th>\n",
              "      <td>88448</td>\n",
              "      <td>Paper Birds (Pájaros de papel) (2010)</td>\n",
              "      <td>Comedy|Drama</td>\n",
              "      <td>5.0</td>\n",
              "    </tr>\n",
              "    <tr>\n",
              "      <th>8107</th>\n",
              "      <td>100556</td>\n",
              "      <td>Act of Killing, The (2012)</td>\n",
              "      <td>Documentary</td>\n",
              "      <td>5.0</td>\n",
              "    </tr>\n",
              "    <tr>\n",
              "      <th>9083</th>\n",
              "      <td>143031</td>\n",
              "      <td>Jump In! (2007)</td>\n",
              "      <td>Comedy|Drama|Romance</td>\n",
              "      <td>5.0</td>\n",
              "    </tr>\n",
              "    <tr>\n",
              "      <th>9094</th>\n",
              "      <td>143511</td>\n",
              "      <td>Human (2015)</td>\n",
              "      <td>Documentary</td>\n",
              "      <td>5.0</td>\n",
              "    </tr>\n",
              "    <tr>\n",
              "      <th>9096</th>\n",
              "      <td>143559</td>\n",
              "      <td>L.A. Slasher (2015)</td>\n",
              "      <td>Comedy|Crime|Fantasy</td>\n",
              "      <td>5.0</td>\n",
              "    </tr>\n",
              "    <tr>\n",
              "      <th>...</th>\n",
              "      <td>...</td>\n",
              "      <td>...</td>\n",
              "      <td>...</td>\n",
              "      <td>...</td>\n",
              "    </tr>\n",
              "    <tr>\n",
              "      <th>5749</th>\n",
              "      <td>30892</td>\n",
              "      <td>In the Realms of the Unreal (2004)</td>\n",
              "      <td>Animation|Documentary</td>\n",
              "      <td>NaN</td>\n",
              "    </tr>\n",
              "    <tr>\n",
              "      <th>5824</th>\n",
              "      <td>32160</td>\n",
              "      <td>Twentieth Century (1934)</td>\n",
              "      <td>Comedy</td>\n",
              "      <td>NaN</td>\n",
              "    </tr>\n",
              "    <tr>\n",
              "      <th>5837</th>\n",
              "      <td>32371</td>\n",
              "      <td>Call Northside 777 (1948)</td>\n",
              "      <td>Crime|Drama|Film-Noir</td>\n",
              "      <td>NaN</td>\n",
              "    </tr>\n",
              "    <tr>\n",
              "      <th>5957</th>\n",
              "      <td>34482</td>\n",
              "      <td>Browning Version, The (1951)</td>\n",
              "      <td>Drama</td>\n",
              "      <td>NaN</td>\n",
              "    </tr>\n",
              "    <tr>\n",
              "      <th>7565</th>\n",
              "      <td>85565</td>\n",
              "      <td>Chalet Girl (2011)</td>\n",
              "      <td>Comedy|Romance</td>\n",
              "      <td>NaN</td>\n",
              "    </tr>\n",
              "  </tbody>\n",
              "</table>\n",
              "<p>9742 rows × 4 columns</p>\n",
              "</div>"
            ],
            "text/plain": [
              "      filmeId  ... nota_media\n",
              "7656    88448  ...        5.0\n",
              "8107   100556  ...        5.0\n",
              "9083   143031  ...        5.0\n",
              "9094   143511  ...        5.0\n",
              "9096   143559  ...        5.0\n",
              "...       ...  ...        ...\n",
              "5749    30892  ...        NaN\n",
              "5824    32160  ...        NaN\n",
              "5837    32371  ...        NaN\n",
              "5957    34482  ...        NaN\n",
              "7565    85565  ...        NaN\n",
              "\n",
              "[9742 rows x 4 columns]"
            ]
          },
          "metadata": {
            "tags": []
          },
          "execution_count": 4
        }
      ]
    },
    {
      "cell_type": "code",
      "metadata": {
        "id": "qI9ZH9akU75e",
        "outputId": "552f63a6-1974-41fd-cfd2-d1f2469ab01c",
        "colab": {
          "base_uri": "https://localhost:8080/",
          "height": 504
        }
      },
      "source": [
        "notas_por_filme = avaliacoes.groupby(\"filmeId\")[\"nota\"].count()\n",
        "filmes_com_media_e_total = filmes_com_media.join(notas_por_filme, on = \"filmeId\")\n",
        "\n",
        "filmes_com_media_e_total = filmes_com_media_e_total.rename(columns={'nota': 'total_avaliacoes'})\n",
        "filmes_com_media_e_total\n"
      ],
      "execution_count": null,
      "outputs": [
        {
          "output_type": "execute_result",
          "data": {
            "text/html": [
              "<div>\n",
              "<style scoped>\n",
              "    .dataframe tbody tr th:only-of-type {\n",
              "        vertical-align: middle;\n",
              "    }\n",
              "\n",
              "    .dataframe tbody tr th {\n",
              "        vertical-align: top;\n",
              "    }\n",
              "\n",
              "    .dataframe thead th {\n",
              "        text-align: right;\n",
              "    }\n",
              "</style>\n",
              "<table border=\"1\" class=\"dataframe\">\n",
              "  <thead>\n",
              "    <tr style=\"text-align: right;\">\n",
              "      <th></th>\n",
              "      <th>filmeId</th>\n",
              "      <th>titulo</th>\n",
              "      <th>generos</th>\n",
              "      <th>nota_media</th>\n",
              "      <th>total_avaliacoes</th>\n",
              "    </tr>\n",
              "  </thead>\n",
              "  <tbody>\n",
              "    <tr>\n",
              "      <th>0</th>\n",
              "      <td>1</td>\n",
              "      <td>Toy Story (1995)</td>\n",
              "      <td>Adventure|Animation|Children|Comedy|Fantasy</td>\n",
              "      <td>3.920930</td>\n",
              "      <td>215.0</td>\n",
              "    </tr>\n",
              "    <tr>\n",
              "      <th>1</th>\n",
              "      <td>2</td>\n",
              "      <td>Jumanji (1995)</td>\n",
              "      <td>Adventure|Children|Fantasy</td>\n",
              "      <td>3.431818</td>\n",
              "      <td>110.0</td>\n",
              "    </tr>\n",
              "    <tr>\n",
              "      <th>2</th>\n",
              "      <td>3</td>\n",
              "      <td>Grumpier Old Men (1995)</td>\n",
              "      <td>Comedy|Romance</td>\n",
              "      <td>3.259615</td>\n",
              "      <td>52.0</td>\n",
              "    </tr>\n",
              "    <tr>\n",
              "      <th>3</th>\n",
              "      <td>4</td>\n",
              "      <td>Waiting to Exhale (1995)</td>\n",
              "      <td>Comedy|Drama|Romance</td>\n",
              "      <td>2.357143</td>\n",
              "      <td>7.0</td>\n",
              "    </tr>\n",
              "    <tr>\n",
              "      <th>4</th>\n",
              "      <td>5</td>\n",
              "      <td>Father of the Bride Part II (1995)</td>\n",
              "      <td>Comedy</td>\n",
              "      <td>3.071429</td>\n",
              "      <td>49.0</td>\n",
              "    </tr>\n",
              "    <tr>\n",
              "      <th>...</th>\n",
              "      <td>...</td>\n",
              "      <td>...</td>\n",
              "      <td>...</td>\n",
              "      <td>...</td>\n",
              "      <td>...</td>\n",
              "    </tr>\n",
              "    <tr>\n",
              "      <th>9737</th>\n",
              "      <td>193581</td>\n",
              "      <td>Black Butler: Book of the Atlantic (2017)</td>\n",
              "      <td>Action|Animation|Comedy|Fantasy</td>\n",
              "      <td>4.000000</td>\n",
              "      <td>1.0</td>\n",
              "    </tr>\n",
              "    <tr>\n",
              "      <th>9738</th>\n",
              "      <td>193583</td>\n",
              "      <td>No Game No Life: Zero (2017)</td>\n",
              "      <td>Animation|Comedy|Fantasy</td>\n",
              "      <td>3.500000</td>\n",
              "      <td>1.0</td>\n",
              "    </tr>\n",
              "    <tr>\n",
              "      <th>9739</th>\n",
              "      <td>193585</td>\n",
              "      <td>Flint (2017)</td>\n",
              "      <td>Drama</td>\n",
              "      <td>3.500000</td>\n",
              "      <td>1.0</td>\n",
              "    </tr>\n",
              "    <tr>\n",
              "      <th>9740</th>\n",
              "      <td>193587</td>\n",
              "      <td>Bungo Stray Dogs: Dead Apple (2018)</td>\n",
              "      <td>Action|Animation</td>\n",
              "      <td>3.500000</td>\n",
              "      <td>1.0</td>\n",
              "    </tr>\n",
              "    <tr>\n",
              "      <th>9741</th>\n",
              "      <td>193609</td>\n",
              "      <td>Andrew Dice Clay: Dice Rules (1991)</td>\n",
              "      <td>Comedy</td>\n",
              "      <td>4.000000</td>\n",
              "      <td>1.0</td>\n",
              "    </tr>\n",
              "  </tbody>\n",
              "</table>\n",
              "<p>9742 rows × 5 columns</p>\n",
              "</div>"
            ],
            "text/plain": [
              "      filmeId  ... total_avaliacoes\n",
              "0           1  ...            215.0\n",
              "1           2  ...            110.0\n",
              "2           3  ...             52.0\n",
              "3           4  ...              7.0\n",
              "4           5  ...             49.0\n",
              "...       ...  ...              ...\n",
              "9737   193581  ...              1.0\n",
              "9738   193583  ...              1.0\n",
              "9739   193585  ...              1.0\n",
              "9740   193587  ...              1.0\n",
              "9741   193609  ...              1.0\n",
              "\n",
              "[9742 rows x 5 columns]"
            ]
          },
          "metadata": {
            "tags": []
          },
          "execution_count": 5
        }
      ]
    },
    {
      "cell_type": "markdown",
      "metadata": {
        "id": "97Gxt8RlPFEj"
      },
      "source": [
        "##Desafio 1 do [Guilherme Silveira](https://twitter.com/guilhermecaelum)\n",
        "\n",
        "Rotacionar os thicks (os nomes dos generos) do gráfico de barras verdes (o último), de forma a deixar as legendas mais legíveis."
      ]
    },
    {
      "cell_type": "code",
      "metadata": {
        "id": "w7IC34TyCTbz",
        "outputId": "d9311c99-7181-43e2-fdb1-277204d6211d",
        "colab": {
          "base_uri": "https://localhost:8080/",
          "height": 479
        }
      },
      "source": [
        "sns.set_style(\"whitegrid\")\n",
        "\n",
        "filmes_por_genero = filmes[\"generos\"].str.get_dummies('|').sum().sort_values(ascending=False)\n",
        "plt.figure(figsize=(16,8))\n",
        "sns.barplot(x=filmes_por_genero.index,\n",
        "            y=filmes_por_genero.values,\n",
        "            palette=sns.color_palette(\"BuGn_r\", n_colors=len(filmes_por_genero) + 4))\n",
        "\n",
        "# rotaciona os nomes dos generos\n",
        "plt.xticks(rotation=45)\n",
        "plt.show()"
      ],
      "execution_count": null,
      "outputs": [
        {
          "output_type": "display_data",
          "data": {
            "image/png": "[encoded data removed]",
            "text/plain": [
              "<Figure size 1152x576 with 1 Axes>"
            ]
          },
          "metadata": {
            "tags": []
          }
        }
      ]
    },
    {
      "cell_type": "markdown",
      "metadata": {
        "id": "5uIsDpkAz8oa"
      },
      "source": [
        "## Desafio 2 do [Paulo Silveira](https://twitter.com/paulo_caelum)\n",
        "\n",
        "Encontar vários filmes com médias próximas e distribuições diferentes, use a função **plot_filmes(n)** para plotar."
      ]
    },
    {
      "cell_type": "code",
      "metadata": {
        "id": "2Q3wNpB4C-iV"
      },
      "source": [
        "def plot_filme(n):\n",
        "  '''\n",
        "  -> Plota um histograma e um gráfico de caixa das notas do filme de ID n e\n",
        "  retorna um describe do Pandas\n",
        "\n",
        "  -> Parâmetros:\n",
        "          n: ID do filme que será analizado\n",
        "  \n",
        "  -> Return:\n",
        "          describe do Pandas \n",
        "  '''\n",
        "  notas_do_filme = avaliacoes.query(f\"filmeId=={n}\")[\"nota\"]\n",
        "  nome_filme = filmes.query(f\"filmeId=={n}\")[\"titulo\"].values\n",
        "  \n",
        "  print(\"Filme: \",nome_filme[0])\n",
        "  notas_do_filme.plot(kind='hist')\n",
        "  plt.show()\n",
        "  notas_do_filme.plot.box()\n",
        "  plt.show()\n",
        "  \n",
        "  return notas_do_filme.describe()"
      ],
      "execution_count": null,
      "outputs": []
    },
    {
      "cell_type": "code",
      "metadata": {
        "id": "1MqsUM1zLfVx",
        "outputId": "3475f135-eb02-4bc8-fd1c-8f79e51cd518",
        "colab": {
          "base_uri": "https://localhost:8080/",
          "height": 683
        }
      },
      "source": [
        "plot_filme(260)"
      ],
      "execution_count": null,
      "outputs": [
        {
          "output_type": "stream",
          "text": [
            "Filme:  Star Wars: Episode IV - A New Hope (1977)\n"
          ],
          "name": "stdout"
        },
        {
          "output_type": "display_data",
          "data": {
            "image/png": "[encoded data removed]",
            "text/plain": [
              "<Figure size 432x288 with 1 Axes>"
            ]
          },
          "metadata": {
            "tags": []
          }
        },
        {
          "output_type": "display_data",
          "data": {
            "image/png": "[encoded data removed]",
            "text/plain": [
              "<Figure size 432x288 with 1 Axes>"
            ]
          },
          "metadata": {
            "tags": []
          }
        },
        {
          "output_type": "execute_result",
          "data": {
            "text/plain": [
              "count    251.000000\n",
              "mean       4.231076\n",
              "std        0.872004\n",
              "min        0.500000\n",
              "25%        4.000000\n",
              "50%        4.500000\n",
              "75%        5.000000\n",
              "max        5.000000\n",
              "Name: nota, dtype: float64"
            ]
          },
          "metadata": {
            "tags": []
          },
          "execution_count": 8
        }
      ]
    },
    {
      "cell_type": "markdown",
      "metadata": {
        "id": "NStHNYlcQrhs"
      },
      "source": [
        "## Desafio 3 do [Paulo Silveira](https://twitter.com/paulo_caelum)\n",
        "\n",
        " Criar o boxplot dos 10 filmes com mais votos (não é com maior média, é com mais votos!). Não apenas plot mas também analise e tente tirar conclusões."
      ]
    },
    {
      "cell_type": "code",
      "metadata": {
        "id": "W6ln8H5VFEMI",
        "outputId": "961e517c-8fb2-42d4-9ecd-c51afad8d060",
        "colab": {
          "base_uri": "https://localhost:8080/",
          "height": 71
        }
      },
      "source": [
        "top10_mais_votos = filmes_com_media_e_total.sort_values(\"total_avaliacoes\",\n",
        "                                                        ascending=False).head(10)\n",
        "top10_mais_votos_titulos = top10_mais_votos[\"titulo\"].to_list()\n",
        "top10_mais_votos_ids = top10_mais_votos['filmeId'].to_list()\n",
        "print(top10_mais_votos_titulos)\n",
        "print(top10_mais_votos_ids)"
      ],
      "execution_count": null,
      "outputs": [
        {
          "output_type": "stream",
          "text": [
            "['Forrest Gump (1994)', 'Shawshank Redemption, The (1994)', 'Pulp Fiction (1994)', 'Silence of the Lambs, The (1991)', 'Matrix, The (1999)', 'Star Wars: Episode IV - A New Hope (1977)', 'Jurassic Park (1993)', 'Braveheart (1995)', 'Terminator 2: Judgment Day (1991)', \"Schindler's List (1993)\"]\n",
            "[356, 318, 296, 593, 2571, 260, 480, 110, 589, 527]\n"
          ],
          "name": "stdout"
        }
      ]
    },
    {
      "cell_type": "code",
      "metadata": {
        "id": "Ndi94yDEFhMu",
        "outputId": "f6133ca9-2339-41be-ab3b-969d35a55927",
        "colab": {
          "base_uri": "https://localhost:8080/",
          "height": 497
        }
      },
      "source": [
        "plt.figure(figsize=(20,8))\n",
        "cx = sns.boxplot(data=avaliacoes.query(\"filmeId in @top10_mais_votos_ids\"),\n",
        "            x=\"filmeId\", y=\"nota\")\n",
        "\n",
        "# Montagem do boxplot\n",
        "cx.set_xticklabels(top10_mais_votos_titulos, fontsize=12)\n",
        "cx.set_xlabel(\"Filme\", fontsize=16)\n",
        "cx.set_ylabel(\"Nota\", fontsize=16)\n",
        "plt.xticks(rotation=45)\n",
        "\n",
        "plt.show()"
      ],
      "execution_count": null,
      "outputs": [
        {
          "output_type": "display_data",
          "data": {
            "image/png": "[encoded data removed]",
            "text/plain": [
              "<Figure size 1440x576 with 1 Axes>"
            ]
          },
          "metadata": {
            "tags": []
          }
        }
      ]
    },
    {
      "cell_type": "markdown",
      "metadata": {
        "id": "0ogSopISSYqK"
      },
      "source": [
        "## Desafio 4 do [Guilherme Silveira](https://twitter.com/guilhermecaelum)\n",
        "\n",
        "Configurar a visualização do boxplot gerado pelo seaborn (último boxplot plotado na aula). Configurar o tamanho e colocar o nome dos filmes nos thicks.\n"
      ]
    },
    {
      "cell_type": "code",
      "metadata": {
        "id": "bYOoaluK67s9",
        "outputId": "341ff72a-289c-44ad-faaa-ccdbe6d917f9",
        "colab": {
          "base_uri": "https://localhost:8080/",
          "height": 396
        }
      },
      "source": [
        "# Maneira Alura\n",
        "# Foi feito algo parecido na questão 3\n",
        "plt.figure(figsize=(12, 6))\n",
        "ax = sns.boxplot(data = avaliacoes.query(\"filmeId in [1,2,919,46578]\"), x=\"filmeId\", y=\"nota\")\n",
        "\n",
        "ax.set_xticklabels(filmes.query(\"filmeId in [1,2,919,46578]\")['titulo'], fontsize=12)\n",
        "ax.set_xlabel(\"Filme\", fontsize=16)\n",
        "ax.set_ylabel(\"Nota\", fontsize=16)\n",
        "plt.show()"
      ],
      "execution_count": null,
      "outputs": [
        {
          "output_type": "display_data",
          "data": {
            "image/png": "[encoded data removed]",
            "text/plain": [
              "<Figure size 864x432 with 1 Axes>"
            ]
          },
          "metadata": {
            "tags": []
          }
        }
      ]
    },
    {
      "cell_type": "markdown",
      "metadata": {
        "id": "xpVPzWlhTjiw"
      },
      "source": [
        "## Desafio 5 do [Allan Spadini](https://twitter.com/allanspadini)\n",
        "\n",
        "Calcular moda, média e mediana dos filmes. Explore filmes com notas mais próximas de 0.5, 3 e 5."
      ]
    },
    {
      "cell_type": "code",
      "metadata": {
        "id": "FXzN6lwOQM-T"
      },
      "source": [
        "# Moda das notas de cada filme\n",
        "moda_filmes = avaliacoes.groupby(\"filmeId\")[\"nota\"].agg(pd.Series.mode)\n",
        "\n",
        "# Mediana das notas de cada filme\n",
        "mediana_filmes = avaliacoes.groupby(\"filmeId\")[\"nota\"].median()\n",
        "\n",
        "# Monta um novo dataframe com a moda a média e a mediana de cada filme\n",
        "est_filmes = filmes_com_media.join(moda_filmes, on = \"filmeId\")\n",
        "est_filmes = est_filmes.rename(columns={\"nota\":\"nota_moda\"})\n",
        "basic_est_filmes = est_filmes.join(mediana_filmes, on = \"filmeId\")\n",
        "basic_est_filmes = basic_est_filmes.rename(columns={\"nota\":\"nota_mediana\"})\n"
      ],
      "execution_count": null,
      "outputs": []
    },
    {
      "cell_type": "code",
      "metadata": {
        "id": "O_orzAfLVaXq",
        "outputId": "ca95745f-8ea3-4ce8-9860-93ed562ac7c4",
        "colab": {
          "base_uri": "https://localhost:8080/",
          "height": 572
        }
      },
      "source": [
        "basic_est_filmes"
      ],
      "execution_count": null,
      "outputs": [
        {
          "output_type": "execute_result",
          "data": {
            "text/html": [
              "<div>\n",
              "<style scoped>\n",
              "    .dataframe tbody tr th:only-of-type {\n",
              "        vertical-align: middle;\n",
              "    }\n",
              "\n",
              "    .dataframe tbody tr th {\n",
              "        vertical-align: top;\n",
              "    }\n",
              "\n",
              "    .dataframe thead th {\n",
              "        text-align: right;\n",
              "    }\n",
              "</style>\n",
              "<table border=\"1\" class=\"dataframe\">\n",
              "  <thead>\n",
              "    <tr style=\"text-align: right;\">\n",
              "      <th></th>\n",
              "      <th>filmeId</th>\n",
              "      <th>titulo</th>\n",
              "      <th>generos</th>\n",
              "      <th>nota_media</th>\n",
              "      <th>nota_moda</th>\n",
              "      <th>nota_mediana</th>\n",
              "    </tr>\n",
              "  </thead>\n",
              "  <tbody>\n",
              "    <tr>\n",
              "      <th>0</th>\n",
              "      <td>1</td>\n",
              "      <td>Toy Story (1995)</td>\n",
              "      <td>Adventure|Animation|Children|Comedy|Fantasy</td>\n",
              "      <td>3.920930</td>\n",
              "      <td>4</td>\n",
              "      <td>4.0</td>\n",
              "    </tr>\n",
              "    <tr>\n",
              "      <th>1</th>\n",
              "      <td>2</td>\n",
              "      <td>Jumanji (1995)</td>\n",
              "      <td>Adventure|Children|Fantasy</td>\n",
              "      <td>3.431818</td>\n",
              "      <td>4</td>\n",
              "      <td>3.5</td>\n",
              "    </tr>\n",
              "    <tr>\n",
              "      <th>2</th>\n",
              "      <td>3</td>\n",
              "      <td>Grumpier Old Men (1995)</td>\n",
              "      <td>Comedy|Romance</td>\n",
              "      <td>3.259615</td>\n",
              "      <td>3</td>\n",
              "      <td>3.0</td>\n",
              "    </tr>\n",
              "    <tr>\n",
              "      <th>3</th>\n",
              "      <td>4</td>\n",
              "      <td>Waiting to Exhale (1995)</td>\n",
              "      <td>Comedy|Drama|Romance</td>\n",
              "      <td>2.357143</td>\n",
              "      <td>3</td>\n",
              "      <td>3.0</td>\n",
              "    </tr>\n",
              "    <tr>\n",
              "      <th>4</th>\n",
              "      <td>5</td>\n",
              "      <td>Father of the Bride Part II (1995)</td>\n",
              "      <td>Comedy</td>\n",
              "      <td>3.071429</td>\n",
              "      <td>3</td>\n",
              "      <td>3.0</td>\n",
              "    </tr>\n",
              "    <tr>\n",
              "      <th>...</th>\n",
              "      <td>...</td>\n",
              "      <td>...</td>\n",
              "      <td>...</td>\n",
              "      <td>...</td>\n",
              "      <td>...</td>\n",
              "      <td>...</td>\n",
              "    </tr>\n",
              "    <tr>\n",
              "      <th>9737</th>\n",
              "      <td>193581</td>\n",
              "      <td>Black Butler: Book of the Atlantic (2017)</td>\n",
              "      <td>Action|Animation|Comedy|Fantasy</td>\n",
              "      <td>4.000000</td>\n",
              "      <td>4</td>\n",
              "      <td>4.0</td>\n",
              "    </tr>\n",
              "    <tr>\n",
              "      <th>9738</th>\n",
              "      <td>193583</td>\n",
              "      <td>No Game No Life: Zero (2017)</td>\n",
              "      <td>Animation|Comedy|Fantasy</td>\n",
              "      <td>3.500000</td>\n",
              "      <td>3.5</td>\n",
              "      <td>3.5</td>\n",
              "    </tr>\n",
              "    <tr>\n",
              "      <th>9739</th>\n",
              "      <td>193585</td>\n",
              "      <td>Flint (2017)</td>\n",
              "      <td>Drama</td>\n",
              "      <td>3.500000</td>\n",
              "      <td>3.5</td>\n",
              "      <td>3.5</td>\n",
              "    </tr>\n",
              "    <tr>\n",
              "      <th>9740</th>\n",
              "      <td>193587</td>\n",
              "      <td>Bungo Stray Dogs: Dead Apple (2018)</td>\n",
              "      <td>Action|Animation</td>\n",
              "      <td>3.500000</td>\n",
              "      <td>3.5</td>\n",
              "      <td>3.5</td>\n",
              "    </tr>\n",
              "    <tr>\n",
              "      <th>9741</th>\n",
              "      <td>193609</td>\n",
              "      <td>Andrew Dice Clay: Dice Rules (1991)</td>\n",
              "      <td>Comedy</td>\n",
              "      <td>4.000000</td>\n",
              "      <td>4</td>\n",
              "      <td>4.0</td>\n",
              "    </tr>\n",
              "  </tbody>\n",
              "</table>\n",
              "<p>9742 rows × 6 columns</p>\n",
              "</div>"
            ],
            "text/plain": [
              "      filmeId  ... nota_mediana\n",
              "0           1  ...          4.0\n",
              "1           2  ...          3.5\n",
              "2           3  ...          3.0\n",
              "3           4  ...          3.0\n",
              "4           5  ...          3.0\n",
              "...       ...  ...          ...\n",
              "9737   193581  ...          4.0\n",
              "9738   193583  ...          3.5\n",
              "9739   193585  ...          3.5\n",
              "9740   193587  ...          3.5\n",
              "9741   193609  ...          4.0\n",
              "\n",
              "[9742 rows x 6 columns]"
            ]
          },
          "metadata": {
            "tags": []
          },
          "execution_count": 12
        }
      ]
    },
    {
      "cell_type": "code",
      "metadata": {
        "id": "wZlSZXl07wQ_"
      },
      "source": [
        "\n",
        "def explora_filme(filme_id):\n",
        "  \"\"\"\n",
        "  -> Mostra a moda, média e mediana de um filme do dataframe. Não retorna nada\n",
        "\n",
        "  -> Parâmetro:\n",
        "        filme_id: ID do filme a ser analisado\n",
        "  \"\"\"\n",
        "  filme = basic_est_filmes.query(f'filmeId == {filme_id}')\n",
        "  \n",
        "  print(f\"Filme: {filme.iloc[0][1]}\")\n",
        "  print()\n",
        "  print(f\"Moda: {filme.iloc[0][4]}\")\n",
        "  print(f\"Média: {filme.iloc[0][3].round(2)}\")\n",
        "  print(f\"Mediana: {filme.iloc[0][5]}\")\n",
        "  print(\"-\"*10)\n"
      ],
      "execution_count": null,
      "outputs": []
    },
    {
      "cell_type": "code",
      "metadata": {
        "id": "5e5rSOqy-GeV",
        "outputId": "a7000c2d-f7cb-446e-ecaf-cc794853e80a",
        "colab": {
          "base_uri": "https://localhost:8080/",
          "height": 323
        }
      },
      "source": [
        "explora_filme(8387)\n",
        "explora_filme(89386)\n",
        "explora_filme(3774)"
      ],
      "execution_count": null,
      "outputs": [
        {
          "output_type": "stream",
          "text": [
            "Filme: Police Academy: Mission to Moscow (1994)\n",
            "\n",
            "Moda: 0.5\n",
            "Média: 0.8\n",
            "Mediana: 0.5\n",
            "----------\n",
            "Filme: Pearl Jam Twenty (2011)\n",
            "\n",
            "Moda: 0.5\n",
            "Média: 0.5\n",
            "Mediana: 0.5\n",
            "----------\n",
            "Filme: House Party 2 (1991)\n",
            "\n",
            "Moda: [0.5 1. ]\n",
            "Média: 0.75\n",
            "Mediana: 0.75\n",
            "----------\n"
          ],
          "name": "stdout"
        }
      ]
    },
    {
      "cell_type": "code",
      "metadata": {
        "id": "f-pLj_sm-MH6",
        "outputId": "6e70c2df-b985-4cc4-fcab-21e1f06d645b",
        "colab": {
          "base_uri": "https://localhost:8080/",
          "height": 323
        }
      },
      "source": [
        "explora_filme(2041)\n",
        "explora_filme(7541)\n",
        "explora_filme(160080)"
      ],
      "execution_count": null,
      "outputs": [
        {
          "output_type": "stream",
          "text": [
            "Filme: Condorman (1981)\n",
            "\n",
            "Moda: 4.0\n",
            "Média: 3.33\n",
            "Mediana: 4.0\n",
            "----------\n",
            "Filme: 100 Girls (2000)\n",
            "\n",
            "Moda: 3.5\n",
            "Média: 3.25\n",
            "Mediana: 3.5\n",
            "----------\n",
            "Filme: Ghostbusters (2016)\n",
            "\n",
            "Moda: [3.  3.5]\n",
            "Média: 3.12\n",
            "Mediana: 3.25\n",
            "----------\n"
          ],
          "name": "stdout"
        }
      ]
    },
    {
      "cell_type": "code",
      "metadata": {
        "id": "5fU0tGaa-rTZ",
        "outputId": "e50b294b-5773-42e7-cf79-3ce9a45f2fe3",
        "colab": {
          "base_uri": "https://localhost:8080/",
          "height": 323
        }
      },
      "source": [
        "explora_filme(177593)\n",
        "explora_filme(1178)\n",
        "explora_filme(4334)"
      ],
      "execution_count": null,
      "outputs": [
        {
          "output_type": "stream",
          "text": [
            "Filme: Three Billboards Outside Ebbing, Missouri (2017)\n",
            "\n",
            "Moda: [4.5 5. ]\n",
            "Média: 4.75\n",
            "Mediana: 4.75\n",
            "----------\n",
            "Filme: Paths of Glory (1957)\n",
            "\n",
            "Moda: 5.0\n",
            "Média: 4.54\n",
            "Mediana: 4.75\n",
            "----------\n",
            "Filme: Yi Yi (2000)\n",
            "\n",
            "Moda: 5.0\n",
            "Média: 4.6\n",
            "Mediana: 5.0\n",
            "----------\n"
          ],
          "name": "stdout"
        }
      ]
    },
    {
      "cell_type": "markdown",
      "metadata": {
        "id": "E1X5ReBxUNZq"
      },
      "source": [
        "## Desafio 6 da [Thais André](https://twitter.com/thais_tandre)\n",
        "\n",
        "Plotar o boxplot e o histograma um do lado do outro (na mesma figura ou em figuras distintas, mas um do lado do outro).\n"
      ]
    },
    {
      "cell_type": "code",
      "metadata": {
        "id": "jpNQnV6aWubP"
      },
      "source": [
        "def plot_filme_sbs(n):\n",
        "  '''\n",
        "  -> Plota um histograma e um gráfico de caixa, lado a lado, das notas do filme \n",
        "  de ID n e retorna um describe do Pandas\n",
        "\n",
        "  -> Parâmetros:\n",
        "          n: ID do filme que será analizado\n",
        "  \n",
        "  -> Return:\n",
        "          describe do Pandas \n",
        "  '''\n",
        "  notas_do_filme = avaliacoes.query(f\"filmeId=={n}\")[\"nota\"]\n",
        "  nome_filme = filmes.query(f\"filmeId=={n}\")[\"titulo\"].values\n",
        "  \n",
        "  print(\"Filme: \",nome_filme[0])\n",
        "  f, axes = plt.subplots(1, 2, figsize=(16, 6))\n",
        "  notas_do_filme.plot(kind='hist', ax=axes[0])\n",
        "  notas_do_filme.plot(kind='box', ax=axes[1])\n",
        "  plt.tight_layout()\n",
        "\n",
        "  return notas_do_filme.describe()"
      ],
      "execution_count": null,
      "outputs": []
    },
    {
      "cell_type": "code",
      "metadata": {
        "id": "A4685fV0YIA1",
        "outputId": "27b4950c-dde8-4d41-c571-486bfb81f9ba",
        "colab": {
          "base_uri": "https://localhost:8080/",
          "height": 497
        }
      },
      "source": [
        "plot_filme_sbs(260)\n"
      ],
      "execution_count": null,
      "outputs": [
        {
          "output_type": "stream",
          "text": [
            "Filme:  Star Wars: Episode IV - A New Hope (1977)\n"
          ],
          "name": "stdout"
        },
        {
          "output_type": "execute_result",
          "data": {
            "text/plain": [
              "count    251.000000\n",
              "mean       4.231076\n",
              "std        0.872004\n",
              "min        0.500000\n",
              "25%        4.000000\n",
              "50%        4.500000\n",
              "75%        5.000000\n",
              "max        5.000000\n",
              "Name: nota, dtype: float64"
            ]
          },
          "metadata": {
            "tags": []
          },
          "execution_count": 62
        },
        {
          "output_type": "display_data",
          "data": {
            "image/png": "[encoded data removed]",
            "text/plain": [
              "<Figure size 1152x432 with 2 Axes>"
            ]
          },
          "metadata": {
            "tags": []
          }
        }
      ]
    },
    {
      "cell_type": "markdown",
      "metadata": {
        "id": "9sm-sJIPUfte"
      },
      "source": [
        "## Desafio 7 do [Thiago Gonçalves](https://twitter.com/tgcsantos)\n",
        "\n",
        "Criar um gráfico de notas médias por ano (média geral considerando todos os filmes lançados naquele ano)."
      ]
    },
    {
      "cell_type": "code",
      "metadata": {
        "id": "a8mLhHJPbDtV",
        "outputId": "9e69f9ce-434c-4153-ede0-836258bcdc01",
        "colab": {
          "base_uri": "https://localhost:8080/",
          "height": 419
        }
      },
      "source": [
        "# Cria uma cópia do datafrme\n",
        "filmes_com_media_e_ano = filmes_com_media.copy()\n",
        "\n",
        "# Cria uma nova coluna no dataframe e extrai o ano do título \n",
        "filmes_com_media_e_ano['ano'] = filmes_com_media['titulo'].str.extract(\"\\((\\d{4})\\)\")\n",
        "filmes_com_media_e_ano"
      ],
      "execution_count": null,
      "outputs": [
        {
          "output_type": "execute_result",
          "data": {
            "text/html": [
              "<div>\n",
              "<style scoped>\n",
              "    .dataframe tbody tr th:only-of-type {\n",
              "        vertical-align: middle;\n",
              "    }\n",
              "\n",
              "    .dataframe tbody tr th {\n",
              "        vertical-align: top;\n",
              "    }\n",
              "\n",
              "    .dataframe thead th {\n",
              "        text-align: right;\n",
              "    }\n",
              "</style>\n",
              "<table border=\"1\" class=\"dataframe\">\n",
              "  <thead>\n",
              "    <tr style=\"text-align: right;\">\n",
              "      <th></th>\n",
              "      <th>filmeId</th>\n",
              "      <th>titulo</th>\n",
              "      <th>generos</th>\n",
              "      <th>nota_media</th>\n",
              "      <th>ano</th>\n",
              "    </tr>\n",
              "  </thead>\n",
              "  <tbody>\n",
              "    <tr>\n",
              "      <th>0</th>\n",
              "      <td>1</td>\n",
              "      <td>Toy Story (1995)</td>\n",
              "      <td>Adventure|Animation|Children|Comedy|Fantasy</td>\n",
              "      <td>3.920930</td>\n",
              "      <td>1995</td>\n",
              "    </tr>\n",
              "    <tr>\n",
              "      <th>1</th>\n",
              "      <td>2</td>\n",
              "      <td>Jumanji (1995)</td>\n",
              "      <td>Adventure|Children|Fantasy</td>\n",
              "      <td>3.431818</td>\n",
              "      <td>1995</td>\n",
              "    </tr>\n",
              "    <tr>\n",
              "      <th>2</th>\n",
              "      <td>3</td>\n",
              "      <td>Grumpier Old Men (1995)</td>\n",
              "      <td>Comedy|Romance</td>\n",
              "      <td>3.259615</td>\n",
              "      <td>1995</td>\n",
              "    </tr>\n",
              "    <tr>\n",
              "      <th>3</th>\n",
              "      <td>4</td>\n",
              "      <td>Waiting to Exhale (1995)</td>\n",
              "      <td>Comedy|Drama|Romance</td>\n",
              "      <td>2.357143</td>\n",
              "      <td>1995</td>\n",
              "    </tr>\n",
              "    <tr>\n",
              "      <th>4</th>\n",
              "      <td>5</td>\n",
              "      <td>Father of the Bride Part II (1995)</td>\n",
              "      <td>Comedy</td>\n",
              "      <td>3.071429</td>\n",
              "      <td>1995</td>\n",
              "    </tr>\n",
              "    <tr>\n",
              "      <th>...</th>\n",
              "      <td>...</td>\n",
              "      <td>...</td>\n",
              "      <td>...</td>\n",
              "      <td>...</td>\n",
              "      <td>...</td>\n",
              "    </tr>\n",
              "    <tr>\n",
              "      <th>9737</th>\n",
              "      <td>193581</td>\n",
              "      <td>Black Butler: Book of the Atlantic (2017)</td>\n",
              "      <td>Action|Animation|Comedy|Fantasy</td>\n",
              "      <td>4.000000</td>\n",
              "      <td>2017</td>\n",
              "    </tr>\n",
              "    <tr>\n",
              "      <th>9738</th>\n",
              "      <td>193583</td>\n",
              "      <td>No Game No Life: Zero (2017)</td>\n",
              "      <td>Animation|Comedy|Fantasy</td>\n",
              "      <td>3.500000</td>\n",
              "      <td>2017</td>\n",
              "    </tr>\n",
              "    <tr>\n",
              "      <th>9739</th>\n",
              "      <td>193585</td>\n",
              "      <td>Flint (2017)</td>\n",
              "      <td>Drama</td>\n",
              "      <td>3.500000</td>\n",
              "      <td>2017</td>\n",
              "    </tr>\n",
              "    <tr>\n",
              "      <th>9740</th>\n",
              "      <td>193587</td>\n",
              "      <td>Bungo Stray Dogs: Dead Apple (2018)</td>\n",
              "      <td>Action|Animation</td>\n",
              "      <td>3.500000</td>\n",
              "      <td>2018</td>\n",
              "    </tr>\n",
              "    <tr>\n",
              "      <th>9741</th>\n",
              "      <td>193609</td>\n",
              "      <td>Andrew Dice Clay: Dice Rules (1991)</td>\n",
              "      <td>Comedy</td>\n",
              "      <td>4.000000</td>\n",
              "      <td>1991</td>\n",
              "    </tr>\n",
              "  </tbody>\n",
              "</table>\n",
              "<p>9742 rows × 5 columns</p>\n",
              "</div>"
            ],
            "text/plain": [
              "      filmeId                                     titulo  ... nota_media   ano\n",
              "0           1                           Toy Story (1995)  ...   3.920930  1995\n",
              "1           2                             Jumanji (1995)  ...   3.431818  1995\n",
              "2           3                    Grumpier Old Men (1995)  ...   3.259615  1995\n",
              "3           4                   Waiting to Exhale (1995)  ...   2.357143  1995\n",
              "4           5         Father of the Bride Part II (1995)  ...   3.071429  1995\n",
              "...       ...                                        ...  ...        ...   ...\n",
              "9737   193581  Black Butler: Book of the Atlantic (2017)  ...   4.000000  2017\n",
              "9738   193583               No Game No Life: Zero (2017)  ...   3.500000  2017\n",
              "9739   193585                               Flint (2017)  ...   3.500000  2017\n",
              "9740   193587        Bungo Stray Dogs: Dead Apple (2018)  ...   3.500000  2018\n",
              "9741   193609        Andrew Dice Clay: Dice Rules (1991)  ...   4.000000  1991\n",
              "\n",
              "[9742 rows x 5 columns]"
            ]
          },
          "metadata": {
            "tags": []
          },
          "execution_count": 65
        }
      ]
    },
    {
      "cell_type": "code",
      "metadata": {
        "id": "UfPwNf4UBxQ9",
        "outputId": "ebce6ffe-b6c2-4d5e-c094-de4c13b38cd7",
        "colab": {
          "base_uri": "https://localhost:8080/",
          "height": 419
        }
      },
      "source": [
        "nota_media_por_ano = filmes_com_media_e_ano.groupby('ano')['nota_media'].mean()\n",
        "\n",
        "plt.figure(figsize=(18, 8))\n",
        "nota_media_por_ano.plot()"
      ],
      "execution_count": null,
      "outputs": [
        {
          "output_type": "execute_result",
          "data": {
            "text/plain": [
              "<matplotlib.axes._subplots.AxesSubplot at 0x7f2855f25208>"
            ]
          },
          "metadata": {
            "tags": []
          },
          "execution_count": 67
        },
        {
          "output_type": "display_data",
          "data": {
            "image/png": "[encoded data removed]",
            "text/plain": [
              "<Figure size 1296x576 with 1 Axes>"
            ]
          },
          "metadata": {
            "tags": []
          }
        }
      ]
    }
  ]
}