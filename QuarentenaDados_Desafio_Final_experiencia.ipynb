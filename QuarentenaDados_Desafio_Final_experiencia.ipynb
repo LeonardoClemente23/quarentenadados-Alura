{
  "nbformat": 4,
  "nbformat_minor": 0,
  "metadata": {
    "colab": {
      "name": " QuarentenaDados Desafio Final - experiencia.ipynb",
      "provenance": [],
      "authorship_tag": "ABX9TyOOTjDhJ+KuctIqpvSM90Pm",
      "include_colab_link": true
    },
    "kernelspec": {
      "name": "python3",
      "display_name": "Python 3"
    }
  },
  "cells": [
    {
      "cell_type": "markdown",
      "metadata": {
        "id": "view-in-github",
        "colab_type": "text"
      },
      "source": [
        "<a href=\"https://colab.research.google.com/github/LeonardoClemente23/quarentenadados-Alura/blob/main/QuarentenaDados_Desafio_Final_experiencia.ipynb\" target=\"_parent\"><img src=\"https://colab.research.google.com/assets/colab-badge.svg\" alt=\"Open In Colab\"/></a>"
      ]
    },
    {
      "cell_type": "code",
      "metadata": {
        "id": "AbWcTJWHReHL",
        "outputId": "69c798bc-dbb4-42e9-9d9d-0c4d541f9cef",
        "colab": {
          "base_uri": "https://localhost:8080/",
          "height": 221
        }
      },
      "source": [
        "!pip install scikit-optimize"
      ],
      "execution_count": null,
      "outputs": [
        {
          "output_type": "stream",
          "text": [
            "Collecting scikit-optimize\n",
            "\u001b[?25l  Downloading https://files.pythonhosted.org/packages/5c/87/310b52debfbc0cb79764e5770fa3f5c18f6f0754809ea9e2fc185e1b67d3/scikit_optimize-0.7.4-py2.py3-none-any.whl (80kB)\n",
            "\r\u001b[K     |████                            | 10kB 16.8MB/s eta 0:00:01\r\u001b[K     |████████▏                       | 20kB 3.0MB/s eta 0:00:01\r\u001b[K     |████████████▎                   | 30kB 3.9MB/s eta 0:00:01\r\u001b[K     |████████████████▎               | 40kB 4.4MB/s eta 0:00:01\r\u001b[K     |████████████████████▍           | 51kB 3.5MB/s eta 0:00:01\r\u001b[K     |████████████████████████▌       | 61kB 3.9MB/s eta 0:00:01\r\u001b[K     |████████████████████████████▌   | 71kB 4.2MB/s eta 0:00:01\r\u001b[K     |████████████████████████████████| 81kB 3.3MB/s \n",
            "\u001b[?25hRequirement already satisfied: numpy>=1.11.0 in /usr/local/lib/python3.6/dist-packages (from scikit-optimize) (1.18.4)\n",
            "Collecting pyaml>=16.9\n",
            "  Downloading https://files.pythonhosted.org/packages/15/c4/1310a054d33abc318426a956e7d6df0df76a6ddfa9c66f6310274fb75d42/pyaml-20.4.0-py2.py3-none-any.whl\n",
            "Requirement already satisfied: scipy>=0.18.0 in /usr/local/lib/python3.6/dist-packages (from scikit-optimize) (1.4.1)\n",
            "Requirement already satisfied: joblib>=0.11 in /usr/local/lib/python3.6/dist-packages (from scikit-optimize) (0.15.1)\n",
            "Requirement already satisfied: scikit-learn>=0.19.1 in /usr/local/lib/python3.6/dist-packages (from scikit-optimize) (0.22.2.post1)\n",
            "Requirement already satisfied: PyYAML in /usr/local/lib/python3.6/dist-packages (from pyaml>=16.9->scikit-optimize) (3.13)\n",
            "Installing collected packages: pyaml, scikit-optimize\n",
            "Successfully installed pyaml-20.4.0 scikit-optimize-0.7.4\n"
          ],
          "name": "stdout"
        }
      ]
    },
    {
      "cell_type": "code",
      "metadata": {
        "id": "7KBX4lrpQTH6"
      },
      "source": [
        "import pandas as pd\n",
        "import numpy as np\n",
        "from sklearn.ensemble import GradientBoostingRegressor, RandomForestRegressor\n",
        "from xgboost import XGBRegressor\n",
        "from skopt import dummy_minimize\n",
        "from skopt import gp_minimize\n",
        "from skopt.plots import plot_convergence\n",
        "from sklearn.model_selection import train_test_split, KFold\n",
        "from sklearn.model_selection import RepeatedKFold\n",
        "from sklearn.metrics import mean_squared_error"
      ],
      "execution_count": null,
      "outputs": []
    },
    {
      "cell_type": "code",
      "metadata": {
        "id": "FepFdQH8Tplv"
      },
      "source": [
        "# Abrindo arquivos\n",
        "URI_TREINO    = \"https://github.com/tgcsantos/quaretenadados/blob/master/DADOS_TREINO.csv?raw=true\"\n",
        "URI_TESTE     = \"https://github.com/tgcsantos/quaretenadados/raw/master/DADOS_TESTE.csv?raw=true\"\n",
        "URI_DESAFIOQT = \"https://github.com/tgcsantos/quaretenadados/raw/master/DESAFIOQT.csv?raw=true\"\n",
        "\n",
        "dados_treino  = pd.read_csv(URI_TREINO)\n",
        "dados_teste   = pd.read_csv(URI_TESTE)\n",
        "dados_desafio = pd.read_csv(URI_DESAFIOQT)\n",
        "\n",
        "erro_treino  = \"Erro ao carregar dados de treino\"\n",
        "erro_teste   = \"Erro ao carregar dados de teste\"\n",
        "erro_desafio = \"Erro ao carregar dados de submissão\"\n",
        "\n",
        "assert dados_treino.shape == (150000, 5), erro_treino\n",
        "assert dados_teste.shape == (20000, 5), erro_teste\n",
        "assert dados_desafio.shape == (10000, 5), erro_desafio"
      ],
      "execution_count": null,
      "outputs": []
    },
    {
      "cell_type": "code",
      "metadata": {
        "id": "2iSaDTrjTw6k"
      },
      "source": [
        "# todas as notas menos a nota alvo\n",
        "features = ['NU_NOTA_CN', 'NU_NOTA_CH', 'NU_NOTA_MT', 'NU_NOTA_REDACAO']\n",
        "\n",
        "dados_treino['MEDIAN']  = dados_treino[features].apply(np.median, axis=1)\n",
        "dados_treino['MIN']     = dados_treino[features].apply(np.min, axis=1)\n",
        "dados_treino['MAX']     = dados_treino[features].apply(np.max, axis=1)\n",
        "dados_treino['AVERAGE'] = dados_treino[features].apply(np.average, axis=1)\n",
        "dados_treino['STD']     = dados_treino[features].apply(np.std, axis=1)\n",
        "\n",
        "dados_teste['MEDIAN']  = dados_teste[features].apply(np.median, axis=1)\n",
        "dados_teste['MIN']     = dados_teste[features].apply(np.min, axis=1)\n",
        "dados_teste['MAX']     = dados_teste[features].apply(np.max, axis=1)\n",
        "dados_teste['AVERAGE'] = dados_teste[features].apply(np.average, axis=1)\n",
        "dados_teste['STD']     = dados_teste[features].apply(np.std, axis=1)\n",
        "\n",
        "dados_desafio['MEDIAN']  = dados_desafio[features].apply(np.median, axis=1)\n",
        "dados_desafio['MIN']     = dados_desafio[features].apply(np.min, axis=1)\n",
        "dados_desafio['MAX']     = dados_desafio[features].apply(np.max, axis=1)\n",
        "dados_desafio['AVERAGE'] = dados_desafio[features].apply(np.average, axis=1)\n",
        "dados_desafio['STD']     = dados_desafio[features].apply(np.std, axis=1)"
      ],
      "execution_count": null,
      "outputs": []
    },
    {
      "cell_type": "code",
      "metadata": {
        "id": "QRt_PgYEUFfG",
        "outputId": "392cfed3-e1bd-487d-be47-4ebedb1b5a71",
        "colab": {
          "base_uri": "https://localhost:8080/",
          "height": 419
        }
      },
      "source": [
        "dados_treino"
      ],
      "execution_count": null,
      "outputs": [
        {
          "output_type": "execute_result",
          "data": {
            "text/html": [
              "<div>\n",
              "<style scoped>\n",
              "    .dataframe tbody tr th:only-of-type {\n",
              "        vertical-align: middle;\n",
              "    }\n",
              "\n",
              "    .dataframe tbody tr th {\n",
              "        vertical-align: top;\n",
              "    }\n",
              "\n",
              "    .dataframe thead th {\n",
              "        text-align: right;\n",
              "    }\n",
              "</style>\n",
              "<table border=\"1\" class=\"dataframe\">\n",
              "  <thead>\n",
              "    <tr style=\"text-align: right;\">\n",
              "      <th></th>\n",
              "      <th>NU_NOTA_CN</th>\n",
              "      <th>NU_NOTA_CH</th>\n",
              "      <th>NU_NOTA_LC</th>\n",
              "      <th>NU_NOTA_MT</th>\n",
              "      <th>NU_NOTA_REDACAO</th>\n",
              "      <th>MEDIAN</th>\n",
              "      <th>MIN</th>\n",
              "      <th>MAX</th>\n",
              "      <th>AVERAGE</th>\n",
              "      <th>STD</th>\n",
              "    </tr>\n",
              "  </thead>\n",
              "  <tbody>\n",
              "    <tr>\n",
              "      <th>0</th>\n",
              "      <td>530.7</td>\n",
              "      <td>586.5</td>\n",
              "      <td>575.9</td>\n",
              "      <td>539.0</td>\n",
              "      <td>520.0</td>\n",
              "      <td>534.85</td>\n",
              "      <td>520.0</td>\n",
              "      <td>586.5</td>\n",
              "      <td>544.050</td>\n",
              "      <td>25.417169</td>\n",
              "    </tr>\n",
              "    <tr>\n",
              "      <th>1</th>\n",
              "      <td>439.4</td>\n",
              "      <td>577.9</td>\n",
              "      <td>440.9</td>\n",
              "      <td>488.7</td>\n",
              "      <td>380.0</td>\n",
              "      <td>464.05</td>\n",
              "      <td>380.0</td>\n",
              "      <td>577.9</td>\n",
              "      <td>471.500</td>\n",
              "      <td>72.490448</td>\n",
              "    </tr>\n",
              "    <tr>\n",
              "      <th>2</th>\n",
              "      <td>414.1</td>\n",
              "      <td>548.8</td>\n",
              "      <td>417.2</td>\n",
              "      <td>382.6</td>\n",
              "      <td>600.0</td>\n",
              "      <td>481.45</td>\n",
              "      <td>382.6</td>\n",
              "      <td>600.0</td>\n",
              "      <td>486.375</td>\n",
              "      <td>90.554469</td>\n",
              "    </tr>\n",
              "    <tr>\n",
              "      <th>3</th>\n",
              "      <td>407.9</td>\n",
              "      <td>572.7</td>\n",
              "      <td>558.9</td>\n",
              "      <td>595.4</td>\n",
              "      <td>560.0</td>\n",
              "      <td>566.35</td>\n",
              "      <td>407.9</td>\n",
              "      <td>595.4</td>\n",
              "      <td>534.000</td>\n",
              "      <td>73.900034</td>\n",
              "    </tr>\n",
              "    <tr>\n",
              "      <th>4</th>\n",
              "      <td>617.2</td>\n",
              "      <td>655.7</td>\n",
              "      <td>564.2</td>\n",
              "      <td>660.9</td>\n",
              "      <td>540.0</td>\n",
              "      <td>636.45</td>\n",
              "      <td>540.0</td>\n",
              "      <td>660.9</td>\n",
              "      <td>618.450</td>\n",
              "      <td>48.336141</td>\n",
              "    </tr>\n",
              "    <tr>\n",
              "      <th>...</th>\n",
              "      <td>...</td>\n",
              "      <td>...</td>\n",
              "      <td>...</td>\n",
              "      <td>...</td>\n",
              "      <td>...</td>\n",
              "      <td>...</td>\n",
              "      <td>...</td>\n",
              "      <td>...</td>\n",
              "      <td>...</td>\n",
              "      <td>...</td>\n",
              "    </tr>\n",
              "    <tr>\n",
              "      <th>149995</th>\n",
              "      <td>587.8</td>\n",
              "      <td>644.1</td>\n",
              "      <td>621.4</td>\n",
              "      <td>714.4</td>\n",
              "      <td>840.0</td>\n",
              "      <td>679.25</td>\n",
              "      <td>587.8</td>\n",
              "      <td>840.0</td>\n",
              "      <td>696.575</td>\n",
              "      <td>94.172830</td>\n",
              "    </tr>\n",
              "    <tr>\n",
              "      <th>149996</th>\n",
              "      <td>385.0</td>\n",
              "      <td>525.6</td>\n",
              "      <td>473.2</td>\n",
              "      <td>446.2</td>\n",
              "      <td>520.0</td>\n",
              "      <td>483.10</td>\n",
              "      <td>385.0</td>\n",
              "      <td>525.6</td>\n",
              "      <td>469.200</td>\n",
              "      <td>57.836494</td>\n",
              "    </tr>\n",
              "    <tr>\n",
              "      <th>149997</th>\n",
              "      <td>471.0</td>\n",
              "      <td>558.7</td>\n",
              "      <td>582.4</td>\n",
              "      <td>542.9</td>\n",
              "      <td>460.0</td>\n",
              "      <td>506.95</td>\n",
              "      <td>460.0</td>\n",
              "      <td>558.7</td>\n",
              "      <td>508.150</td>\n",
              "      <td>43.189727</td>\n",
              "    </tr>\n",
              "    <tr>\n",
              "      <th>149998</th>\n",
              "      <td>476.7</td>\n",
              "      <td>463.5</td>\n",
              "      <td>553.3</td>\n",
              "      <td>434.0</td>\n",
              "      <td>0.0</td>\n",
              "      <td>448.75</td>\n",
              "      <td>0.0</td>\n",
              "      <td>476.7</td>\n",
              "      <td>343.550</td>\n",
              "      <td>198.950201</td>\n",
              "    </tr>\n",
              "    <tr>\n",
              "      <th>149999</th>\n",
              "      <td>637.8</td>\n",
              "      <td>611.5</td>\n",
              "      <td>533.9</td>\n",
              "      <td>731.7</td>\n",
              "      <td>600.0</td>\n",
              "      <td>624.65</td>\n",
              "      <td>600.0</td>\n",
              "      <td>731.7</td>\n",
              "      <td>645.250</td>\n",
              "      <td>51.758405</td>\n",
              "    </tr>\n",
              "  </tbody>\n",
              "</table>\n",
              "<p>150000 rows × 10 columns</p>\n",
              "</div>"
            ],
            "text/plain": [
              "        NU_NOTA_CN  NU_NOTA_CH  NU_NOTA_LC  ...    MAX  AVERAGE         STD\n",
              "0            530.7       586.5       575.9  ...  586.5  544.050   25.417169\n",
              "1            439.4       577.9       440.9  ...  577.9  471.500   72.490448\n",
              "2            414.1       548.8       417.2  ...  600.0  486.375   90.554469\n",
              "3            407.9       572.7       558.9  ...  595.4  534.000   73.900034\n",
              "4            617.2       655.7       564.2  ...  660.9  618.450   48.336141\n",
              "...            ...         ...         ...  ...    ...      ...         ...\n",
              "149995       587.8       644.1       621.4  ...  840.0  696.575   94.172830\n",
              "149996       385.0       525.6       473.2  ...  525.6  469.200   57.836494\n",
              "149997       471.0       558.7       582.4  ...  558.7  508.150   43.189727\n",
              "149998       476.7       463.5       553.3  ...  476.7  343.550  198.950201\n",
              "149999       637.8       611.5       533.9  ...  731.7  645.250   51.758405\n",
              "\n",
              "[150000 rows x 10 columns]"
            ]
          },
          "metadata": {
            "tags": []
          },
          "execution_count": 6
        }
      ]
    },
    {
      "cell_type": "code",
      "metadata": {
        "id": "X7CFtgJJUb_j"
      },
      "source": [
        "# remove casos de 100% notas zero\n",
        "dados_treino  = dados_treino.replace(0, np.NaN).dropna(how='all').fillna(0)\n",
        "dados_teste   = dados_teste.replace(0, np.NaN).dropna(how='all').fillna(0)\n",
        "dados_desafio = dados_desafio.replace(0, np.NaN).dropna(how='all').fillna(0)"
      ],
      "execution_count": null,
      "outputs": []
    },
    {
      "cell_type": "code",
      "metadata": {
        "id": "P2-KfPF8Usd6",
        "outputId": "9168ed42-d6da-4184-9671-d9866be8ff61",
        "colab": {
          "base_uri": "https://localhost:8080/",
          "height": 34
        }
      },
      "source": [
        "dados_treino.shape, dados_teste.shape, dados_desafio.shape"
      ],
      "execution_count": null,
      "outputs": [
        {
          "output_type": "execute_result",
          "data": {
            "text/plain": [
              "((149999, 10), (20000, 10), (10000, 10))"
            ]
          },
          "metadata": {
            "tags": []
          },
          "execution_count": 8
        }
      ]
    },
    {
      "cell_type": "code",
      "metadata": {
        "id": "QDM-rsYAU7uC"
      },
      "source": [
        "\n",
        "dados_treino_zeronan       = dados_treino[features].replace(0, np.NaN)\n",
        "dados_treino['NZ_MEDIAN']  = dados_treino_zeronan[features].apply(np.nanmedian, axis=1)\n",
        "dados_treino['NZ_MIN']     = dados_treino_zeronan[features].apply(np.nanmin, axis=1)\n",
        "dados_treino['NZ_AVERAGE'] = dados_treino_zeronan[features].apply(np.nanmean, axis=1)\n",
        "dados_treino['NZ_STD']     = dados_treino_zeronan[features].apply(np.nanstd, axis=1)\n",
        "\n",
        "dados_teste_zeronan       = dados_teste[features].replace(0, np.NaN)\n",
        "dados_teste['NZ_MEDIAN']  = dados_teste_zeronan[features].apply(np.nanmedian, axis=1)\n",
        "dados_teste['NZ_MIN']     = dados_teste_zeronan[features].apply(np.nanmin, axis=1)\n",
        "dados_teste['NZ_AVERAGE'] = dados_teste_zeronan[features].apply(np.nanmean, axis=1)\n",
        "dados_teste['NZ_STD']     = dados_teste_zeronan[features].apply(np.nanstd, axis=1)\n",
        "\n",
        "dados_desafio_zeronan       = dados_desafio[features].replace(0, np.NaN)\n",
        "dados_desafio['NZ_MEDIAN']  = dados_desafio_zeronan[features].apply(np.nanmedian, axis=1)\n",
        "dados_desafio['NZ_MIN']     = dados_desafio_zeronan[features].apply(np.nanmin, axis=1)\n",
        "dados_desafio['NZ_AVERAGE'] = dados_desafio_zeronan[features].apply(np.nanmean, axis=1)\n",
        "dados_desafio['NZ_STD']     = dados_desafio_zeronan[features].apply(np.nanstd, axis=1)"
      ],
      "execution_count": null,
      "outputs": []
    },
    {
      "cell_type": "code",
      "metadata": {
        "id": "wErYH_e8VaF1",
        "outputId": "03703504-8099-43ed-8196-e01b6c5ac955",
        "colab": {
          "base_uri": "https://localhost:8080/",
          "height": 34
        }
      },
      "source": [
        "dados_treino.shape, dados_teste.shape, dados_desafio.shape"
      ],
      "execution_count": null,
      "outputs": [
        {
          "output_type": "execute_result",
          "data": {
            "text/plain": [
              "((149999, 14), (20000, 14), (10000, 14))"
            ]
          },
          "metadata": {
            "tags": []
          },
          "execution_count": 11
        }
      ]
    },
    {
      "cell_type": "code",
      "metadata": {
        "id": "5gPcM_d-Vfxx"
      },
      "source": [
        "np.random.seed(0)\n",
        "coluna_target = 'NU_NOTA_LC'\n",
        "coluna_features = features + ['MEDIAN', 'MIN', 'MAX', 'AVERAGE', 'STD', 'NZ_MEDIAN', 'NZ_MIN', 'NZ_AVERAGE', 'NZ_STD']\n",
        "\n",
        "selected = np.random.choice(list(range(1,150000)), 20000, replace=False)\n",
        "X_train = dados_treino.loc[selected, coluna_features]\n",
        "y_train = dados_treino.loc[selected, coluna_target]\n",
        "\n",
        "X_train_real = dados_treino[coluna_features]\n",
        "y_train_real = dados_treino[coluna_target]\n",
        "\n",
        "X_test = dados_teste[coluna_features]\n",
        "y_test = dados_teste[coluna_target]\n",
        "\n",
        "X_desafio = dados_desafio[coluna_features]"
      ],
      "execution_count": null,
      "outputs": []
    },
    {
      "cell_type": "markdown",
      "metadata": {
        "id": "XELYJ-p0oNeq"
      },
      "source": [
        "# **Otimização de Modelos**\n",
        "\n"
      ]
    },
    {
      "cell_type": "markdown",
      "metadata": {
        "id": "CtdwIbPsqUuJ"
      },
      "source": [
        "- **Random Forest Regressor**"
      ]
    },
    {
      "cell_type": "code",
      "metadata": {
        "id": "gFcJO_pTWv_C"
      },
      "source": [
        "modelo_padrao = RandomForestRegressor(n_jobs=-1,random_state=0,)\n",
        "modelo_padrao.fit(X_train,y_train)\n",
        "predicao_referencia = modelo_padrao.predict(X_test)"
      ],
      "execution_count": null,
      "outputs": []
    },
    {
      "cell_type": "code",
      "metadata": {
        "id": "2ECQWSQ5k3jV",
        "outputId": "21d86bac-5e93-49ad-f43a-b6c25d21513d",
        "colab": {
          "base_uri": "https://localhost:8080/",
          "height": 34
        }
      },
      "source": [
        "score_referencia = mean_squared_error(y_test,predicao_referencia)\n",
        "score_referencia"
      ],
      "execution_count": null,
      "outputs": [
        {
          "output_type": "execute_result",
          "data": {
            "text/plain": [
              "2217.3399825301503"
            ]
          },
          "metadata": {
            "tags": []
          },
          "execution_count": 131
        }
      ]
    },
    {
      "cell_type": "code",
      "metadata": {
        "id": "4l1F96O1mLmo"
      },
      "source": [
        "def model_trains(params):\n",
        "  max_depth = params[0] # int\n",
        "  min_samples_split = params[1] # int or float*\n",
        "  min_samples_leaf = params[2] # int or float*\n",
        "  max_leaf_nodes = params[3] # int\n",
        "  min_impurity_decrease = params[4] # float\n",
        "  \n",
        "  print(params,'\\n')\n",
        "  \n",
        "  modelo = RandomForestRegressor(n_estimators=500, max_depth=max_depth,\n",
        "                                 min_samples_split=min_samples_split, min_samples_leaf=min_samples_leaf,\n",
        "                                 max_leaf_nodes=max_leaf_nodes, min_impurity_decrease=min_impurity_decrease,\n",
        "                                 n_jobs=-1, random_state=0)\n",
        "  modelo.fit(X_train,y_train)\n",
        "  \n",
        "  predicao = modelo.predict(X_test)\n",
        "  \n",
        "  return mean_squared_error(y_test,predicao)\n",
        "\n",
        "intervalos = [(4,10), # max_depth\n",
        "              (0.05,1.0), # min_samples_split\n",
        "              (0.05,0.5), # min_samples_leaf\n",
        "              (2,128), # max_leaf_nodes\n",
        "              (0.0,1.0)] # min_impurity_decrease"
      ],
      "execution_count": null,
      "outputs": []
    },
    {
      "cell_type": "code",
      "metadata": {
        "id": "7-wGPC1RuDNL",
        "outputId": "c215d750-6ca0-4962-ffae-447ae1b67bf5",
        "colab": {
          "base_uri": "https://localhost:8080/",
          "height": 1000
        }
      },
      "source": [
        "resultado = dummy_minimize(model_trains, intervalos, random_state=0, verbose=1, n_calls=30)"
      ],
      "execution_count": null,
      "outputs": [
        {
          "output_type": "stream",
          "text": [
            "Iteration No: 1 started. Evaluating function at random point.\n",
            "[9, 0.8520524611519665, 0.4360755279302406, 105, 0.4236547993389048] \n",
            "\n",
            "Iteration No: 1 ended. Evaluation done at random point.\n",
            "Time taken: 2.9058\n",
            "Function value obtained: 5219.2939\n",
            "Current minimum: 5219.2939\n",
            "Iteration No: 2 started. Evaluating function at random point.\n",
            "[9, 0.41516262192806486, 0.18389057294501254, 90, 0.9636627605010295] \n",
            "\n",
            "Iteration No: 2 ended. Evaluation done at random point.\n",
            "Time taken: 47.8971\n",
            "Function value obtained: 3123.8931\n",
            "Current minimum: 3123.8931\n",
            "Iteration No: 3 started. Evaluating function at random point.\n",
            "[6, 0.5037818614552824, 0.415475927948972, 48, 0.5680445610939324] \n",
            "\n",
            "Iteration No: 3 ended. Evaluation done at random point.\n",
            "Time taken: 2.8938\n",
            "Function value obtained: 5219.2939\n",
            "Current minimum: 3123.8931\n",
            "Iteration No: 4 started. Evaluating function at random point.\n",
            "[9, 0.8442748253605088, 0.20182827218777077, 22, 0.020218397440325723] \n",
            "\n",
            "Iteration No: 4 ended. Evaluation done at random point.\n",
            "Time taken: 2.8927\n",
            "Function value obtained: 5219.2939\n",
            "Current minimum: 3123.8931\n",
            "Iteration No: 5 started. Evaluating function at random point.\n",
            "[7, 0.9592974010053942, 0.11315785118569033, 66, 0.9786183422327642] \n",
            "\n",
            "Iteration No: 5 ended. Evaluation done at random point.\n",
            "Time taken: 2.8017\n",
            "Function value obtained: 5219.2939\n",
            "Current minimum: 3123.8931\n",
            "Iteration No: 6 started. Evaluating function at random point.\n",
            "[4, 0.8108652143806622, 0.2842148657980422, 21, 0.11827442586893325] \n",
            "\n",
            "Iteration No: 6 ended. Evaluation done at random point.\n",
            "Time taken: 2.8933\n",
            "Function value obtained: 5219.2939\n",
            "Current minimum: 3123.8931\n",
            "Iteration No: 7 started. Evaluating function at random point.\n",
            "[4, 0.6029188024713519, 0.29181795325205484, 34, 0.5218483217500718] \n",
            "\n",
            "Iteration No: 7 ended. Evaluation done at random point.\n",
            "Time taken: 45.6764\n",
            "Function value obtained: 3171.2970\n",
            "Current minimum: 3123.8931\n",
            "Iteration No: 8 started. Evaluating function at random point.\n",
            "[8, 0.49992039837932456, 0.133849554497042, 116, 0.45615033221654866] \n",
            "\n",
            "Iteration No: 8 ended. Evaluation done at random point.\n",
            "Time taken: 48.1868\n",
            "Function value obtained: 3123.8931\n",
            "Current minimum: 3123.8931\n",
            "Iteration No: 9 started. Evaluating function at random point.\n",
            "[6, 0.17845726473517948, 0.19586345350694634, 7, 0.6120957227224215] \n",
            "\n",
            "Iteration No: 9 ended. Evaluation done at random point.\n",
            "Time taken: 46.7853\n",
            "Function value obtained: 3120.9980\n",
            "Current minimum: 3120.9980\n",
            "Iteration No: 10 started. Evaluating function at random point.\n",
            "[8, 0.4171645320695689, 0.45616931398823213, 44, 0.35950790057378607] \n",
            "\n",
            "Iteration No: 10 ended. Evaluation done at random point.\n",
            "Time taken: 2.7932\n",
            "Function value obtained: 5219.2939\n",
            "Current minimum: 3120.9980\n",
            "Iteration No: 11 started. Evaluating function at random point.\n",
            "[4, 0.9072311540152851, 0.09467615766153825, 59, 0.6667667154456678] \n",
            "\n",
            "Iteration No: 11 ended. Evaluation done at random point.\n",
            "Time taken: 2.7931\n",
            "Function value obtained: 5219.2939\n",
            "Current minimum: 3120.9980\n",
            "Iteration No: 12 started. Evaluating function at random point.\n",
            "[7, 0.24986343302014885, 0.108016833944684, 16, 0.6078306687154679] \n",
            "\n",
            "Iteration No: 12 ended. Evaluation done at random point.\n",
            "Time taken: 90.4746\n",
            "Function value obtained: 2457.7879\n",
            "Current minimum: 2457.7879\n",
            "Iteration No: 13 started. Evaluating function at random point.\n",
            "[8, 0.5916869318969857, 0.24737068105804416, 70, 0.9589492686245206] \n",
            "\n",
            "Iteration No: 13 ended. Evaluation done at random point.\n",
            "Time taken: 45.9780\n",
            "Function value obtained: 3124.9885\n",
            "Current minimum: 2457.7879\n",
            "Iteration No: 14 started. Evaluating function at random point.\n",
            "[8, 0.20324404199074647, 0.3438987464594293, 106, 0.4143685882263689] \n",
            "\n",
            "Iteration No: 14 ended. Evaluation done at random point.\n",
            "Time taken: 2.7861\n",
            "Function value obtained: 5219.2939\n",
            "Current minimum: 2457.7879\n",
            "Iteration No: 15 started. Evaluating function at random point.\n",
            "[8, 0.2822043124015226, 0.12153631264048388, 15, 0.6747523222590208] \n",
            "\n",
            "Iteration No: 15 ended. Evaluation done at random point.\n",
            "Time taken: 72.6425\n",
            "Function value obtained: 2746.4777\n",
            "Current minimum: 2457.7879\n",
            "Iteration No: 16 started. Evaluating function at random point.\n",
            "[4, 0.18127380378118313, 0.13846206275602407, 66, 0.6625268669500444] \n",
            "\n",
            "Iteration No: 16 ended. Evaluation done at random point.\n",
            "Time taken: 72.5363\n",
            "Function value obtained: 2745.3335\n",
            "Current minimum: 2457.7879\n",
            "Iteration No: 17 started. Evaluating function at random point.\n",
            "[10, 0.1422462120034082, 0.4270752083744618, 36, 0.971945002499666] \n",
            "\n",
            "Iteration No: 17 ended. Evaluation done at random point.\n",
            "Time taken: 2.7964\n",
            "Function value obtained: 5219.2939\n",
            "Current minimum: 2457.7879\n",
            "Iteration No: 18 started. Evaluating function at random point.\n",
            "[7, 0.49521864156531653, 0.4895424896856518, 105, 0.4511592145209282] \n",
            "\n",
            "Iteration No: 18 ended. Evaluation done at random point.\n",
            "Time taken: 2.7909\n",
            "Function value obtained: 5219.2939\n",
            "Current minimum: 2457.7879\n",
            "Iteration No: 19 started. Evaluating function at random point.\n",
            "[4, 0.4696253751864031, 0.4908140279657279, 25, 0.48089353083616293] \n",
            "\n",
            "Iteration No: 19 ended. Evaluation done at random point.\n",
            "Time taken: 2.7897\n",
            "Function value obtained: 5219.2939\n",
            "Current minimum: 2457.7879\n",
            "Iteration No: 20 started. Evaluating function at random point.\n",
            "[5, 0.3520840204242772, 0.2364183475316015, 125, 0.21682213762754293] \n",
            "\n",
            "Iteration No: 20 ended. Evaluation done at random point.\n",
            "Time taken: 45.9771\n",
            "Function value obtained: 3123.8931\n",
            "Current minimum: 2457.7879\n",
            "Iteration No: 21 started. Evaluating function at random point.\n",
            "[10, 0.5882713814962465, 0.16942527092275045, 29, 0.916722954019461] \n",
            "\n",
            "Iteration No: 21 ended. Evaluation done at random point.\n",
            "Time taken: 47.1769\n",
            "Function value obtained: 3123.8931\n",
            "Current minimum: 2457.7879\n",
            "Iteration No: 22 started. Evaluating function at random point.\n",
            "[6, 0.5971491707783704, 0.4681832889092964, 45, 0.009356704856532618] \n",
            "\n",
            "Iteration No: 22 ended. Evaluation done at random point.\n",
            "Time taken: 2.7911\n",
            "Function value obtained: 5219.2939\n",
            "Current minimum: 2457.7879\n",
            "Iteration No: 23 started. Evaluating function at random point.\n",
            "[6, 0.1752079692841726, 0.37234724185335455, 2, 0.2647301642834497] \n",
            "\n",
            "Iteration No: 23 ended. Evaluation done at random point.\n",
            "Time taken: 2.7915\n",
            "Function value obtained: 5219.2939\n",
            "Current minimum: 2457.7879\n",
            "Iteration No: 24 started. Evaluating function at random point.\n",
            "[10, 0.6071872880695791, 0.0590483957843721, 106, 0.3698080927483401] \n",
            "\n",
            "Iteration No: 24 ended. Evaluation done at random point.\n",
            "Time taken: 48.8871\n",
            "Function value obtained: 3123.8931\n",
            "Current minimum: 2457.7879\n",
            "Iteration No: 25 started. Evaluating function at random point.\n",
            "[4, 0.6939257099564187, 0.1715035879364742, 100, 0.2884764370485287] \n",
            "\n",
            "Iteration No: 25 ended. Evaluation done at random point.\n",
            "Time taken: 2.7932\n",
            "Function value obtained: 5219.2939\n",
            "Current minimum: 2457.7879\n",
            "Iteration No: 26 started. Evaluating function at random point.\n",
            "[4, 0.28631548634396015, 0.30927080048802663, 74, 0.8960383875090773] \n",
            "\n",
            "Iteration No: 26 ended. Evaluation done at random point.\n",
            "Time taken: 44.8882\n",
            "Function value obtained: 2852.1989\n",
            "Current minimum: 2457.7879\n",
            "Iteration No: 27 started. Evaluating function at random point.\n",
            "[4, 0.2619275510085874, 0.4787370551826433, 16, 0.44919773821837217] \n",
            "\n",
            "Iteration No: 27 ended. Evaluation done at random point.\n",
            "Time taken: 2.7998\n",
            "Function value obtained: 5219.2939\n",
            "Current minimum: 2457.7879\n",
            "Iteration No: 28 started. Evaluating function at random point.\n",
            "[7, 0.7145053115516292, 0.18384662788481015, 79, 0.4118201389648448] \n",
            "\n",
            "Iteration No: 28 ended. Evaluation done at random point.\n",
            "Time taken: 2.8900\n",
            "Function value obtained: 5219.2939\n",
            "Current minimum: 2457.7879\n",
            "Iteration No: 29 started. Evaluating function at random point.\n",
            "[7, 0.8870480372556037, 0.3115727926861364, 23, 0.9654162205199273] \n",
            "\n",
            "Iteration No: 29 ended. Evaluation done at random point.\n",
            "Time taken: 2.7885\n",
            "Function value obtained: 5219.2939\n",
            "Current minimum: 2457.7879\n",
            "Iteration No: 30 started. Evaluating function at random point.\n",
            "[4, 0.7389915658286585, 0.27559597186701607, 63, 0.23053302350632993] \n",
            "\n",
            "Iteration No: 30 ended. Evaluation done at random point.\n",
            "Time taken: 2.7899\n",
            "Function value obtained: 5219.2939\n",
            "Current minimum: 2457.7879\n"
          ],
          "name": "stdout"
        }
      ]
    },
    {
      "cell_type": "code",
      "metadata": {
        "id": "wGhaStXNuK5J",
        "outputId": "e08f8198-e354-4829-edff-f4925ccaba7c",
        "colab": {
          "base_uri": "https://localhost:8080/",
          "height": 1000
        }
      },
      "source": [
        "resultados_gp = gp_minimize(model_trains, intervalos, random_state=0, verbose=1, n_calls=30, n_random_starts=15, x0=[7, 0.24986343302014885, 0.108016833944684, 16, 0.6078306687154679], y0=2457.7879)"
      ],
      "execution_count": null,
      "outputs": [
        {
          "output_type": "stream",
          "text": [
            "Iteration No: 1 started. Evaluating function at random point.\n",
            "Iteration No: 1 ended. Evaluation done at random point.\n",
            "Time taken: 0.0006\n",
            "Function value obtained: 2457.7879\n",
            "Current minimum: 2457.7879\n",
            "Iteration No: 2 started. Evaluating function at random point.\n",
            "[8, 0.8520524611519666, 0.4360755279302406, 109, 0.6235636967859725] \n",
            "\n",
            "Iteration No: 2 ended. Evaluation done at random point.\n",
            "Time taken: 2.8949\n",
            "Function value obtained: 5219.2939\n",
            "Current minimum: 2457.7879\n",
            "Iteration No: 3 started. Evaluating function at random point.\n",
            "[6, 0.3326578762172487, 0.07552083979284945, 36, 0.47766511732135] \n",
            "\n",
            "Iteration No: 3 ended. Evaluation done at random point.\n",
            "Time taken: 75.0432\n",
            "Function value obtained: 2746.4777\n",
            "Current minimum: 2457.7879\n",
            "Iteration No: 4 started. Evaluating function at random point.\n",
            "[9, 0.5059783137563045, 0.22675315824537345, 107, 0.33739616041726844] \n",
            "\n",
            "Iteration No: 4 ended. Evaluation done at random point.\n",
            "Time taken: 46.5854\n",
            "Function value obtained: 3123.8931\n",
            "Current minimum: 2457.7879\n",
            "Iteration No: 5 started. Evaluating function at random point.\n",
            "[8, 0.3998294628485206, 0.48071982152887094, 20, 0.8700872583584366] \n",
            "\n",
            "Iteration No: 5 ended. Evaluation done at random point.\n",
            "Time taken: 2.8965\n",
            "Function value obtained: 5219.2939\n",
            "Current minimum: 2457.7879\n",
            "Iteration No: 6 started. Evaluating function at random point.\n",
            "[7, 0.8108652143806623, 0.2842148657980422, 88, 0.7206326547259169] \n",
            "\n",
            "Iteration No: 6 ended. Evaluation done at random point.\n",
            "Time taken: 2.8918\n",
            "Function value obtained: 5219.2939\n",
            "Current minimum: 2457.7879\n",
            "Iteration No: 7 started. Evaluating function at random point.\n",
            "[7, 0.5605045679765602, 0.3913770309450608, 15, 0.47360041934665753] \n",
            "\n",
            "Iteration No: 7 ended. Evaluation done at random point.\n",
            "Time taken: 2.7901\n",
            "Function value obtained: 5219.2939\n",
            "Current minimum: 2457.7879\n",
            "Iteration No: 8 started. Evaluating function at random point.\n",
            "[5, 0.7500722682725104, 0.1474476594909674, 19, 0.32414100779321414] \n",
            "\n",
            "Iteration No: 8 ended. Evaluation done at random point.\n",
            "Time taken: 2.7941\n",
            "Function value obtained: 5219.2939\n",
            "Current minimum: 2457.7879\n",
            "Iteration No: 9 started. Evaluating function at random point.\n",
            "[5, 0.2612053188390083, 0.2239200415066379, 116, 0.4499499899112277] \n",
            "\n",
            "Iteration No: 9 ended. Evaluation done at random point.\n",
            "Time taken: 46.2868\n",
            "Function value obtained: 3123.8931\n",
            "Current minimum: 2457.7879\n",
            "Iteration No: 10 started. Evaluating function at random point.\n",
            "[8, 0.9072311540152852, 0.09467615766153825, 124, 0.6531400357979378] \n",
            "\n",
            "Iteration No: 10 ended. Evaluation done at random point.\n",
            "Time taken: 2.7942\n",
            "Function value obtained: 5219.2939\n",
            "Current minimum: 2457.7879\n",
            "Iteration No: 11 started. Evaluating function at random point.\n",
            "[5, 0.3902445586210488, 0.3878087635483054, 79, 0.32504722900835253] \n",
            "\n",
            "Iteration No: 11 ended. Evaluation done at random point.\n",
            "Time taken: 2.7896\n",
            "Function value obtained: 5219.2939\n",
            "Current minimum: 2457.7879\n",
            "Iteration No: 12 started. Evaluating function at random point.\n",
            "[4, 0.6525603550594684, 0.48152717088103425, 84, 0.635058873603564] \n",
            "\n",
            "Iteration No: 12 ended. Evaluation done at random point.\n",
            "Time taken: 2.8939\n",
            "Function value obtained: 5219.2939\n",
            "Current minimum: 2457.7879\n",
            "Iteration No: 13 started. Evaluating function at random point.\n",
            "[10, 0.6027578129666077, 0.23646586470186604, 62, 0.6235101011318683] \n",
            "\n",
            "Iteration No: 13 ended. Evaluation done at random point.\n",
            "Time taken: 46.3858\n",
            "Function value obtained: 3123.8931\n",
            "Current minimum: 2457.7879\n",
            "Iteration No: 14 started. Evaluating function at random point.\n",
            "[6, 0.6910147061460697, 0.19274078393118327, 100, 0.9495710534507423] \n",
            "\n",
            "Iteration No: 14 ended. Evaluation done at random point.\n",
            "Time taken: 2.8991\n",
            "Function value obtained: 5219.2939\n",
            "Current minimum: 2457.7879\n",
            "Iteration No: 15 started. Evaluating function at random point.\n",
            "[8, 0.06289305383150434, 0.3302807429960013, 87, 0.971945002499666] \n",
            "\n",
            "Iteration No: 15 ended. Evaluation done at random point.\n",
            "Time taken: 2.8948\n",
            "Function value obtained: 5219.2939\n",
            "Current minimum: 2457.7879\n",
            "Iteration No: 16 started. Searching for the next optimal point.\n",
            "[9, 0.5341431578839052, 0.07507161216572285, 59, 0.01998766540875874] \n",
            "\n",
            "Iteration No: 16 ended. Search finished for the next optimal point.\n",
            "Time taken: 49.3037\n",
            "Function value obtained: 3123.8931\n",
            "Current minimum: 2457.7879\n",
            "Iteration No: 17 started. Searching for the next optimal point.\n",
            "[7, 0.2651261925675656, 0.37184701825984784, 51, 0.5851386705965514] \n",
            "\n",
            "Iteration No: 17 ended. Search finished for the next optimal point.\n",
            "Time taken: 3.2365\n",
            "Function value obtained: 5219.2939\n",
            "Current minimum: 2457.7879\n",
            "Iteration No: 18 started. Searching for the next optimal point.\n",
            "[7, 0.24986343753497298, 0.10801683418428384, 28, 0.6078306712588886] \n",
            "\n",
            "Iteration No: 18 ended. Search finished for the next optimal point.\n",
            "Time taken: 92.5529\n",
            "Function value obtained: 2457.7879\n",
            "Current minimum: 2457.7879\n",
            "Iteration No: 19 started. Searching for the next optimal point.\n",
            "[7, 0.24986343523705928, 0.1080168341438337, 126, 0.607830669858545] \n",
            "\n",
            "Iteration No: 19 ended. Search finished for the next optimal point.\n",
            "Time taken: 92.8672\n",
            "Function value obtained: 2457.7879\n",
            "Current minimum: 2457.7879\n",
            "Iteration No: 20 started. Searching for the next optimal point.\n",
            "[7, 0.24986416767763436, 0.10801679373011874, 50, 0.607829232090709] \n",
            "\n",
            "Iteration No: 20 ended. Search finished for the next optimal point.\n",
            "Time taken: 93.0807\n",
            "Function value obtained: 2457.7879\n",
            "Current minimum: 2457.7879\n",
            "Iteration No: 21 started. Searching for the next optimal point.\n",
            "[7, 0.2498636111053118, 0.10801682556312572, 78, 0.6078303126321783] \n",
            "\n",
            "Iteration No: 21 ended. Search finished for the next optimal point.\n",
            "Time taken: 93.2852\n",
            "Function value obtained: 2457.7879\n",
            "Current minimum: 2457.7879\n",
            "Iteration No: 22 started. Searching for the next optimal point.\n",
            "[7, 0.24986252310090723, 0.10801694961853553, 41, 0.6078299835599109] \n",
            "\n",
            "Iteration No: 22 ended. Search finished for the next optimal point.\n",
            "Time taken: 94.7241\n",
            "Function value obtained: 2457.7879\n",
            "Current minimum: 2457.7879\n",
            "Iteration No: 23 started. Searching for the next optimal point.\n",
            "[7, 0.24986345513320313, 0.10801681404133802, 22, 0.6078303055585434] \n",
            "\n",
            "Iteration No: 23 ended. Search finished for the next optimal point.\n",
            "Time taken: 94.3165\n",
            "Function value obtained: 2457.7879\n",
            "Current minimum: 2457.7879\n",
            "Iteration No: 24 started. Searching for the next optimal point.\n",
            "[7, 0.24986346787241098, 0.10801681608307614, 59, 0.6078303095380991] \n",
            "\n",
            "Iteration No: 24 ended. Search finished for the next optimal point.\n",
            "Time taken: 95.0582\n",
            "Function value obtained: 2457.7879\n",
            "Current minimum: 2457.7879\n",
            "Iteration No: 25 started. Searching for the next optimal point.\n",
            "[7, 0.24986288640553767, 0.10801679223928685, 41, 0.6078297110463479] \n",
            "\n",
            "Iteration No: 25 ended. Search finished for the next optimal point.\n",
            "Time taken: 96.0434\n",
            "Function value obtained: 2457.7879\n",
            "Current minimum: 2457.7879\n",
            "Iteration No: 26 started. Searching for the next optimal point.\n",
            "[7, 0.24986342684983703, 0.10801674942779924, 8, 0.6078300300116318] \n",
            "\n",
            "Iteration No: 26 ended. Search finished for the next optimal point.\n",
            "Time taken: 96.6447\n",
            "Function value obtained: 2457.7879\n",
            "Current minimum: 2457.7879\n",
            "Iteration No: 27 started. Searching for the next optimal point.\n",
            "[7, 0.24986351923320566, 0.10801685084382112, 69, 0.6078301510386076] \n",
            "\n",
            "Iteration No: 27 ended. Search finished for the next optimal point.\n",
            "Time taken: 96.4217\n",
            "Function value obtained: 2457.7879\n",
            "Current minimum: 2457.7879\n",
            "Iteration No: 28 started. Searching for the next optimal point.\n",
            "[9, 0.13447243852561147, 0.10803431720775443, 61, 0.6161711858563511] \n",
            "\n",
            "Iteration No: 28 ended. Search finished for the next optimal point.\n",
            "Time taken: 96.7164\n",
            "Function value obtained: 2456.5867\n",
            "Current minimum: 2456.5867\n",
            "Iteration No: 29 started. Searching for the next optimal point.\n",
            "[7, 0.23817956951294644, 0.10378424026579108, 74, 0.4884129804459306] \n",
            "\n",
            "Iteration No: 29 ended. Search finished for the next optimal point.\n",
            "Time taken: 95.7250\n",
            "Function value obtained: 2455.5878\n",
            "Current minimum: 2455.5878\n",
            "Iteration No: 30 started. Searching for the next optimal point.\n",
            "[7, 0.2373746711883536, 0.10351056947683784, 90, 0.6263502604855755] \n",
            "\n",
            "Iteration No: 30 ended. Search finished for the next optimal point.\n",
            "Time taken: 95.5725\n",
            "Function value obtained: 2455.2250\n",
            "Current minimum: 2455.2250\n",
            "[7, 0.36768549392495053, 0.10773446592678018, 99, 0.9006699153701107] \n",
            "\n",
            "Iteration No: 31 ended. Search finished for the next optimal point.\n",
            "Time taken: 157.3843\n",
            "Function value obtained: 2883.3004\n",
            "Current minimum: 2455.2250\n"
          ],
          "name": "stdout"
        }
      ]
    },
    {
      "cell_type": "code",
      "metadata": {
        "id": "Zt0S4G53uOdJ",
        "outputId": "a98d7136-2496-4337-f3d9-38c64d2389e5",
        "colab": {
          "base_uri": "https://localhost:8080/",
          "height": 314
        }
      },
      "source": [
        "plot_convergence(resultado,resultados_gp)"
      ],
      "execution_count": null,
      "outputs": [
        {
          "output_type": "execute_result",
          "data": {
            "text/plain": [
              "<matplotlib.axes._subplots.AxesSubplot at 0x7f0dcd62f3c8>"
            ]
          },
          "metadata": {
            "tags": []
          },
          "execution_count": 77
        },
        {
          "output_type": "display_data",
          "data": {
            "image/png": "[encoded data removed]",
            "text/plain": [
              "<Figure size 432x288 with 1 Axes>"
            ]
          },
          "metadata": {
            "tags": [],
            "needs_background": "light"
          }
        }
      ]
    },
    {
      "cell_type": "code",
      "metadata": {
        "id": "q8GGJYgXIQlP",
        "outputId": "80f97fc1-0166-40a1-a63e-1a5b4b5b437e",
        "colab": {
          "base_uri": "https://localhost:8080/",
          "height": 1000
        }
      },
      "source": [
        "# Aprender a mudar o score ou usá-lo para classificadores. (Consegui!)\n",
        "from skopt import BayesSearchCV\n",
        "hp_params_dict = {'max_depth':(4,10),\n",
        "                     'min_samples_split':(0.05,1.0),\n",
        "                     'min_samples_leaf':(0.05,0.5),\n",
        "                     'max_leaf_nodes':(2,128),\n",
        "                     'min_impurity_decrease': (0.0,1.0)}\n",
        "\n",
        "opt = BayesSearchCV(RandomForestRegressor(),hp_params_dict,\n",
        "                    n_jobs=-1,random_state=0, n_iter=30, cv=3, verbose=1,\n",
        "                    scoring='neg_mean_squared_error')\n",
        "\n",
        "opt.fit(X_train,y_train)\n",
        "print(opt.best_estimator_) \n",
        "print(opt.best_score_)\n",
        "print(opt.score(X_test, y_test))"
      ],
      "execution_count": null,
      "outputs": [
        {
          "output_type": "stream",
          "text": [
            "Fitting 3 folds for each of 1 candidates, totalling 3 fits\n"
          ],
          "name": "stdout"
        },
        {
          "output_type": "stream",
          "text": [
            "[Parallel(n_jobs=-1)]: Using backend LokyBackend with 2 concurrent workers.\n",
            "[Parallel(n_jobs=-1)]: Done   3 out of   3 | elapsed:    0.5s finished\n",
            "[Parallel(n_jobs=-1)]: Using backend LokyBackend with 2 concurrent workers.\n"
          ],
          "name": "stderr"
        },
        {
          "output_type": "stream",
          "text": [
            "Fitting 3 folds for each of 1 candidates, totalling 3 fits\n"
          ],
          "name": "stdout"
        },
        {
          "output_type": "stream",
          "text": [
            "[Parallel(n_jobs=-1)]: Done   3 out of   3 | elapsed:    0.5s finished\n",
            "[Parallel(n_jobs=-1)]: Using backend LokyBackend with 2 concurrent workers.\n"
          ],
          "name": "stderr"
        },
        {
          "output_type": "stream",
          "text": [
            "Fitting 3 folds for each of 1 candidates, totalling 3 fits\n"
          ],
          "name": "stdout"
        },
        {
          "output_type": "stream",
          "text": [
            "[Parallel(n_jobs=-1)]: Done   3 out of   3 | elapsed:    4.5s finished\n",
            "[Parallel(n_jobs=-1)]: Using backend LokyBackend with 2 concurrent workers.\n"
          ],
          "name": "stderr"
        },
        {
          "output_type": "stream",
          "text": [
            "Fitting 3 folds for each of 1 candidates, totalling 3 fits\n"
          ],
          "name": "stdout"
        },
        {
          "output_type": "stream",
          "text": [
            "[Parallel(n_jobs=-1)]: Done   3 out of   3 | elapsed:    0.5s finished\n",
            "[Parallel(n_jobs=-1)]: Using backend LokyBackend with 2 concurrent workers.\n"
          ],
          "name": "stderr"
        },
        {
          "output_type": "stream",
          "text": [
            "Fitting 3 folds for each of 1 candidates, totalling 3 fits\n"
          ],
          "name": "stdout"
        },
        {
          "output_type": "stream",
          "text": [
            "[Parallel(n_jobs=-1)]: Done   3 out of   3 | elapsed:    4.2s finished\n",
            "[Parallel(n_jobs=-1)]: Using backend LokyBackend with 2 concurrent workers.\n"
          ],
          "name": "stderr"
        },
        {
          "output_type": "stream",
          "text": [
            "Fitting 3 folds for each of 1 candidates, totalling 3 fits\n"
          ],
          "name": "stdout"
        },
        {
          "output_type": "stream",
          "text": [
            "[Parallel(n_jobs=-1)]: Done   3 out of   3 | elapsed:    2.9s finished\n",
            "[Parallel(n_jobs=-1)]: Using backend LokyBackend with 2 concurrent workers.\n"
          ],
          "name": "stderr"
        },
        {
          "output_type": "stream",
          "text": [
            "Fitting 3 folds for each of 1 candidates, totalling 3 fits\n"
          ],
          "name": "stdout"
        },
        {
          "output_type": "stream",
          "text": [
            "[Parallel(n_jobs=-1)]: Done   3 out of   3 | elapsed:    4.5s finished\n",
            "[Parallel(n_jobs=-1)]: Using backend LokyBackend with 2 concurrent workers.\n"
          ],
          "name": "stderr"
        },
        {
          "output_type": "stream",
          "text": [
            "Fitting 3 folds for each of 1 candidates, totalling 3 fits\n"
          ],
          "name": "stdout"
        },
        {
          "output_type": "stream",
          "text": [
            "[Parallel(n_jobs=-1)]: Done   3 out of   3 | elapsed:    7.6s finished\n",
            "[Parallel(n_jobs=-1)]: Using backend LokyBackend with 2 concurrent workers.\n"
          ],
          "name": "stderr"
        },
        {
          "output_type": "stream",
          "text": [
            "Fitting 3 folds for each of 1 candidates, totalling 3 fits\n"
          ],
          "name": "stdout"
        },
        {
          "output_type": "stream",
          "text": [
            "[Parallel(n_jobs=-1)]: Done   3 out of   3 | elapsed:    0.4s finished\n"
          ],
          "name": "stderr"
        },
        {
          "output_type": "stream",
          "text": [
            "Fitting 3 folds for each of 1 candidates, totalling 3 fits\n"
          ],
          "name": "stdout"
        },
        {
          "output_type": "stream",
          "text": [
            "[Parallel(n_jobs=-1)]: Using backend LokyBackend with 2 concurrent workers.\n",
            "[Parallel(n_jobs=-1)]: Done   3 out of   3 | elapsed:    0.5s finished\n"
          ],
          "name": "stderr"
        },
        {
          "output_type": "stream",
          "text": [
            "Fitting 3 folds for each of 1 candidates, totalling 3 fits\n"
          ],
          "name": "stdout"
        },
        {
          "output_type": "stream",
          "text": [
            "[Parallel(n_jobs=-1)]: Using backend LokyBackend with 2 concurrent workers.\n",
            "[Parallel(n_jobs=-1)]: Done   3 out of   3 | elapsed:    0.5s finished\n"
          ],
          "name": "stderr"
        },
        {
          "output_type": "stream",
          "text": [
            "Fitting 3 folds for each of 1 candidates, totalling 3 fits\n"
          ],
          "name": "stdout"
        },
        {
          "output_type": "stream",
          "text": [
            "[Parallel(n_jobs=-1)]: Using backend LokyBackend with 2 concurrent workers.\n",
            "[Parallel(n_jobs=-1)]: Done   3 out of   3 | elapsed:    4.5s finished\n"
          ],
          "name": "stderr"
        },
        {
          "output_type": "stream",
          "text": [
            "Fitting 3 folds for each of 1 candidates, totalling 3 fits\n"
          ],
          "name": "stdout"
        },
        {
          "output_type": "stream",
          "text": [
            "[Parallel(n_jobs=-1)]: Using backend LokyBackend with 2 concurrent workers.\n",
            "[Parallel(n_jobs=-1)]: Done   3 out of   3 | elapsed:    7.7s finished\n"
          ],
          "name": "stderr"
        },
        {
          "output_type": "stream",
          "text": [
            "Fitting 3 folds for each of 1 candidates, totalling 3 fits\n"
          ],
          "name": "stdout"
        },
        {
          "output_type": "stream",
          "text": [
            "[Parallel(n_jobs=-1)]: Using backend LokyBackend with 2 concurrent workers.\n",
            "[Parallel(n_jobs=-1)]: Done   3 out of   3 | elapsed:    7.7s finished\n"
          ],
          "name": "stderr"
        },
        {
          "output_type": "stream",
          "text": [
            "Fitting 3 folds for each of 1 candidates, totalling 3 fits\n"
          ],
          "name": "stdout"
        },
        {
          "output_type": "stream",
          "text": [
            "[Parallel(n_jobs=-1)]: Using backend LokyBackend with 2 concurrent workers.\n",
            "[Parallel(n_jobs=-1)]: Done   3 out of   3 | elapsed:    5.7s finished\n"
          ],
          "name": "stderr"
        },
        {
          "output_type": "stream",
          "text": [
            "Fitting 3 folds for each of 1 candidates, totalling 3 fits\n"
          ],
          "name": "stdout"
        },
        {
          "output_type": "stream",
          "text": [
            "[Parallel(n_jobs=-1)]: Using backend LokyBackend with 2 concurrent workers.\n",
            "[Parallel(n_jobs=-1)]: Done   3 out of   3 | elapsed:    4.6s finished\n"
          ],
          "name": "stderr"
        },
        {
          "output_type": "stream",
          "text": [
            "Fitting 3 folds for each of 1 candidates, totalling 3 fits\n"
          ],
          "name": "stdout"
        },
        {
          "output_type": "stream",
          "text": [
            "[Parallel(n_jobs=-1)]: Using backend LokyBackend with 2 concurrent workers.\n",
            "[Parallel(n_jobs=-1)]: Done   3 out of   3 | elapsed:    7.7s finished\n"
          ],
          "name": "stderr"
        },
        {
          "output_type": "stream",
          "text": [
            "Fitting 3 folds for each of 1 candidates, totalling 3 fits\n"
          ],
          "name": "stdout"
        },
        {
          "output_type": "stream",
          "text": [
            "[Parallel(n_jobs=-1)]: Using backend LokyBackend with 2 concurrent workers.\n",
            "[Parallel(n_jobs=-1)]: Done   3 out of   3 | elapsed:    7.3s finished\n"
          ],
          "name": "stderr"
        },
        {
          "output_type": "stream",
          "text": [
            "Fitting 3 folds for each of 1 candidates, totalling 3 fits\n"
          ],
          "name": "stdout"
        },
        {
          "output_type": "stream",
          "text": [
            "[Parallel(n_jobs=-1)]: Using backend LokyBackend with 2 concurrent workers.\n",
            "[Parallel(n_jobs=-1)]: Done   3 out of   3 | elapsed:    7.3s finished\n"
          ],
          "name": "stderr"
        },
        {
          "output_type": "stream",
          "text": [
            "Fitting 3 folds for each of 1 candidates, totalling 3 fits\n"
          ],
          "name": "stdout"
        },
        {
          "output_type": "stream",
          "text": [
            "[Parallel(n_jobs=-1)]: Using backend LokyBackend with 2 concurrent workers.\n",
            "[Parallel(n_jobs=-1)]: Done   3 out of   3 | elapsed:    7.3s finished\n"
          ],
          "name": "stderr"
        },
        {
          "output_type": "stream",
          "text": [
            "Fitting 3 folds for each of 1 candidates, totalling 3 fits\n"
          ],
          "name": "stdout"
        },
        {
          "output_type": "stream",
          "text": [
            "[Parallel(n_jobs=-1)]: Using backend LokyBackend with 2 concurrent workers.\n",
            "[Parallel(n_jobs=-1)]: Done   3 out of   3 | elapsed:    7.3s finished\n"
          ],
          "name": "stderr"
        },
        {
          "output_type": "stream",
          "text": [
            "Fitting 3 folds for each of 1 candidates, totalling 3 fits\n"
          ],
          "name": "stdout"
        },
        {
          "output_type": "stream",
          "text": [
            "[Parallel(n_jobs=-1)]: Using backend LokyBackend with 2 concurrent workers.\n",
            "[Parallel(n_jobs=-1)]: Done   3 out of   3 | elapsed:    7.5s finished\n"
          ],
          "name": "stderr"
        },
        {
          "output_type": "stream",
          "text": [
            "Fitting 3 folds for each of 1 candidates, totalling 3 fits\n"
          ],
          "name": "stdout"
        },
        {
          "output_type": "stream",
          "text": [
            "[Parallel(n_jobs=-1)]: Using backend LokyBackend with 2 concurrent workers.\n",
            "[Parallel(n_jobs=-1)]: Done   3 out of   3 | elapsed:    6.6s finished\n"
          ],
          "name": "stderr"
        },
        {
          "output_type": "stream",
          "text": [
            "Fitting 3 folds for each of 1 candidates, totalling 3 fits\n"
          ],
          "name": "stdout"
        },
        {
          "output_type": "stream",
          "text": [
            "[Parallel(n_jobs=-1)]: Using backend LokyBackend with 2 concurrent workers.\n",
            "[Parallel(n_jobs=-1)]: Done   3 out of   3 | elapsed:    5.8s finished\n"
          ],
          "name": "stderr"
        },
        {
          "output_type": "stream",
          "text": [
            "Fitting 3 folds for each of 1 candidates, totalling 3 fits\n"
          ],
          "name": "stdout"
        },
        {
          "output_type": "stream",
          "text": [
            "[Parallel(n_jobs=-1)]: Using backend LokyBackend with 2 concurrent workers.\n",
            "[Parallel(n_jobs=-1)]: Done   3 out of   3 | elapsed:    6.3s finished\n"
          ],
          "name": "stderr"
        },
        {
          "output_type": "stream",
          "text": [
            "Fitting 3 folds for each of 1 candidates, totalling 3 fits\n"
          ],
          "name": "stdout"
        },
        {
          "output_type": "stream",
          "text": [
            "[Parallel(n_jobs=-1)]: Using backend LokyBackend with 2 concurrent workers.\n",
            "[Parallel(n_jobs=-1)]: Done   3 out of   3 | elapsed:    7.4s finished\n"
          ],
          "name": "stderr"
        },
        {
          "output_type": "stream",
          "text": [
            "Fitting 3 folds for each of 1 candidates, totalling 3 fits\n"
          ],
          "name": "stdout"
        },
        {
          "output_type": "stream",
          "text": [
            "[Parallel(n_jobs=-1)]: Using backend LokyBackend with 2 concurrent workers.\n",
            "[Parallel(n_jobs=-1)]: Done   3 out of   3 | elapsed:    7.5s finished\n"
          ],
          "name": "stderr"
        },
        {
          "output_type": "stream",
          "text": [
            "Fitting 3 folds for each of 1 candidates, totalling 3 fits\n"
          ],
          "name": "stdout"
        },
        {
          "output_type": "stream",
          "text": [
            "[Parallel(n_jobs=-1)]: Using backend LokyBackend with 2 concurrent workers.\n",
            "[Parallel(n_jobs=-1)]: Done   3 out of   3 | elapsed:    7.4s finished\n"
          ],
          "name": "stderr"
        },
        {
          "output_type": "stream",
          "text": [
            "Fitting 3 folds for each of 1 candidates, totalling 3 fits\n"
          ],
          "name": "stdout"
        },
        {
          "output_type": "stream",
          "text": [
            "[Parallel(n_jobs=-1)]: Using backend LokyBackend with 2 concurrent workers.\n",
            "[Parallel(n_jobs=-1)]: Done   3 out of   3 | elapsed:    7.5s finished\n"
          ],
          "name": "stderr"
        },
        {
          "output_type": "stream",
          "text": [
            "Fitting 3 folds for each of 1 candidates, totalling 3 fits\n"
          ],
          "name": "stdout"
        },
        {
          "output_type": "stream",
          "text": [
            "[Parallel(n_jobs=-1)]: Using backend LokyBackend with 2 concurrent workers.\n",
            "[Parallel(n_jobs=-1)]: Done   3 out of   3 | elapsed:    3.4s finished\n"
          ],
          "name": "stderr"
        },
        {
          "output_type": "stream",
          "text": [
            "RandomForestRegressor(bootstrap=True, ccp_alpha=0.0, criterion='mse',\n",
            "                      max_depth=7, max_features='auto', max_leaf_nodes=68,\n",
            "                      max_samples=None,\n",
            "                      min_impurity_decrease=0.5109967723127247,\n",
            "                      min_impurity_split=None,\n",
            "                      min_samples_leaf=0.06228277715000854,\n",
            "                      min_samples_split=0.10008965505984319,\n",
            "                      min_weight_fraction_leaf=0.0, n_estimators=100,\n",
            "                      n_jobs=None, oob_score=False, random_state=None,\n",
            "                      verbose=0, warm_start=False)\n",
            "-2208.5410531650646\n",
            "-2230.742867573362\n"
          ],
          "name": "stdout"
        }
      ]
    },
    {
      "cell_type": "code",
      "metadata": {
        "id": "I5sToS6l0iBx",
        "outputId": "3c8dca0b-fec0-4d4b-f061-276c346e8bfe",
        "colab": {
          "base_uri": "https://localhost:8080/",
          "height": 102
        }
      },
      "source": [
        "opt.best_params_"
      ],
      "execution_count": null,
      "outputs": [
        {
          "output_type": "execute_result",
          "data": {
            "text/plain": [
              "OrderedDict([('max_depth', 7),\n",
              "             ('max_leaf_nodes', 68),\n",
              "             ('min_impurity_decrease', 0.5109967723127247),\n",
              "             ('min_samples_leaf', 0.06228277715000854),\n",
              "             ('min_samples_split', 0.10008965505984319)])"
            ]
          },
          "metadata": {
            "tags": []
          },
          "execution_count": 153
        }
      ]
    },
    {
      "cell_type": "markdown",
      "metadata": {
        "id": "QsLg6wJuHJVp"
      },
      "source": [
        "## Conclusão(Random Forest Regressor): \n",
        "Tuning dos hiper parâmetros não funcionou. Com o Random Forest Regressor foi lento e não chegou no resultado desejado. Talvez se limitar mais os parametros, diminuir os intervalos, mas de qualquer jeito é um modelo lento."
      ]
    },
    {
      "cell_type": "markdown",
      "metadata": {
        "id": "ib3TRBLqoeBo"
      },
      "source": [
        "- **Gradient Boosting Regressor**"
      ]
    },
    {
      "cell_type": "code",
      "metadata": {
        "id": "gg3Txr_lPf_d"
      },
      "source": [
        "modelo_padrao2 = GradientBoostingRegressor(random_state=0)\n",
        "modelo_padrao2.fit(X_train,y_train)\n",
        "predicao_referencia2 = modelo_padrao2.predict(X_test)"
      ],
      "execution_count": null,
      "outputs": []
    },
    {
      "cell_type": "code",
      "metadata": {
        "id": "G5l-13xxPf_j",
        "outputId": "7dc1aa9e-9451-46ea-89c7-64f6d8158ac6",
        "colab": {
          "base_uri": "https://localhost:8080/",
          "height": 34
        }
      },
      "source": [
        "score_referencia2 = mean_squared_error(y_test,predicao_referencia2)\n",
        "score_referencia2"
      ],
      "execution_count": null,
      "outputs": [
        {
          "output_type": "execute_result",
          "data": {
            "text/plain": [
              "2094.9234570653557"
            ]
          },
          "metadata": {
            "tags": []
          },
          "execution_count": 133
        }
      ]
    },
    {
      "cell_type": "code",
      "metadata": {
        "id": "l-uBIr_yPOIP",
        "outputId": "d635d94d-2d62-4ef7-d61c-29f5f82e5e86",
        "colab": {
          "base_uri": "https://localhost:8080/",
          "height": 102
        }
      },
      "source": [
        "def model_trains2(params):\n",
        "  learning_rate = params[0]\n",
        "  min_samples_split = params[1]\n",
        "  min_samples_leaf = params[2]\n",
        "  max_depth = params[3]\n",
        "  alpha = params[4]\n",
        "  \n",
        "  print(params,'\\n')\n",
        "  \n",
        "  modelo = GradientBoostingRegressor(n_estimators=200, max_depth=max_depth,\n",
        "                                     min_samples_split=min_samples_split, min_samples_leaf=min_samples_leaf,\n",
        "                                     learning_rate=learning_rate, alpha=alpha, random_state=0)\n",
        "  modelo.fit(X_train,y_train)\n",
        "  \n",
        "  predicao = modelo.predict(X_test)\n",
        "  \n",
        "  return mean_squared_error(y_test,predicao)\n",
        "\n",
        "intervalos2 = [(0.001,0.01,'log-uniform'), # learning_rate\n",
        "              (0.25,0.7), # min_samples_split\n",
        "              (0.05,0.35), # min_samples_leaf\n",
        "              (3,9), # max_depth\n",
        "              [0.3,0.4,0.5,0.6,0.7]] # alpha \n",
        "\n",
        "hp_params_dict2 = dict(learning_rate = (0.001,0.01,'log-uniform'), min_samples_split = (0.25,0.7), min_samples_leaf = (0.05,0.35), max_depth = (3,9), alpha = [0.3,0.4,0.5,0.6,0.7])"
      ],
      "execution_count": null,
      "outputs": [
        {
          "output_type": "execute_result",
          "data": {
            "text/plain": [
              "{'alpha': [0.3, 0.4, 0.5, 0.6, 0.7],\n",
              " 'learning_rate': (0.001, 0.01, 'log-uniform'),\n",
              " 'max_depth': (3, 9),\n",
              " 'min_samples_leaf': (0.05, 0.35),\n",
              " 'min_samples_split': (0.25, 0.7)}"
            ]
          },
          "metadata": {
            "tags": []
          },
          "execution_count": 154
        }
      ]
    },
    {
      "cell_type": "code",
      "metadata": {
        "id": "c_geFS41POIY",
        "outputId": "e7d76988-9be4-4678-f8d4-d3e17c73cb7c",
        "colab": {
          "base_uri": "https://localhost:8080/",
          "height": 1000
        }
      },
      "source": [
        "resultado = dummy_minimize(model_trains2, intervalos2, random_state=0, verbose=1, n_calls=50)"
      ],
      "execution_count": null,
      "outputs": [
        {
          "output_type": "stream",
          "text": [
            "Iteration No: 1 started. Evaluating function at random point.\n",
            "[0.0039160174486321635, 0.6299195868614578, 0.3073836852868271, 4, 0.6] \n",
            "\n",
            "Iteration No: 1 ended. Evaluation done at random point.\n",
            "Time taken: 54.2729\n",
            "Function value obtained: 3158.2933\n",
            "Current minimum: 3158.2933\n",
            "Iteration No: 2 started. Evaluating function at random point.\n",
            "[0.002423157857285798, 0.3838905729450125, 0.06701389319523296, 7, 0.4] \n",
            "\n",
            "Iteration No: 2 ended. Evaluation done at random point.\n",
            "Time taken: 80.3186\n",
            "Function value obtained: 3482.6016\n",
            "Current minimum: 3158.2933\n",
            "Iteration No: 3 started. Evaluating function at random point.\n",
            "[0.006190490166774184, 0.488002713888807, 0.2204133683281797, 8, 0.7] \n",
            "\n",
            "Iteration No: 3 ended. Evaluation done at random point.\n",
            "Time taken: 70.6417\n",
            "Function value obtained: 2595.9366\n",
            "Current minimum: 2595.9366\n",
            "Iteration No: 4 started. Evaluating function at random point.\n",
            "[0.002174684006048089, 0.5416773424230388, 0.1604724619521644, 8, 0.6] \n",
            "\n",
            "Iteration No: 4 ended. Evaluation done at random point.\n",
            "Time taken: 65.5519\n",
            "Function value obtained: 3710.5684\n",
            "Current minimum: 2595.9366\n",
            "Iteration No: 5 started. Evaluating function at random point.\n",
            "[0.007413309777968015, 0.6903782540047438, 0.2897475692650171, 6, 0.5] \n",
            "\n",
            "Iteration No: 5 ended. Evaluation done at random point.\n",
            "Time taken: 51.2419\n",
            "Function value obtained: 2605.0208\n",
            "Current minimum: 2595.9366\n",
            "Iteration No: 6 started. Evaluating function at random point.\n",
            "[0.004773968291550972, 0.5742846946266625, 0.22460593762253217, 4, 0.7] \n",
            "\n",
            "Iteration No: 6 ended. Evaluation done at random point.\n",
            "Time taken: 61.5417\n",
            "Function value obtained: 2883.8005\n",
            "Current minimum: 2595.9366\n",
            "Iteration No: 7 started. Evaluating function at random point.\n",
            "[0.003325433915400585, 0.4365978729957356, 0.1293666836313881, 6, 0.6] \n",
            "\n",
            "Iteration No: 7 ended. Evaluation done at random point.\n",
            "Time taken: 69.7717\n",
            "Function value obtained: 3204.2437\n",
            "Current minimum: 2595.9366\n",
            "Iteration No: 8 started. Evaluating function at random point.\n",
            "[0.0016464568542729648, 0.3108481780324534, 0.14724230233796426, 8, 0.6] \n",
            "\n",
            "Iteration No: 8 ended. Evaluation done at random point.\n",
            "Time taken: 90.2650\n",
            "Function value obtained: 3850.2135\n",
            "Current minimum: 2595.9366\n",
            "Iteration No: 9 started. Evaluating function at random point.\n",
            "[0.004139367608357544, 0.6746866353315809, 0.25454608973104503, 5, 0.6] \n",
            "\n",
            "Iteration No: 9 ended. Evaluation done at random point.\n",
            "Time taken: 49.1726\n",
            "Function value obtained: 3150.7165\n",
            "Current minimum: 2595.9366\n",
            "Iteration No: 10 started. Evaluating function at random point.\n",
            "[0.007986354487717628, 0.29467615766153826, 0.3409427203240247, 9, 0.6] \n",
            "\n",
            "Iteration No: 10 ended. Evaluation done at random point.\n",
            "Time taken: 39.4303\n",
            "Function value obtained: 2688.4300\n",
            "Current minimum: 2595.9366\n",
            "Iteration No: 11 started. Evaluating function at random point.\n",
            "[0.0016232393459116284, 0.308016833944684, 0.14462850527725518, 8, 0.4] \n",
            "\n",
            "Iteration No: 11 ended. Evaluation done at random point.\n",
            "Time taken: 89.3514\n",
            "Function value obtained: 3864.1119\n",
            "Current minimum: 2595.9366\n",
            "Iteration No: 12 started. Evaluating function at random point.\n",
            "[0.0010925100141198866, 0.5354233260808008, 0.3376847805873561, 7, 0.3] \n",
            "\n",
            "Iteration No: 12 ended. Evaluation done at random point.\n",
            "Time taken: 39.5714\n",
            "Function value obtained: 4463.2863\n",
            "Current minimum: 2595.9366\n",
            "Iteration No: 13 started. Evaluating function at random point.\n",
            "[0.004498920568462265, 0.36398122114290193, 0.1898932318568919, 6, 0.6] \n",
            "\n",
            "Iteration No: 13 ended. Evaluation done at random point.\n",
            "Time taken: 79.3129\n",
            "Function value obtained: 2817.8930\n",
            "Current minimum: 2595.9366\n",
            "Iteration No: 14 started. Evaluating function at random point.\n",
            "[0.002177747956247135, 0.5536385450165593, 0.14516052262078882, 8, 0.3] \n",
            "\n",
            "Iteration No: 14 ended. Evaluation done at random point.\n",
            "Time taken: 64.9841\n",
            "Function value obtained: 3708.8926\n",
            "Current minimum: 2595.9366\n",
            "Iteration No: 15 started. Evaluating function at random point.\n",
            "[0.002337357648702815, 0.6194469534315707, 0.07913038273791839, 5, 0.6] \n",
            "\n",
            "Iteration No: 15 ended. Evaluation done at random point.\n",
            "Time taken: 52.3280\n",
            "Function value obtained: 3738.7766\n",
            "Current minimum: 2595.9366\n",
            "Iteration No: 16 started. Evaluating function at random point.\n",
            "[0.009374432849430727, 0.6451870621062297, 0.20288731301597007, 3, 0.6] \n",
            "\n",
            "Iteration No: 16 ended. Evaluation done at random point.\n",
            "Time taken: 59.6525\n",
            "Function value obtained: 2364.3138\n",
            "Current minimum: 2364.3138\n",
            "Iteration No: 17 started. Evaluating function at random point.\n",
            "[0.005486098228809556, 0.2676345065144443, 0.1348420887729229, 5, 0.4] \n",
            "\n",
            "Iteration No: 17 ended. Evaluation done at random point.\n",
            "Time taken: 98.1541\n",
            "Function value obtained: 2558.0946\n",
            "Current minimum: 2364.3138\n",
            "Iteration No: 18 started. Evaluating function at random point.\n",
            "[0.003026171458182157, 0.5598975322625968, 0.3141427667757787, 9, 0.3] \n",
            "\n",
            "Iteration No: 18 ended. Evaluation done at random point.\n",
            "Time taken: 52.0921\n",
            "Function value obtained: 3452.2171\n",
            "Current minimum: 2364.3138\n",
            "Iteration No: 19 started. Evaluating function at random point.\n",
            "[0.0049257472025760534, 0.5049706543929589, 0.12961684728183365, 6, 0.7] \n",
            "\n",
            "Iteration No: 19 ended. Evaluation done at random point.\n",
            "Time taken: 69.3689\n",
            "Function value obtained: 2807.8419\n",
            "Current minimum: 2364.3138\n",
            "Iteration No: 20 started. Evaluating function at random point.\n",
            "[0.008339837915839603, 0.28740062168377106, 0.13331556838430975, 3, 0.6] \n",
            "\n",
            "Iteration No: 20 ended. Evaluation done at random point.\n",
            "Time taken: 96.4897\n",
            "Function value obtained: 2283.5261\n",
            "Current minimum: 2283.5261\n",
            "Iteration No: 21 started. Evaluating function at random point.\n",
            "[0.0013545588010935778, 0.5723472418533545, 0.13682182788416036, 6, 0.4] \n",
            "\n",
            "Iteration No: 21 ended. Evaluation done at random point.\n",
            "Time taken: 61.3808\n",
            "Function value obtained: 4180.4276\n",
            "Current minimum: 2283.5261\n",
            "Iteration No: 22 started. Evaluating function at random point.\n",
            "[0.0035712600856284515, 0.3242232071088479, 0.16094242782450202, 3, 0.6] \n",
            "\n",
            "Iteration No: 22 ended. Evaluation done at random point.\n",
            "Time taken: 91.0474\n",
            "Function value obtained: 3005.6921\n",
            "Current minimum: 2283.5261\n",
            "Iteration No: 23 started. Evaluating function at random point.\n",
            "[0.0018621213229476886, 0.5808373099551677, 0.3386565635352315, 3, 0.6] \n",
            "\n",
            "Iteration No: 23 ended. Evaluation done at random point.\n",
            "Time taken: 40.0749\n",
            "Function value obtained: 4063.3636\n",
            "Current minimum: 2283.5261\n",
            "Iteration No: 24 started. Evaluating function at random point.\n",
            "[0.0024894205793717064, 0.6532172743790847, 0.2416763228693939, 6, 0.7] \n",
            "\n",
            "Iteration No: 24 ended. Evaluation done at random point.\n",
            "Time taken: 46.2770\n",
            "Function value obtained: 3723.2556\n",
            "Current minimum: 2283.5261\n",
            "Iteration No: 25 started. Evaluating function at random point.\n",
            "[0.0027997894880185496, 0.6308839026120076, 0.2598437825952513, 7, 0.6] \n",
            "\n",
            "Iteration No: 25 ended. Evaluation done at random point.\n",
            "Time taken: 51.7010\n",
            "Function value obtained: 3545.2491\n",
            "Current minimum: 2283.5261\n",
            "Iteration No: 26 started. Evaluating function at random point.\n",
            "[0.002581190981033582, 0.5539475865401062, 0.12493888269649343, 8, 0.7] \n",
            "\n",
            "Iteration No: 26 ended. Evaluation done at random point.\n",
            "Time taken: 66.4910\n",
            "Function value obtained: 3526.2640\n",
            "Current minimum: 2283.5261\n",
            "Iteration No: 27 started. Evaluating function at random point.\n",
            "[0.004926421762678351, 0.5763644259188383, 0.2003973145780107, 8, 0.4] \n",
            "\n",
            "Iteration No: 27 ended. Evaluation done at random point.\n",
            "Time taken: 63.0026\n",
            "Function value obtained: 2847.9585\n",
            "Current minimum: 2283.5261\n",
            "Iteration No: 28 started. Evaluating function at random point.\n",
            "[0.002482385886671565, 0.5284638540661107, 0.19246025462268262, 9, 0.4] \n",
            "\n",
            "Iteration No: 28 ended. Evaluation done at random point.\n",
            "Time taken: 65.4291\n",
            "Function value obtained: 3568.7812\n",
            "Current minimum: 2283.5261\n",
            "Iteration No: 29 started. Evaluating function at random point.\n",
            "[0.004572708716237447, 0.38053492324469984, 0.2354046286996525, 5, 0.7] \n",
            "\n",
            "Iteration No: 29 ended. Evaluation done at random point.\n",
            "Time taken: 67.4839\n",
            "Function value obtained: 2893.8051\n",
            "Current minimum: 2283.5261\n",
            "Iteration No: 30 started. Evaluating function at random point.\n",
            "[0.0012672530895244023, 0.2915682502574042, 0.15621399862514307, 4, 0.5] \n",
            "\n",
            "Iteration No: 30 ended. Evaluation done at random point.\n",
            "Time taken: 90.5973\n",
            "Function value obtained: 4096.4464\n",
            "Current minimum: 2283.5261\n",
            "Iteration No: 31 started. Evaluating function at random point.\n",
            "[0.004499878833543416, 0.5434464715007601, 0.17942553063019223, 6, 0.4] \n",
            "\n",
            "Iteration No: 31 ended. Evaluation done at random point.\n",
            "Time taken: 66.8364\n",
            "Function value obtained: 2911.8939\n",
            "Current minimum: 2283.5261\n",
            "Iteration No: 32 started. Evaluating function at random point.\n",
            "[0.00272812914519748, 0.6513655097570524, 0.29185819671382573, 6, 0.3] \n",
            "\n",
            "Iteration No: 32 ended. Evaluation done at random point.\n",
            "Time taken: 46.3312\n",
            "Function value obtained: 3628.3992\n",
            "Current minimum: 2283.5261\n",
            "Iteration No: 33 started. Evaluating function at random point.\n",
            "[0.00830773459406181, 0.5714085847971002, 0.34965410197036, 8, 0.7] \n",
            "\n",
            "Iteration No: 33 ended. Evaluation done at random point.\n",
            "Time taken: 39.9926\n",
            "Function value obtained: 2664.4398\n",
            "Current minimum: 2283.5261\n",
            "Iteration No: 34 started. Evaluating function at random point.\n",
            "[0.001090333570389904, 0.4787419518605009, 0.1000542539145499, 8, 0.7] \n",
            "\n",
            "Iteration No: 34 ended. Evaluation done at random point.\n",
            "Time taken: 65.4209\n",
            "Function value obtained: 4332.4341\n",
            "Current minimum: 2283.5261\n",
            "Iteration No: 35 started. Evaluating function at random point.\n",
            "[0.006416806728538779, 0.506095332376567, 0.17215498916779992, 4, 0.7] \n",
            "\n",
            "Iteration No: 35 ended. Evaluation done at random point.\n",
            "Time taken: 72.4757\n",
            "Function value obtained: 2554.5436\n",
            "Current minimum: 2283.5261\n",
            "Iteration No: 36 started. Evaluating function at random point.\n",
            "[0.002362059051519755, 0.4390339164057748, 0.06517643451627117, 6, 0.7] \n",
            "\n",
            "Iteration No: 36 ended. Evaluation done at random point.\n",
            "Time taken: 69.1655\n",
            "Function value obtained: 3591.4308\n",
            "Current minimum: 2283.5261\n",
            "Iteration No: 37 started. Evaluating function at random point.\n",
            "[0.007174693326117612, 0.2552713378832509, 0.1579934193435092, 8, 0.6] \n",
            "\n",
            "Iteration No: 37 ended. Evaluation done at random point.\n",
            "Time taken: 91.7660\n",
            "Function value obtained: 2383.4052\n",
            "Current minimum: 2283.5261\n",
            "Iteration No: 38 started. Evaluating function at random point.\n",
            "[0.0021847604205049906, 0.4702970216009922, 0.15169553503393352, 7, 0.3] \n",
            "\n",
            "Iteration No: 38 ended. Evaluation done at random point.\n",
            "Time taken: 64.7895\n",
            "Function value obtained: 3705.5868\n",
            "Current minimum: 2283.5261\n",
            "Iteration No: 39 started. Evaluating function at random point.\n",
            "[0.002907039797923046, 0.6435578309402484, 0.3332359252752691, 9, 0.6] \n",
            "\n",
            "Iteration No: 39 ended. Evaluation done at random point.\n",
            "Time taken: 43.7201\n",
            "Function value obtained: 3591.5536\n",
            "Current minimum: 2283.5261\n",
            "Iteration No: 40 started. Evaluating function at random point.\n",
            "[0.0010760660498942095, 0.3241123704240607, 0.2364435204499291, 3, 0.6] \n",
            "\n",
            "Iteration No: 40 ended. Evaluation done at random point.\n",
            "Time taken: 62.9350\n",
            "Function value obtained: 4342.3208\n",
            "Current minimum: 2283.5261\n",
            "Iteration No: 41 started. Evaluating function at random point.\n",
            "[0.009826444348404075, 0.3702681420466652, 0.2537271846882242, 5, 0.5] \n",
            "\n",
            "Iteration No: 41 ended. Evaluation done at random point.\n",
            "Time taken: 65.8525\n",
            "Function value obtained: 2338.6455\n",
            "Current minimum: 2283.5261\n",
            "Iteration No: 42 started. Evaluating function at random point.\n",
            "[0.005371827145631793, 0.39037524796582085, 0.1694663186648276, 8, 0.4] \n",
            "\n",
            "Iteration No: 42 ended. Evaluation done at random point.\n",
            "Time taken: 78.0883\n",
            "Function value obtained: 2652.8557\n",
            "Current minimum: 2283.5261\n",
            "Iteration No: 43 started. Evaluating function at random point.\n",
            "[0.0016548147136583112, 0.5063080905586321, 0.18563271051002772, 6, 0.6] \n",
            "\n",
            "Iteration No: 43 ended. Evaluation done at random point.\n",
            "Time taken: 63.8732\n",
            "Function value obtained: 3983.3806\n",
            "Current minimum: 2283.5261\n",
            "Iteration No: 44 started. Evaluating function at random point.\n",
            "[0.0012170139766429409, 0.2753882497212848, 0.1963513113076893, 5, 0.7] \n",
            "\n",
            "Iteration No: 44 ended. Evaluation done at random point.\n",
            "Time taken: 77.9275\n",
            "Function value obtained: 4163.6723\n",
            "Current minimum: 2283.5261\n",
            "Iteration No: 45 started. Evaluating function at random point.\n",
            "[0.004146273214475155, 0.49412444875467887, 0.30638407409321433, 4, 0.6] \n",
            "\n",
            "Iteration No: 45 ended. Evaluation done at random point.\n",
            "Time taken: 55.4476\n",
            "Function value obtained: 3088.2967\n",
            "Current minimum: 2283.5261\n",
            "Iteration No: 46 started. Evaluating function at random point.\n",
            "[0.0028424762492227505, 0.491460644998925, 0.31900138791210264, 4, 0.5] \n",
            "\n",
            "Iteration No: 46 ended. Evaluation done at random point.\n",
            "Time taken: 49.1817\n",
            "Function value obtained: 3550.0848\n",
            "Current minimum: 2283.5261\n",
            "Iteration No: 47 started. Evaluating function at random point.\n",
            "[0.0028576867635074893, 0.657888139177077, 0.09116612602915838, 3, 0.6] \n",
            "\n",
            "Iteration No: 47 ended. Evaluation done at random point.\n",
            "Time taken: 48.2970\n",
            "Function value obtained: 3575.6599\n",
            "Current minimum: 2283.5261\n",
            "Iteration No: 48 started. Evaluating function at random point.\n",
            "[0.0020893786413534194, 0.4225587523773541, 0.22649513406608174, 6, 0.5] \n",
            "\n",
            "Iteration No: 48 ended. Evaluation done at random point.\n",
            "Time taken: 63.8012\n",
            "Function value obtained: 3752.0986\n",
            "Current minimum: 2283.5261\n",
            "Iteration No: 49 started. Evaluating function at random point.\n",
            "[0.0010001274720160313, 0.3903370993069851, 0.17763546138565278, 5, 0.3] \n",
            "\n",
            "Iteration No: 49 ended. Evaluation done at random point.\n",
            "Time taken: 77.0635\n",
            "Function value obtained: 4318.7850\n",
            "Current minimum: 2283.5261\n",
            "Iteration No: 50 started. Evaluating function at random point.\n",
            "[0.008969983764332558, 0.5593697243745168, 0.11465230313406755, 4, 0.4] \n",
            "\n",
            "Iteration No: 50 ended. Evaluation done at random point.\n",
            "Time taken: 75.0201\n",
            "Function value obtained: 2316.7615\n",
            "Current minimum: 2283.5261\n"
          ],
          "name": "stdout"
        }
      ]
    },
    {
      "cell_type": "code",
      "metadata": {
        "id": "cOIaPGOPPOId",
        "outputId": "e4250613-59c9-49dd-a852-43d87b2bfcb5",
        "colab": {
          "base_uri": "https://localhost:8080/",
          "height": 1000
        }
      },
      "source": [
        "resultados_gp = gp_minimize(model_trains2, intervalos2, random_state=0, verbose=1, n_calls=30, n_random_starts=15,x0= [0.008339837915839603, 0.28740062168377106, 0.13331556838430975, 3, 0.6], y0=2283.5261)"
      ],
      "execution_count": null,
      "outputs": [
        {
          "output_type": "stream",
          "text": [
            "Iteration No: 1 started. Evaluating function at random point.\n",
            "Iteration No: 1 ended. Evaluation done at random point.\n",
            "Time taken: 0.0003\n",
            "Function value obtained: 2283.5261\n",
            "Current minimum: 2283.5261\n",
            "Iteration No: 2 started. Evaluating function at random point.\n",
            "[0.0039160174486321635, 0.6299195868614579, 0.3073836852868271, 8, 0.6] \n",
            "\n",
            "Iteration No: 2 ended. Evaluation done at random point.\n",
            "Time taken: 55.8912\n",
            "Function value obtained: 3158.2933\n",
            "Current minimum: 2283.5261\n",
            "Iteration No: 3 started. Evaluating function at random point.\n",
            "[0.002423157857285798, 0.3838905729450125, 0.06701389319523296, 5, 0.5] \n",
            "\n",
            "Iteration No: 3 ended. Evaluation done at random point.\n",
            "Time taken: 83.9587\n",
            "Function value obtained: 3482.6016\n",
            "Current minimum: 2283.5261\n",
            "Iteration No: 4 started. Evaluating function at random point.\n",
            "[0.006488864850042589, 0.4659897275687758, 0.16783543883024893, 8, 0.4] \n",
            "\n",
            "Iteration No: 4 ended. Evaluation done at random point.\n",
            "Time taken: 78.3351\n",
            "Function value obtained: 2533.6470\n",
            "Current minimum: 2283.5261\n",
            "Iteration No: 5 started. Evaluating function at random point.\n",
            "[0.004448072651266725, 0.41570869292824664, 0.33714654768591396, 4, 0.7] \n",
            "\n",
            "Iteration No: 5 ended. Evaluation done at random point.\n",
            "Time taken: 40.7844\n",
            "Function value obtained: 3212.7851\n",
            "Current minimum: 2283.5261\n",
            "Iteration No: 6 started. Evaluating function at random point.\n",
            "[0.0029758295038874645, 0.61040983839084, 0.20614324386536148, 7, 0.6] \n",
            "\n",
            "Iteration No: 6 ended. Evaluation done at random point.\n",
            "Time taken: 55.6613\n",
            "Function value obtained: 3457.3192\n",
            "Current minimum: 2283.5261\n",
            "Iteration No: 7 started. Evaluating function at random point.\n",
            "[0.003819616775589123, 0.4918179532520548, 0.2775846872967072, 4, 0.5] \n",
            "\n",
            "Iteration No: 7 ended. Evaluation done at random point.\n",
            "Time taken: 65.7799\n",
            "Function value obtained: 3102.0395\n",
            "Current minimum: 2283.5261\n",
            "Iteration No: 8 started. Evaluating function at random point.\n",
            "[0.0015357917960432993, 0.5816131797080312, 0.11496510632731158, 4, 0.4] \n",
            "\n",
            "Iteration No: 8 ended. Evaluation done at random point.\n",
            "Time taken: 57.0371\n",
            "Function value obtained: 4112.7522\n",
            "Current minimum: 2283.5261\n",
            "Iteration No: 9 started. Evaluating function at random point.\n",
            "[0.0014114804498181488, 0.35004462471321446, 0.1659466943377586, 8, 0.5] \n",
            "\n",
            "Iteration No: 9 ended. Evaluation done at random point.\n",
            "Time taken: 87.5474\n",
            "Function value obtained: 4010.2477\n",
            "Current minimum: 2283.5261\n",
            "Iteration No: 10 started. Evaluating function at random point.\n",
            "[0.004102640452317436, 0.656056862428293, 0.07978410510769217, 9, 0.6] \n",
            "\n",
            "Iteration No: 10 ended. Evaluation done at random point.\n",
            "Time taken: 54.0948\n",
            "Function value obtained: 3144.0163\n",
            "Current minimum: 2283.5261\n",
            "Iteration No: 11 started. Evaluating function at random point.\n",
            "[0.0014822094749180929, 0.4111684751362863, 0.2752058423655369, 7, 0.4] \n",
            "\n",
            "Iteration No: 11 ended. Evaluation done at random point.\n",
            "Time taken: 64.3275\n",
            "Function value obtained: 4084.6756\n",
            "Current minimum: 2283.5261\n",
            "Iteration No: 12 started. Evaluating function at random point.\n",
            "[0.0010925100141198866, 0.5354233260808008, 0.3376847805873561, 7, 0.6] \n",
            "\n",
            "Iteration No: 12 ended. Evaluation done at random point.\n",
            "Time taken: 40.5894\n",
            "Function value obtained: 4463.2863\n",
            "Current minimum: 2283.5261\n",
            "Iteration No: 13 started. Evaluating function at random point.\n",
            "[0.009892352141083794, 0.5118326482473405, 0.17431057646791065, 6, 0.6] \n",
            "\n",
            "Iteration No: 13 ended. Evaluation done at random point.\n",
            "Time taken: 80.6202\n",
            "Function value obtained: 2275.3578\n",
            "Current minimum: 2275.3578\n",
            "Iteration No: 14 started. Evaluating function at random point.\n",
            "[0.002177747956247135, 0.5536385450165593, 0.14516052262078882, 8, 0.7] \n",
            "\n",
            "Iteration No: 14 ended. Evaluation done at random point.\n",
            "Time taken: 67.2672\n",
            "Function value obtained: 3708.8926\n",
            "Current minimum: 2275.3578\n",
            "Iteration No: 15 started. Evaluating function at random point.\n",
            "[0.004597554297029557, 0.25610723602544944, 0.2368538286640009, 7, 0.7] \n",
            "\n",
            "Iteration No: 15 ended. Evaluation done at random point.\n",
            "Time taken: 68.7658\n",
            "Function value obtained: 2889.3433\n",
            "Current minimum: 2275.3578\n",
            "Iteration No: 16 started. Searching for the next optimal point.\n",
            "[0.0075542868429005145, 0.4793309695239551, 0.0667144081104819, 6, 0.3] \n",
            "\n",
            "Iteration No: 16 ended. Search finished for the next optimal point.\n",
            "Time taken: 82.8174\n",
            "Function value obtained: 2409.1623\n",
            "Current minimum: 2275.3578\n",
            "Iteration No: 17 started. Searching for the next optimal point.\n",
            "[0.007790771860756935, 0.27624495773069757, 0.17347052986400613, 6, 0.7] \n",
            "\n",
            "Iteration No: 17 ended. Search finished for the next optimal point.\n",
            "Time taken: 89.7321\n",
            "Function value obtained: 2358.4235\n",
            "Current minimum: 2275.3578\n",
            "Iteration No: 18 started. Searching for the next optimal point.\n",
            "[0.009890097941333047, 0.3385450368241002, 0.17636349001842955, 6, 0.6] \n",
            "\n",
            "Iteration No: 18 ended. Search finished for the next optimal point.\n",
            "Time taken: 89.4800\n",
            "Function value obtained: 2254.8565\n",
            "Current minimum: 2254.8565\n",
            "Iteration No: 19 started. Searching for the next optimal point.\n",
            "[0.0010587321225079506, 0.675090261457218, 0.3345354629049029, 6, 0.4] \n",
            "\n",
            "Iteration No: 19 ended. Search finished for the next optimal point.\n",
            "Time taken: 41.2626\n",
            "Function value obtained: 4483.0378\n",
            "Current minimum: 2254.8565\n",
            "Iteration No: 20 started. Searching for the next optimal point.\n",
            "[0.008797042425869823, 0.4779711816855778, 0.15325490131528485, 6, 0.6] \n",
            "\n",
            "Iteration No: 20 ended. Search finished for the next optimal point.\n",
            "Time taken: 87.1578\n",
            "Function value obtained: 2316.9997\n",
            "Current minimum: 2254.8565\n",
            "Iteration No: 21 started. Searching for the next optimal point.\n",
            "[0.008844447248027338, 0.38533651639797917, 0.07228840882319977, 5, 0.6] \n",
            "\n",
            "Iteration No: 21 ended. Search finished for the next optimal point.\n",
            "Time taken: 89.4689\n",
            "Function value obtained: 2280.2855\n",
            "Current minimum: 2254.8565\n",
            "Iteration No: 22 started. Searching for the next optimal point.\n",
            "[0.008910398953710638, 0.3968936025160056, 0.11141953881822278, 7, 0.6] \n",
            "\n",
            "Iteration No: 22 ended. Search finished for the next optimal point.\n",
            "Time taken: 86.7485\n",
            "Function value obtained: 2283.9002\n",
            "Current minimum: 2254.8565\n",
            "Iteration No: 23 started. Searching for the next optimal point.\n",
            "[0.009010677688708902, 0.4081027903446171, 0.1298998219280576, 6, 0.6] \n",
            "\n",
            "Iteration No: 23 ended. Search finished for the next optimal point.\n",
            "Time taken: 85.7431\n",
            "Function value obtained: 2285.2879\n",
            "Current minimum: 2254.8565\n",
            "Iteration No: 24 started. Searching for the next optimal point.\n",
            "[0.008998905761675545, 0.3739467531961264, 0.07029494152782269, 4, 0.6] \n",
            "\n",
            "Iteration No: 24 ended. Search finished for the next optimal point.\n",
            "Time taken: 91.4232\n",
            "Function value obtained: 2266.6069\n",
            "Current minimum: 2254.8565\n",
            "Iteration No: 25 started. Searching for the next optimal point.\n",
            "[0.009059446732092937, 0.3898875492231503, 0.1247195409526719, 6, 0.6] \n",
            "\n",
            "Iteration No: 25 ended. Search finished for the next optimal point.\n",
            "Time taken: 86.6739\n",
            "Function value obtained: 2277.0130\n",
            "Current minimum: 2254.8565\n",
            "Iteration No: 26 started. Searching for the next optimal point.\n",
            "[0.009112702439828802, 0.45618090983961024, 0.20537229071771784, 7, 0.6] \n",
            "\n",
            "Iteration No: 26 ended. Search finished for the next optimal point.\n",
            "Time taken: 81.3009\n",
            "Function value obtained: 2326.0104\n",
            "Current minimum: 2254.8565\n",
            "Iteration No: 27 started. Searching for the next optimal point.\n",
            "[0.009158271302215209, 0.3944685648563172, 0.13053288294782434, 6, 0.6] \n",
            "\n",
            "Iteration No: 27 ended. Search finished for the next optimal point.\n",
            "Time taken: 86.3892\n",
            "Function value obtained: 2274.5339\n",
            "Current minimum: 2254.8565\n",
            "Iteration No: 28 started. Searching for the next optimal point.\n",
            "[0.009203290802538185, 0.40101434284496884, 0.16697492572725692, 7, 0.6] \n",
            "\n",
            "Iteration No: 28 ended. Search finished for the next optimal point.\n",
            "Time taken: 84.1376\n",
            "Function value obtained: 2288.4382\n",
            "Current minimum: 2254.8565\n",
            "Iteration No: 29 started. Searching for the next optimal point.\n",
            "[0.009244704318054808, 0.36246108822834594, 0.056092611548180175, 6, 0.6] \n",
            "\n",
            "Iteration No: 29 ended. Search finished for the next optimal point.\n",
            "Time taken: 93.3993\n",
            "Function value obtained: 2247.5410\n",
            "Current minimum: 2247.5410\n",
            "Iteration No: 30 started. Searching for the next optimal point.\n",
            "[0.009379227573726669, 0.3795483855239926, 0.06300029289306004, 5, 0.6] \n",
            "\n",
            "Iteration No: 30 ended. Search finished for the next optimal point.\n",
            "Time taken: 91.2694\n",
            "Function value obtained: 2245.1850\n",
            "Current minimum: 2245.1850\n",
            "[0.009418969575737663, 0.4439791855087123, 0.08604260166722716, 4, 0.6] \n",
            "\n",
            "Iteration No: 31 ended. Search finished for the next optimal point.\n",
            "Time taken: 176.4288\n",
            "Function value obtained: 2268.5925\n",
            "Current minimum: 2245.1850\n"
          ],
          "name": "stdout"
        }
      ]
    },
    {
      "cell_type": "code",
      "metadata": {
        "id": "zKP-A4To1wDJ",
        "outputId": "99715265-c41f-42e6-b427-1e9b506ce4e4",
        "colab": {
          "base_uri": "https://localhost:8080/",
          "height": 1000
        }
      },
      "source": [
        "from skopt import BayesSearchCV\n",
        "\n",
        "hp_params_dict2 = dict(learning_rate = (0.001,0.01,'log-uniform'), min_samples_split = (0.25,0.7), min_samples_leaf = (0.05,0.35), max_depth = (3,9), alpha = [0.3,0.4,0.5,0.6,0.7])\n",
        "opt2 = BayesSearchCV(GradientBoostingRegressor(),hp_params_dict2,\n",
        "                    n_jobs=-1,random_state=0, n_iter=30, cv=3, verbose=1,\n",
        "                    scoring='neg_mean_squared_error')\n",
        "\n",
        "opt2.fit(X_train,y_train)\n",
        "print(opt2.best_estimator_) \n",
        "print(opt2.best_score_)\n",
        "print(opt2.score(X_test, y_test))\n",
        "print(opt2.best_params_)"
      ],
      "execution_count": null,
      "outputs": [
        {
          "output_type": "stream",
          "text": [
            "Fitting 3 folds for each of 1 candidates, totalling 3 fits\n"
          ],
          "name": "stdout"
        },
        {
          "output_type": "stream",
          "text": [
            "[Parallel(n_jobs=-1)]: Using backend LokyBackend with 2 concurrent workers.\n",
            "[Parallel(n_jobs=-1)]: Done   3 out of   3 | elapsed:    6.7s finished\n",
            "[Parallel(n_jobs=-1)]: Using backend LokyBackend with 2 concurrent workers.\n"
          ],
          "name": "stderr"
        },
        {
          "output_type": "stream",
          "text": [
            "Fitting 3 folds for each of 1 candidates, totalling 3 fits\n"
          ],
          "name": "stdout"
        },
        {
          "output_type": "stream",
          "text": [
            "[Parallel(n_jobs=-1)]: Done   3 out of   3 | elapsed:    7.2s finished\n",
            "[Parallel(n_jobs=-1)]: Using backend LokyBackend with 2 concurrent workers.\n"
          ],
          "name": "stderr"
        },
        {
          "output_type": "stream",
          "text": [
            "Fitting 3 folds for each of 1 candidates, totalling 3 fits\n"
          ],
          "name": "stdout"
        },
        {
          "output_type": "stream",
          "text": [
            "[Parallel(n_jobs=-1)]: Done   3 out of   3 | elapsed:    8.4s finished\n",
            "[Parallel(n_jobs=-1)]: Using backend LokyBackend with 2 concurrent workers.\n"
          ],
          "name": "stderr"
        },
        {
          "output_type": "stream",
          "text": [
            "Fitting 3 folds for each of 1 candidates, totalling 3 fits\n"
          ],
          "name": "stdout"
        },
        {
          "output_type": "stream",
          "text": [
            "[Parallel(n_jobs=-1)]: Done   3 out of   3 | elapsed:    5.6s finished\n",
            "[Parallel(n_jobs=-1)]: Using backend LokyBackend with 2 concurrent workers.\n"
          ],
          "name": "stderr"
        },
        {
          "output_type": "stream",
          "text": [
            "Fitting 3 folds for each of 1 candidates, totalling 3 fits\n"
          ],
          "name": "stdout"
        },
        {
          "output_type": "stream",
          "text": [
            "[Parallel(n_jobs=-1)]: Done   3 out of   3 | elapsed:    9.1s finished\n",
            "[Parallel(n_jobs=-1)]: Using backend LokyBackend with 2 concurrent workers.\n"
          ],
          "name": "stderr"
        },
        {
          "output_type": "stream",
          "text": [
            "Fitting 3 folds for each of 1 candidates, totalling 3 fits\n"
          ],
          "name": "stdout"
        },
        {
          "output_type": "stream",
          "text": [
            "[Parallel(n_jobs=-1)]: Done   3 out of   3 | elapsed:    7.7s finished\n",
            "[Parallel(n_jobs=-1)]: Using backend LokyBackend with 2 concurrent workers.\n"
          ],
          "name": "stderr"
        },
        {
          "output_type": "stream",
          "text": [
            "Fitting 3 folds for each of 1 candidates, totalling 3 fits\n"
          ],
          "name": "stdout"
        },
        {
          "output_type": "stream",
          "text": [
            "[Parallel(n_jobs=-1)]: Done   3 out of   3 | elapsed:    8.8s finished\n",
            "[Parallel(n_jobs=-1)]: Using backend LokyBackend with 2 concurrent workers.\n"
          ],
          "name": "stderr"
        },
        {
          "output_type": "stream",
          "text": [
            "Fitting 3 folds for each of 1 candidates, totalling 3 fits\n"
          ],
          "name": "stdout"
        },
        {
          "output_type": "stream",
          "text": [
            "[Parallel(n_jobs=-1)]: Done   3 out of   3 | elapsed:   10.4s finished\n",
            "[Parallel(n_jobs=-1)]: Using backend LokyBackend with 2 concurrent workers.\n"
          ],
          "name": "stderr"
        },
        {
          "output_type": "stream",
          "text": [
            "Fitting 3 folds for each of 1 candidates, totalling 3 fits\n"
          ],
          "name": "stdout"
        },
        {
          "output_type": "stream",
          "text": [
            "[Parallel(n_jobs=-1)]: Done   3 out of   3 | elapsed:    5.1s finished\n"
          ],
          "name": "stderr"
        },
        {
          "output_type": "stream",
          "text": [
            "Fitting 3 folds for each of 1 candidates, totalling 3 fits\n"
          ],
          "name": "stdout"
        },
        {
          "output_type": "stream",
          "text": [
            "[Parallel(n_jobs=-1)]: Using backend LokyBackend with 2 concurrent workers.\n",
            "[Parallel(n_jobs=-1)]: Done   3 out of   3 | elapsed:    5.8s finished\n"
          ],
          "name": "stderr"
        },
        {
          "output_type": "stream",
          "text": [
            "Fitting 3 folds for each of 1 candidates, totalling 3 fits\n"
          ],
          "name": "stdout"
        },
        {
          "output_type": "stream",
          "text": [
            "[Parallel(n_jobs=-1)]: Using backend LokyBackend with 2 concurrent workers.\n",
            "[Parallel(n_jobs=-1)]: Done   3 out of   3 | elapsed:    7.5s finished\n"
          ],
          "name": "stderr"
        },
        {
          "output_type": "stream",
          "text": [
            "Fitting 3 folds for each of 1 candidates, totalling 3 fits\n"
          ],
          "name": "stdout"
        },
        {
          "output_type": "stream",
          "text": [
            "[Parallel(n_jobs=-1)]: Using backend LokyBackend with 2 concurrent workers.\n",
            "[Parallel(n_jobs=-1)]: Done   3 out of   3 | elapsed:    4.2s finished\n"
          ],
          "name": "stderr"
        },
        {
          "output_type": "stream",
          "text": [
            "Fitting 3 folds for each of 1 candidates, totalling 3 fits\n"
          ],
          "name": "stdout"
        },
        {
          "output_type": "stream",
          "text": [
            "[Parallel(n_jobs=-1)]: Using backend LokyBackend with 2 concurrent workers.\n",
            "[Parallel(n_jobs=-1)]: Done   3 out of   3 | elapsed:    6.8s finished\n"
          ],
          "name": "stderr"
        },
        {
          "output_type": "stream",
          "text": [
            "Fitting 3 folds for each of 1 candidates, totalling 3 fits\n"
          ],
          "name": "stdout"
        },
        {
          "output_type": "stream",
          "text": [
            "[Parallel(n_jobs=-1)]: Using backend LokyBackend with 2 concurrent workers.\n",
            "[Parallel(n_jobs=-1)]: Done   3 out of   3 | elapsed:    6.5s finished\n"
          ],
          "name": "stderr"
        },
        {
          "output_type": "stream",
          "text": [
            "Fitting 3 folds for each of 1 candidates, totalling 3 fits\n"
          ],
          "name": "stdout"
        },
        {
          "output_type": "stream",
          "text": [
            "[Parallel(n_jobs=-1)]: Using backend LokyBackend with 2 concurrent workers.\n",
            "[Parallel(n_jobs=-1)]: Done   3 out of   3 | elapsed:    7.2s finished\n"
          ],
          "name": "stderr"
        },
        {
          "output_type": "stream",
          "text": [
            "Fitting 3 folds for each of 1 candidates, totalling 3 fits\n"
          ],
          "name": "stdout"
        },
        {
          "output_type": "stream",
          "text": [
            "[Parallel(n_jobs=-1)]: Using backend LokyBackend with 2 concurrent workers.\n",
            "[Parallel(n_jobs=-1)]: Done   3 out of   3 | elapsed:    6.9s finished\n"
          ],
          "name": "stderr"
        },
        {
          "output_type": "stream",
          "text": [
            "Fitting 3 folds for each of 1 candidates, totalling 3 fits\n"
          ],
          "name": "stdout"
        },
        {
          "output_type": "stream",
          "text": [
            "[Parallel(n_jobs=-1)]: Using backend LokyBackend with 2 concurrent workers.\n",
            "[Parallel(n_jobs=-1)]: Done   3 out of   3 | elapsed:    7.5s finished\n"
          ],
          "name": "stderr"
        },
        {
          "output_type": "stream",
          "text": [
            "Fitting 3 folds for each of 1 candidates, totalling 3 fits\n"
          ],
          "name": "stdout"
        },
        {
          "output_type": "stream",
          "text": [
            "[Parallel(n_jobs=-1)]: Using backend LokyBackend with 2 concurrent workers.\n",
            "[Parallel(n_jobs=-1)]: Done   3 out of   3 | elapsed:    7.3s finished\n"
          ],
          "name": "stderr"
        },
        {
          "output_type": "stream",
          "text": [
            "Fitting 3 folds for each of 1 candidates, totalling 3 fits\n"
          ],
          "name": "stdout"
        },
        {
          "output_type": "stream",
          "text": [
            "[Parallel(n_jobs=-1)]: Using backend LokyBackend with 2 concurrent workers.\n",
            "[Parallel(n_jobs=-1)]: Done   3 out of   3 | elapsed:    6.9s finished\n"
          ],
          "name": "stderr"
        },
        {
          "output_type": "stream",
          "text": [
            "Fitting 3 folds for each of 1 candidates, totalling 3 fits\n"
          ],
          "name": "stdout"
        },
        {
          "output_type": "stream",
          "text": [
            "[Parallel(n_jobs=-1)]: Using backend LokyBackend with 2 concurrent workers.\n",
            "[Parallel(n_jobs=-1)]: Done   3 out of   3 | elapsed:    7.3s finished\n"
          ],
          "name": "stderr"
        },
        {
          "output_type": "stream",
          "text": [
            "Fitting 3 folds for each of 1 candidates, totalling 3 fits\n"
          ],
          "name": "stdout"
        },
        {
          "output_type": "stream",
          "text": [
            "[Parallel(n_jobs=-1)]: Using backend LokyBackend with 2 concurrent workers.\n",
            "[Parallel(n_jobs=-1)]: Done   3 out of   3 | elapsed:    7.3s finished\n"
          ],
          "name": "stderr"
        },
        {
          "output_type": "stream",
          "text": [
            "Fitting 3 folds for each of 1 candidates, totalling 3 fits\n"
          ],
          "name": "stdout"
        },
        {
          "output_type": "stream",
          "text": [
            "[Parallel(n_jobs=-1)]: Using backend LokyBackend with 2 concurrent workers.\n",
            "[Parallel(n_jobs=-1)]: Done   3 out of   3 | elapsed:    7.3s finished\n"
          ],
          "name": "stderr"
        },
        {
          "output_type": "stream",
          "text": [
            "Fitting 3 folds for each of 1 candidates, totalling 3 fits\n"
          ],
          "name": "stdout"
        },
        {
          "output_type": "stream",
          "text": [
            "[Parallel(n_jobs=-1)]: Using backend LokyBackend with 2 concurrent workers.\n",
            "[Parallel(n_jobs=-1)]: Done   3 out of   3 | elapsed:    7.3s finished\n"
          ],
          "name": "stderr"
        },
        {
          "output_type": "stream",
          "text": [
            "Fitting 3 folds for each of 1 candidates, totalling 3 fits\n"
          ],
          "name": "stdout"
        },
        {
          "output_type": "stream",
          "text": [
            "[Parallel(n_jobs=-1)]: Using backend LokyBackend with 2 concurrent workers.\n",
            "[Parallel(n_jobs=-1)]: Done   3 out of   3 | elapsed:    7.3s finished\n"
          ],
          "name": "stderr"
        },
        {
          "output_type": "stream",
          "text": [
            "Fitting 3 folds for each of 1 candidates, totalling 3 fits\n"
          ],
          "name": "stdout"
        },
        {
          "output_type": "stream",
          "text": [
            "[Parallel(n_jobs=-1)]: Using backend LokyBackend with 2 concurrent workers.\n",
            "[Parallel(n_jobs=-1)]: Done   3 out of   3 | elapsed:    7.3s finished\n"
          ],
          "name": "stderr"
        },
        {
          "output_type": "stream",
          "text": [
            "Fitting 3 folds for each of 1 candidates, totalling 3 fits\n"
          ],
          "name": "stdout"
        },
        {
          "output_type": "stream",
          "text": [
            "[Parallel(n_jobs=-1)]: Using backend LokyBackend with 2 concurrent workers.\n",
            "[Parallel(n_jobs=-1)]: Done   3 out of   3 | elapsed:    7.2s finished\n"
          ],
          "name": "stderr"
        },
        {
          "output_type": "stream",
          "text": [
            "Fitting 3 folds for each of 1 candidates, totalling 3 fits\n"
          ],
          "name": "stdout"
        },
        {
          "output_type": "stream",
          "text": [
            "[Parallel(n_jobs=-1)]: Using backend LokyBackend with 2 concurrent workers.\n",
            "[Parallel(n_jobs=-1)]: Done   3 out of   3 | elapsed:    7.3s finished\n"
          ],
          "name": "stderr"
        },
        {
          "output_type": "stream",
          "text": [
            "Fitting 3 folds for each of 1 candidates, totalling 3 fits\n"
          ],
          "name": "stdout"
        },
        {
          "output_type": "stream",
          "text": [
            "[Parallel(n_jobs=-1)]: Using backend LokyBackend with 2 concurrent workers.\n",
            "[Parallel(n_jobs=-1)]: Done   3 out of   3 | elapsed:    7.3s finished\n"
          ],
          "name": "stderr"
        },
        {
          "output_type": "stream",
          "text": [
            "Fitting 3 folds for each of 1 candidates, totalling 3 fits\n"
          ],
          "name": "stdout"
        },
        {
          "output_type": "stream",
          "text": [
            "[Parallel(n_jobs=-1)]: Using backend LokyBackend with 2 concurrent workers.\n",
            "[Parallel(n_jobs=-1)]: Done   3 out of   3 | elapsed:    7.4s finished\n"
          ],
          "name": "stderr"
        },
        {
          "output_type": "stream",
          "text": [
            "Fitting 3 folds for each of 1 candidates, totalling 3 fits\n"
          ],
          "name": "stdout"
        },
        {
          "output_type": "stream",
          "text": [
            "[Parallel(n_jobs=-1)]: Using backend LokyBackend with 2 concurrent workers.\n",
            "[Parallel(n_jobs=-1)]: Done   3 out of   3 | elapsed:    7.3s finished\n"
          ],
          "name": "stderr"
        },
        {
          "output_type": "stream",
          "text": [
            "GradientBoostingRegressor(alpha=0.6, ccp_alpha=0.0, criterion='friedman_mse',\n",
            "                          init=None, learning_rate=0.00997927745735852,\n",
            "                          loss='ls', max_depth=5, max_features=None,\n",
            "                          max_leaf_nodes=None, min_impurity_decrease=0.0,\n",
            "                          min_impurity_split=None,\n",
            "                          min_samples_leaf=0.2085628990969996,\n",
            "                          min_samples_split=0.35817055182063784,\n",
            "                          min_weight_fraction_leaf=0.0, n_estimators=100,\n",
            "                          n_iter_no_change=None, presort='deprecated',\n",
            "                          random_state=None, subsample=1.0, tol=0.0001,\n",
            "                          validation_fraction=0.1, verbose=0, warm_start=False)\n",
            "-2767.8737515651837\n",
            "-2751.847365287946\n",
            "OrderedDict([('alpha', 0.6), ('learning_rate', 0.00997927745735852), ('max_depth', 5), ('min_samples_leaf', 0.2085628990969996), ('min_samples_split', 0.35817055182063784)])\n"
          ],
          "name": "stdout"
        }
      ]
    },
    {
      "cell_type": "markdown",
      "metadata": {
        "id": "tYI2bMx0o3rA"
      },
      "source": [
        "## Conclusão(Gradient Boosting Regressor)\n",
        "O problema não é o modelo, o dataset é muito grande e por isso é lento. Talvez isso seja resolvido diminuindo os dados de treino "
      ]
    },
    {
      "cell_type": "markdown",
      "metadata": {
        "id": "tURNg-8Aovoo"
      },
      "source": [
        "- **XGBRegressor**"
      ]
    },
    {
      "cell_type": "code",
      "metadata": {
        "id": "5Rrfz15HrWYK"
      },
      "source": [
        "modelo_padrao3 = XGBRegressor(n_jobs=-1,random_state=0,objective='reg:squarederror')\n",
        "modelo_padrao3.fit(X_train,y_train)\n",
        "predicao_referencia3 = modelo_padrao3.predict(X_test)"
      ],
      "execution_count": null,
      "outputs": []
    },
    {
      "cell_type": "code",
      "metadata": {
        "id": "pGI0fSoorWYS",
        "outputId": "987b13ef-6859-4b98-a602-b1645b644468",
        "colab": {
          "base_uri": "https://localhost:8080/",
          "height": 34
        }
      },
      "source": [
        "score_referencia3 = mean_squared_error(y_test,predicao_referencia3)\n",
        "score_referencia3"
      ],
      "execution_count": null,
      "outputs": [
        {
          "output_type": "execute_result",
          "data": {
            "text/plain": [
              "2093.2309971404793"
            ]
          },
          "metadata": {
            "tags": []
          },
          "execution_count": 135
        }
      ]
    },
    {
      "cell_type": "code",
      "metadata": {
        "id": "ic4ziIgNrWYW"
      },
      "source": [
        "def model_trains3(params):\n",
        "  learning_rate = params[0]\n",
        "  gamma = params[1]\n",
        "  reg_lambda = params[2]\n",
        "  max_depth = params[3]\n",
        "  reg_alpha = params[4]\n",
        "\n",
        "  \n",
        "  print(params,'\\n')\n",
        "  \n",
        "  modelo = XGBRegressor(random_state=0, objective='reg:squarederror',\n",
        "                        learning_rate=learning_rate, gamma=gamma, reg_lambda=reg_lambda,\n",
        "                        max_depth=max_depth, reg_alpha=reg_alpha, n_jobs=-1)\n",
        "  modelo.fit(X_train,y_train)\n",
        "  \n",
        "  predicao = modelo.predict(X_test)\n",
        "  \n",
        "  return mean_squared_error(y_test,predicao)\n",
        "\n",
        "intervalos3 = [(0.001, 0.1,'log-uniform'), # learning_rate\n",
        "              (0.0, 1,0), # gamma\n",
        "              (0.0, 2.0), # reg_lambda\n",
        "              (1, 10), # max_depth\n",
        "              (0.0, 1.0)] # reg_alpha"
      ],
      "execution_count": null,
      "outputs": []
    },
    {
      "cell_type": "code",
      "metadata": {
        "id": "Eo_77W1vOtwz",
        "outputId": "7cc95018-8006-4bcd-fa18-6921b4c2df34",
        "colab": {
          "base_uri": "https://localhost:8080/",
          "height": 1000
        }
      },
      "source": [
        "resultado = dummy_minimize(model_trains3, intervalos3, random_state=0, verbose=1, n_calls=100)"
      ],
      "execution_count": null,
      "outputs": [
        {
          "output_type": "stream",
          "text": [
            "Iteration No: 1 started. Evaluating function at random point.\n",
            "[0.015335192657991574, 0, 1.715891235245514, 8, 0.4236547993389048] \n",
            "\n",
            "Iteration No: 1 ended. Evaluation done at random point.\n",
            "Time taken: 3.5727\n",
            "Function value obtained: 14891.6239\n",
            "Current minimum: 14891.6239\n",
            "Iteration No: 2 started. Evaluating function at random point.\n",
            "[0.019578897201213006, 1, 1.78354600156416, 9, 0.27265629458011326] \n",
            "\n",
            "Iteration No: 2 ended. Evaluation done at random point.\n",
            "Time taken: 4.0983\n",
            "Function value obtained: 7495.2549\n",
            "Current minimum: 7495.2549\n",
            "Iteration No: 3 started. Evaluating function at random point.\n",
            "[0.009022569470269151, 0, 0.9599543447501149, 2, 0.9255966382926613] \n",
            "\n",
            "Iteration No: 3 ended. Evaluation done at random point.\n",
            "Time taken: 1.1971\n",
            "Function value obtained: 48127.3629\n",
            "Current minimum: 7495.2549\n",
            "Iteration No: 4 started. Evaluating function at random point.\n",
            "[0.0013869861245357326, 0.0, 0.040436794880651446, 4, 0.9571551589530466] \n",
            "\n",
            "Iteration No: 4 ended. Evaluation done at random point.\n",
            "Time taken: 2.2075\n",
            "Function value obtained: 215239.5980\n",
            "Current minimum: 7495.2549\n",
            "Iteration No: 5 started. Evaluating function at random point.\n",
            "[0.0019085412933888726, 0, 0.9472160905474212, 2, 0.46147936225293196] \n",
            "\n",
            "Iteration No: 5 ended. Evaluation done at random point.\n",
            "Time taken: 1.1798\n",
            "Function value obtained: 194196.7306\n",
            "Current minimum: 7495.2549\n",
            "Iteration No: 6 started. Evaluating function at random point.\n",
            "[0.03639639356786393, 0.0, 1.2798420426550479, 10, 0.5373732294490108] \n",
            "\n",
            "Iteration No: 6 ended. Evaluation done at random point.\n",
            "Time taken: 5.5284\n",
            "Function value obtained: 2287.6095\n",
            "Current minimum: 2287.6095\n",
            "Iteration No: 7 started. Evaluating function at random point.\n",
            "[0.03290267810262663, 0.0, 0.9472008386933151, 3, 0.45615033221654866] \n",
            "\n",
            "Iteration No: 7 ended. Evaluation done at random point.\n",
            "Time taken: 1.7047\n",
            "Function value obtained: 2428.7465\n",
            "Current minimum: 2287.6095\n",
            "Iteration No: 8 started. Evaluating function at random point.\n",
            "[0.01370464839284902, 0.0, 1.2352709941517543, 7, 0.2223213882515877] \n",
            "\n",
            "Iteration No: 8 ended. Evaluation done at random point.\n",
            "Time taken: 3.4249\n",
            "Function value obtained: 19898.5068\n",
            "Current minimum: 2287.6095\n",
            "Iteration No: 9 started. Evaluating function at random point.\n",
            "[0.005928952380648088, 0, 0.8998999798224554, 9, 0.9023485831739845] \n",
            "\n",
            "Iteration No: 9 ended. Evaluation done at random point.\n",
            "Time taken: 3.1912\n",
            "Function value obtained: 87756.6380\n",
            "Current minimum: 2287.6095\n",
            "Iteration No: 10 started. Evaluating function at random point.\n",
            "[0.0015796493776417486, 0, 1.3062800715958756, 3, 0.12892629765485333] \n",
            "\n",
            "Iteration No: 10 ended. Evaluation done at random point.\n",
            "Time taken: 1.6619\n",
            "Function value obtained: 207232.9627\n",
            "Current minimum: 2287.6095\n",
            "Iteration No: 11 started. Evaluating function at random point.\n",
            "[0.004274218324036844, 1, 1.1403935408357595, 5, 0.6342740579573352] \n",
            "\n",
            "Iteration No: 11 ended. Evaluation done at random point.\n",
            "Time taken: 2.5977\n",
            "Function value obtained: 121578.8906\n",
            "Current minimum: 2287.6095\n",
            "Iteration No: 12 started. Evaluating function at random point.\n",
            "[0.08277487569782092, 1, 1.270117747207128, 5, 0.5818503294385344] \n",
            "\n",
            "Iteration No: 12 ended. Evaluation done at random point.\n",
            "Time taken: 2.7218\n",
            "Function value obtained: 2110.8618\n",
            "Current minimum: 2110.8618\n",
            "Iteration No: 13 started. Evaluating function at random point.\n",
            "[0.006741199446482267, 1, 1.2470202022637367, 6, 0.6563295894652735] \n",
            "\n",
            "Iteration No: 13 ended. Evaluation done at random point.\n",
            "Time taken: 2.9065\n",
            "Function value obtained: 74847.0387\n",
            "Current minimum: 2110.8618\n",
            "Iteration No: 14 started. Evaluating function at random point.\n",
            "[0.0018895826938026014, 0.0, 0.7374503413219283, 6, 0.013571635612109837] \n",
            "\n",
            "Iteration No: 14 ended. Evaluation done at random point.\n",
            "Time taken: 2.9763\n",
            "Function value obtained: 194852.5891\n",
            "Current minimum: 2110.8618\n",
            "Iteration No: 15 started. Evaluating function at random point.\n",
            "[0.017607276774114326, 0, 1.943890004999332, 4, 0.4686512016477017] \n",
            "\n",
            "Iteration No: 15 ended. Evaluation done at random point.\n",
            "Time taken: 2.2335\n",
            "Function value obtained: 10149.1487\n",
            "Current minimum: 2110.8618\n",
            "Iteration No: 16 started. Evaluating function at random point.\n",
            "[0.08985084719406064, 1, 1.4785271587966036, 1, 0.4417109212488455] \n",
            "\n",
            "Iteration No: 16 ended. Evaluation done at random point.\n",
            "Time taken: 0.7449\n",
            "Function value obtained: 2105.5231\n",
            "Current minimum: 2105.5231\n",
            "Iteration No: 17 started. Evaluating function at random point.\n",
            "[0.09102767654359176, 1, 0.9617870616723259, 10, 0.3179831793939761] \n",
            "\n",
            "Iteration No: 17 ended. Evaluation done at random point.\n",
            "Time taken: 5.7047\n",
            "Function value obtained: 2167.8186\n",
            "Current minimum: 2105.5231\n",
            "Iteration No: 18 started. Evaluating function at random point.\n",
            "[0.006737922153052584, 0.0, 1.38494423874004, 4, 0.8651025613053852] \n",
            "\n",
            "Iteration No: 18 ended. Evaluation done at random point.\n",
            "Time taken: 2.1996\n",
            "Function value obtained: 74913.3338\n",
            "Current minimum: 2105.5231\n",
            "Iteration No: 19 started. Evaluating function at random point.\n",
            "[0.010421684497173216, 0, 1.8423152204744, 5, 0.9292961975762143] \n",
            "\n",
            "Iteration No: 19 ended. Evaluation done at random point.\n",
            "Time taken: 2.6413\n",
            "Function value obtained: 36735.2959\n",
            "Current minimum: 2105.5231\n",
            "Iteration No: 20 started. Evaluating function at random point.\n",
            "[0.004336485563242769, 0, 0.2635957248087844, 1, 0.8413861191973546] \n",
            "\n",
            "Iteration No: 20 ended. Evaluation done at random point.\n",
            "Time taken: 0.7550\n",
            "Function value obtained: 120488.7426\n",
            "Current minimum: 2105.5231\n",
            "Iteration No: 21 started. Evaluating function at random point.\n",
            "[0.0033842335654657436, 1, 1.1056429597751432, 9, 0.3698080927483401] \n",
            "\n",
            "Iteration No: 21 ended. Evaluation done at random point.\n",
            "Time taken: 2.9988\n",
            "Function value obtained: 144955.3526\n",
            "Current minimum: 2105.5231\n",
            "Iteration No: 22 started. Evaluating function at random point.\n",
            "[0.00196283378885262, 1, 1.4074745585798327, 1, 0.2487531435199581] \n",
            "\n",
            "Iteration No: 22 ended. Evaluation done at random point.\n",
            "Time taken: 0.7520\n",
            "Function value obtained: 192300.3982\n",
            "Current minimum: 2105.5231\n",
            "Iteration No: 23 started. Evaluating function at random point.\n",
            "[0.014200860749035517, 1, 1.144503811581747, 5, 0.8915544372256773] \n",
            "\n",
            "Iteration No: 23 ended. Evaluation done at random point.\n",
            "Time taken: 2.7633\n",
            "Function value obtained: 18183.7469\n",
            "Current minimum: 2105.5231\n",
            "Iteration No: 24 started. Evaluating function at random point.\n",
            "[0.02291453976479773, 1, 1.9571418568414345, 7, 0.8137978197024774] \n",
            "\n",
            "Iteration No: 24 ended. Evaluation done at random point.\n",
            "Time taken: 3.6536\n",
            "Function value obtained: 4818.2524\n",
            "Current minimum: 2105.5231\n",
            "Iteration No: 25 started. Evaluating function at random point.\n",
            "[0.006208854487201754, 0, 1.1625457452717176, 6, 0.9654162205199273] \n",
            "\n",
            "Iteration No: 25 ended. Evaluation done at random point.\n",
            "Time taken: 2.8985\n",
            "Function value obtained: 83074.2531\n",
            "Current minimum: 2105.5231\n",
            "Iteration No: 26 started. Evaluating function at random point.\n",
            "[0.015029002965245947, 1, 1.0664125078332967, 4, 0.6439901992296375] \n",
            "\n",
            "Iteration No: 26 ended. Evaluation done at random point.\n",
            "Time taken: 2.2475\n",
            "Function value obtained: 15693.5668\n",
            "Current minimum: 2105.5231\n",
            "Iteration No: 27 started. Evaluating function at random point.\n",
            "[0.007042228249480471, 1, 0.03838639661866706, 6, 0.7160745312286433] \n",
            "\n",
            "Iteration No: 27 ended. Evaluation done at random point.\n",
            "Time taken: 3.5467\n",
            "Function value obtained: 70461.4162\n",
            "Current minimum: 2105.5231\n",
            "Iteration No: 28 started. Evaluating function at random point.\n",
            "[0.0037668819381056224, 1, 1.4983396743054496, 9, 0.13547406422245026] \n",
            "\n",
            "Iteration No: 28 ended. Evaluation done at random point.\n",
            "Time taken: 2.8573\n",
            "Function value obtained: 134410.3794\n",
            "Current minimum: 2105.5231\n",
            "Iteration No: 29 started. Evaluating function at random point.\n",
            "[0.003949704928589819, 1, 1.1817455224963467, 7, 0.6532008198571337] \n",
            "\n",
            "Iteration No: 29 ended. Evaluation done at random point.\n",
            "Time taken: 2.9238\n",
            "Function value obtained: 129628.0141\n",
            "Current minimum: 2105.5231\n",
            "Iteration No: 30 started. Evaluating function at random point.\n",
            "[0.02014682156411686, 1, 1.7930931917021264, 7, 0.9840422413641466] \n",
            "\n",
            "Iteration No: 30 ended. Evaluation done at random point.\n",
            "Time taken: 3.5698\n",
            "Function value obtained: 6893.8348\n",
            "Current minimum: 2105.5231\n",
            "Iteration No: 31 started. Evaluating function at random point.\n",
            "[0.0033165141546350643, 1, 0.89585234374146, 9, 0.3523116612005331] \n",
            "\n",
            "Iteration No: 31 ended. Evaluation done at random point.\n",
            "Time taken: 3.1539\n",
            "Function value obtained: 146901.3176\n",
            "Current minimum: 2105.5231\n",
            "Iteration No: 32 started. Evaluating function at random point.\n",
            "[0.008679572756499554, 0, 1.8092954884190273, 9, 0.16249293467637485] \n",
            "\n",
            "Iteration No: 32 ended. Evaluation done at random point.\n",
            "Time taken: 2.9822\n",
            "Function value obtained: 51339.8465\n",
            "Current minimum: 2105.5231\n",
            "Iteration No: 33 started. Evaluating function at random point.\n",
            "[0.01702625480753885, 0.0, 1.6960164586444693, 5, 0.41139672375545466] \n",
            "\n",
            "Iteration No: 33 ended. Evaluation done at random point.\n",
            "Time taken: 2.7376\n",
            "Function value obtained: 11155.2258\n",
            "Current minimum: 2105.5231\n",
            "Iteration No: 34 started. Evaluating function at random point.\n",
            "[0.001905220171648779, 0.0, 1.9651499196503877, 8, 0.45354268267806896] \n",
            "\n",
            "Iteration No: 34 ended. Evaluation done at random point.\n",
            "Time taken: 2.6872\n",
            "Function value obtained: 194297.6614\n",
            "Current minimum: 2105.5231\n",
            "Iteration No: 35 started. Evaluating function at random point.\n",
            "[0.027804250906328945, 0, 1.951043010005772, 8, 0.35997806447836395] \n",
            "\n",
            "Iteration No: 35 ended. Evaluation done at random point.\n",
            "Time taken: 4.1975\n",
            "Function value obtained: 3093.8368\n",
            "Current minimum: 2105.5231\n",
            "Iteration No: 36 started. Evaluating function at random point.\n",
            "[0.02883906161101796, 0.0, 1.0420732124082588, 2, 0.33898511677977833] \n",
            "\n",
            "Iteration No: 36 ended. Evaluation done at random point.\n",
            "Time taken: 1.1902\n",
            "Function value obtained: 2912.0693\n",
            "Current minimum: 2105.5231\n",
            "Iteration No: 37 started. Evaluating function at random point.\n",
            "[0.0022854962962690485, 0.0, 0.9269019547689661, 6, 0.9441197509175637] \n",
            "\n",
            "Iteration No: 37 ended. Evaluation done at random point.\n",
            "Time taken: 2.9193\n",
            "Function value obtained: 180157.9401\n",
            "Current minimum: 2105.5231\n",
            "Iteration No: 38 started. Evaluating function at random point.\n",
            "[0.01646287693470852, 1, 1.5672884906037774, 4, 0.6214784014997636] \n",
            "\n",
            "Iteration No: 38 ended. Evaluation done at random point.\n",
            "Time taken: 2.2406\n",
            "Function value obtained: 12258.4391\n",
            "Current minimum: 2105.5231\n",
            "Iteration No: 39 started. Evaluating function at random point.\n",
            "[0.014271091058141989, 0.0, 1.868427995849588, 8, 0.679090615627414] \n",
            "\n",
            "Iteration No: 39 ended. Evaluation done at random point.\n",
            "Time taken: 3.4387\n",
            "Function value obtained: 17982.0160\n",
            "Current minimum: 2105.5231\n",
            "Iteration No: 40 started. Evaluating function at random point.\n",
            "[0.053525765289099275, 0, 1.9289795355788621, 2, 0.398221062216092] \n",
            "\n",
            "Iteration No: 40 ended. Evaluation done at random point.\n",
            "Time taken: 1.2165\n",
            "Function value obtained: 2096.5463\n",
            "Current minimum: 2096.5463\n",
            "Iteration No: 41 started. Evaluating function at random point.\n",
            "[0.002628376030296235, 0.0, 1.8887447799678676, 6, 0.4521090350334258] \n",
            "\n",
            "Iteration No: 41 ended. Evaluation done at random point.\n",
            "Time taken: 2.6986\n",
            "Function value obtained: 168374.6746\n",
            "Current minimum: 2096.5463\n",
            "Iteration No: 42 started. Evaluating function at random point.\n",
            "[0.08719134281537064, 0, 0.17059113171740117, 7, 0.4344166255581209] \n",
            "\n",
            "Iteration No: 42 ended. Evaluation done at random point.\n",
            "Time taken: 4.0538\n",
            "Function value obtained: 2128.8165\n",
            "Current minimum: 2096.5463\n",
            "Iteration No: 43 started. Evaluating function at random point.\n",
            "[0.004203313319479943, 0, 0.755503678584962, 2, 0.5424987750103976] \n",
            "\n",
            "Iteration No: 43 ended. Evaluation done at random point.\n",
            "Time taken: 1.1841\n",
            "Function value obtained: 123389.2482\n",
            "Current minimum: 2096.5463\n",
            "Iteration No: 44 started. Evaluating function at random point.\n",
            "[0.05119495441397841, 0, 0.9571926512375004, 10, 0.6070450611164517] \n",
            "\n",
            "Iteration No: 44 ended. Evaluation done at random point.\n",
            "Time taken: 5.8119\n",
            "Function value obtained: 2138.5276\n",
            "Current minimum: 2096.5463\n",
            "Iteration No: 45 started. Evaluating function at random point.\n",
            "[0.026877809560702865, 1, 0.9120292464357347, 1, 0.2633223767371507] \n",
            "\n",
            "Iteration No: 45 ended. Evaluation done at random point.\n",
            "Time taken: 0.7595\n",
            "Function value obtained: 3479.1715\n",
            "Current minimum: 2096.5463\n",
            "Iteration No: 46 started. Evaluating function at random point.\n",
            "[0.0010997703299505677, 0, 0.6400343016449358, 9, 0.6457845985018993] \n",
            "\n",
            "Iteration No: 46 ended. Evaluation done at random point.\n",
            "Time taken: 3.2655\n",
            "Function value obtained: 227886.3141\n",
            "Current minimum: 2096.5463\n",
            "Iteration No: 47 started. Evaluating function at random point.\n",
            "[0.004460319244071374, 1, 0.00011071373001714238, 9, 0.2735420348156358] \n",
            "\n",
            "Iteration No: 47 ended. Evaluation done at random point.\n",
            "Time taken: 5.8858\n",
            "Function value obtained: 117075.2859\n",
            "Current minimum: 2096.5463\n",
            "Iteration No: 48 started. Evaluating function at random point.\n",
            "[0.03945423870668009, 0.0, 1.9055833139438896, 1, 0.4834086165987528] \n",
            "\n",
            "Iteration No: 48 ended. Evaluation done at random point.\n",
            "Time taken: 0.7703\n",
            "Function value obtained: 2257.2997\n",
            "Current minimum: 2096.5463\n",
            "Iteration No: 49 started. Evaluating function at random point.\n",
            "[0.037798873333295104, 0.0, 1.7605952062300096, 5, 0.9574508556589539] \n",
            "\n",
            "Iteration No: 49 ended. Evaluation done at random point.\n",
            "Time taken: 2.8929\n",
            "Function value obtained: 2217.9534\n",
            "Current minimum: 2096.5463\n",
            "Iteration No: 50 started. Evaluating function at random point.\n",
            "[0.008780174388525045, 0, 0.307388610015593, 6, 0.4635754243648108] \n",
            "\n",
            "Iteration No: 50 ended. Evaluation done at random point.\n",
            "Time taken: 3.4538\n",
            "Function value obtained: 50259.5353\n",
            "Current minimum: 2096.5463\n",
            "Iteration No: 51 started. Evaluating function at random point.\n",
            "[0.003591347358999574, 1, 1.7277112118464633, 5, 0.17490887430950755] \n",
            "\n",
            "Iteration No: 51 ended. Evaluation done at random point.\n",
            "Time taken: 2.5462\n",
            "Function value obtained: 139168.6293\n",
            "Current minimum: 2096.5463\n",
            "Iteration No: 52 started. Evaluating function at random point.\n",
            "[0.02564180049112535, 1, 1.6808570650708654, 3, 0.14484775934337726] \n",
            "\n",
            "Iteration No: 52 ended. Evaluation done at random point.\n",
            "Time taken: 1.7235\n",
            "Function value obtained: 3636.1297\n",
            "Current minimum: 2096.5463\n",
            "Iteration No: 53 started. Evaluating function at random point.\n",
            "[0.009464824407587833, 1, 1.8808638905056265, 3, 0.7469942401995036] \n",
            "\n",
            "Iteration No: 53 ended. Evaluation done at random point.\n",
            "Time taken: 1.7089\n",
            "Function value obtained: 44143.8330\n",
            "Current minimum: 2096.5463\n",
            "Iteration No: 54 started. Evaluating function at random point.\n",
            "[0.0015317656642411318, 0.0, 1.4985088341264796, 1, 0.045614637150886435] \n",
            "\n",
            "Iteration No: 54 ended. Evaluation done at random point.\n",
            "Time taken: 0.7750\n",
            "Function value obtained: 209388.5600\n",
            "Current minimum: 2096.5463\n",
            "Iteration No: 55 started. Evaluating function at random point.\n",
            "[0.002620077025417044, 0.0, 1.354526610676854, 10, 0.5556492427701453] \n",
            "\n",
            "Iteration No: 55 ended. Evaluation done at random point.\n",
            "Time taken: 2.9210\n",
            "Function value obtained: 168627.2547\n",
            "Current minimum: 2096.5463\n",
            "Iteration No: 56 started. Evaluating function at random point.\n",
            "[0.0010434704311783427, 0, 1.9686588686962445, 9, 0.5864101661863268] \n",
            "\n",
            "Iteration No: 56 ended. Evaluation done at random point.\n",
            "Time taken: 2.7421\n",
            "Function value obtained: 230481.2091\n",
            "Current minimum: 2096.5463\n",
            "Iteration No: 57 started. Evaluating function at random point.\n",
            "[0.0013424883704781807, 1, 1.954990279488894, 8, 0.6064754600685758] \n",
            "\n",
            "Iteration No: 57 ended. Evaluation done at random point.\n",
            "Time taken: 2.7460\n",
            "Function value obtained: 217215.7578\n",
            "Current minimum: 2096.5463\n",
            "Iteration No: 58 started. Evaluating function at random point.\n",
            "[0.00273404532247544, 1, 1.757739483554942, 8, 0.9413777047064988] \n",
            "\n",
            "Iteration No: 58 ended. Evaluation done at random point.\n",
            "Time taken: 2.8409\n",
            "Function value obtained: 164883.6169\n",
            "Current minimum: 2096.5463\n",
            "Iteration No: 59 started. Evaluating function at random point.\n",
            "[0.039664791405717235, 1, 1.7485759332498945, 10, 0.8445500794719426] \n",
            "\n",
            "Iteration No: 59 ended. Evaluation done at random point.\n",
            "Time taken: 5.6118\n",
            "Function value obtained: 2199.8030\n",
            "Current minimum: 2096.5463\n",
            "Iteration No: 60 started. Evaluating function at random point.\n",
            "[0.0024472844228109695, 0, 1.948517327714466, 4, 0.14814086094816506] \n",
            "\n",
            "Iteration No: 60 ended. Evaluation done at random point.\n",
            "Time taken: 2.2400\n",
            "Function value obtained: 174521.1462\n",
            "Current minimum: 2096.5463\n",
            "Iteration No: 61 started. Evaluating function at random point.\n",
            "[0.09197266687466418, 1, 0.9947827309973256, 10, 0.26947943395811774] \n",
            "\n",
            "Iteration No: 61 ended. Evaluation done at random point.\n",
            "Time taken: 5.8076\n",
            "Function value obtained: 2170.6533\n",
            "Current minimum: 2096.5463\n",
            "Iteration No: 62 started. Evaluating function at random point.\n",
            "[0.006621925283137645, 1, 0.5956836371101127, 1, 0.5113189825464561] \n",
            "\n",
            "Iteration No: 62 ended. Evaluation done at random point.\n",
            "Time taken: 0.7797\n",
            "Function value obtained: 77076.7994\n",
            "Current minimum: 2096.5463\n",
            "Iteration No: 63 started. Evaluating function at random point.\n",
            "[0.00280953248495789, 0.0, 1.724383034843367, 1, 0.34360550314809873] \n",
            "\n",
            "Iteration No: 63 ended. Evaluation done at random point.\n",
            "Time taken: 0.7784\n",
            "Function value obtained: 162725.7519\n",
            "Current minimum: 2096.5463\n",
            "Iteration No: 64 started. Evaluating function at random point.\n",
            "[0.037822092761829254, 1, 0.7185428341201715, 5, 0.3018308759275166] \n",
            "\n",
            "Iteration No: 64 ended. Evaluation done at random point.\n",
            "Time taken: 2.9835\n",
            "Function value obtained: 2214.6452\n",
            "Current minimum: 2096.5463\n",
            "Iteration No: 65 started. Evaluating function at random point.\n",
            "[0.0355172682140296, 0, 0.6506206103179929, 3, 0.7255943642105789] \n",
            "\n",
            "Iteration No: 65 ended. Evaluation done at random point.\n",
            "Time taken: 1.7400\n",
            "Function value obtained: 2284.3475\n",
            "Current minimum: 2096.5463\n",
            "Iteration No: 66 started. Evaluating function at random point.\n",
            "[0.001054034721063008, 0, 0.29389329080075016, 2, 0.0896030342386054] \n",
            "\n",
            "Iteration No: 66 ended. Evaluation done at random point.\n",
            "Time taken: 1.2185\n",
            "Function value obtained: 229999.3852\n",
            "Current minimum: 2096.5463\n",
            "Iteration No: 67 started. Evaluating function at random point.\n",
            "[0.022084909030668322, 0.0, 0.8410789333601971, 7, 0.8296022479277193] \n",
            "\n",
            "Iteration No: 67 ended. Evaluation done at random point.\n",
            "Time taken: 4.0236\n",
            "Function value obtained: 5319.9516\n",
            "Current minimum: 2096.5463\n",
            "Iteration No: 68 started. Evaluating function at random point.\n",
            "[0.00572885122752824, 0.0, 0.5122791548294247, 1, 0.4764772005498308] \n",
            "\n",
            "Iteration No: 68 ended. Evaluation done at random point.\n",
            "Time taken: 0.7799\n",
            "Function value obtained: 91731.1037\n",
            "Current minimum: 2096.5463\n",
            "Iteration No: 69 started. Evaluating function at random point.\n",
            "[0.009459520832380493, 1, 1.049185241509696, 9, 0.2835188465821667] \n",
            "\n",
            "Iteration No: 69 ended. Evaluation done at random point.\n",
            "Time taken: 3.4319\n",
            "Function value obtained: 44138.6059\n",
            "Current minimum: 2096.5463\n",
            "Iteration No: 70 started. Evaluating function at random point.\n",
            "[0.005752464031093663, 0.0, 1.5770910246130379, 7, 0.6600398622229491] \n",
            "\n",
            "Iteration No: 70 ended. Evaluation done at random point.\n",
            "Time taken: 3.8248\n",
            "Function value obtained: 90885.6699\n",
            "Current minimum: 2096.5463\n",
            "Iteration No: 71 started. Evaluating function at random point.\n",
            "[0.002589340797791475, 0, 1.3627182581934716, 10, 0.06985901733934609] \n",
            "\n",
            "Iteration No: 71 ended. Evaluation done at random point.\n",
            "Time taken: 4.4468\n",
            "Function value obtained: 169656.6288\n",
            "Current minimum: 2096.5463\n",
            "Iteration No: 72 started. Evaluating function at random point.\n",
            "[0.0010456259228180202, 0, 0.2669304191627245, 1, 0.4598558837560075] \n",
            "\n",
            "Iteration No: 72 ended. Evaluation done at random point.\n",
            "Time taken: 0.9675\n",
            "Function value obtained: 230494.7967\n",
            "Current minimum: 2096.5463\n",
            "Iteration No: 73 started. Evaluating function at random point.\n",
            "[0.0012280741856456176, 0, 0.1539128939732655, 8, 0.8827092893929044] \n",
            "\n",
            "Iteration No: 73 ended. Evaluation done at random point.\n",
            "Time taken: 4.1706\n",
            "Function value obtained: 222138.4023\n",
            "Current minimum: 2096.5463\n",
            "Iteration No: 74 started. Evaluating function at random point.\n",
            "[0.009480257198801278, 1, 0.3482239044542646, 10, 0.43040243950806134] \n",
            "\n",
            "Iteration No: 74 ended. Evaluation done at random point.\n",
            "Time taken: 4.7760\n",
            "Function value obtained: 43960.6887\n",
            "Current minimum: 2096.5463\n",
            "Iteration No: 75 started. Evaluating function at random point.\n",
            "[0.010472098165405924, 1, 1.362785021207676, 4, 0.5392235974137528] \n",
            "\n",
            "Iteration No: 75 ended. Evaluation done at random point.\n",
            "Time taken: 2.2554\n",
            "Function value obtained: 36368.2057\n",
            "Current minimum: 2096.5463\n",
            "Iteration No: 76 started. Evaluating function at random point.\n",
            "[0.004480944169459191, 0.0, 0.31974013428585063, 5, 0.5789223875388947] \n",
            "\n",
            "Iteration No: 76 ended. Evaluation done at random point.\n",
            "Time taken: 2.8268\n",
            "Function value obtained: 116650.3965\n",
            "Current minimum: 2096.5463\n",
            "Iteration No: 77 started. Evaluating function at random point.\n",
            "[0.001529397376292389, 0, 0.16594349531239197, 10, 0.7241676366115434] \n",
            "\n",
            "Iteration No: 77 ended. Evaluation done at random point.\n",
            "Time taken: 4.5256\n",
            "Function value obtained: 209251.9666\n",
            "Current minimum: 2096.5463\n",
            "Iteration No: 78 started. Evaluating function at random point.\n",
            "[0.006281316014413108, 0, 1.380050040382455, 4, 0.32772040155711896] \n",
            "\n",
            "Iteration No: 78 ended. Evaluation done at random point.\n",
            "Time taken: 2.2553\n",
            "Function value obtained: 81923.3959\n",
            "Current minimum: 2096.5463\n",
            "Iteration No: 79 started. Evaluating function at random point.\n",
            "[0.032625508212770445, 1, 0.4800405467594192, 1, 0.00976643559628332] \n",
            "\n",
            "Iteration No: 79 ended. Evaluation done at random point.\n",
            "Time taken: 0.7716\n",
            "Function value obtained: 2581.4517\n",
            "Current minimum: 2096.5463\n",
            "Iteration No: 80 started. Evaluating function at random point.\n",
            "[0.004135921952558907, 0.0, 1.0068548558799053, 10, 0.45722345335385717] \n",
            "\n",
            "Iteration No: 80 ended. Evaluation done at random point.\n",
            "Time taken: 3.1280\n",
            "Function value obtained: 124940.8637\n",
            "Current minimum: 2096.5463\n",
            "Iteration No: 81 started. Evaluating function at random point.\n",
            "[0.08012147828496452, 1, 1.6415342414026304, 3, 0.992429523285656] \n",
            "\n",
            "Iteration No: 81 ended. Evaluation done at random point.\n",
            "Time taken: 1.6695\n",
            "Function value obtained: 2094.2351\n",
            "Current minimum: 2094.2351\n",
            "Iteration No: 82 started. Evaluating function at random point.\n",
            "[0.0014791156596122607, 0.0, 1.2672157794003824, 3, 0.9367464737894555] \n",
            "\n",
            "Iteration No: 82 ended. Evaluation done at random point.\n",
            "Time taken: 1.6979\n",
            "Function value obtained: 211402.0240\n",
            "Current minimum: 2094.2351\n",
            "Iteration No: 83 started. Evaluating function at random point.\n",
            "[0.007847956537267763, 0, 1.484475955863366, 1, 0.9589827218634738] \n",
            "\n",
            "Iteration No: 83 ended. Evaluation done at random point.\n",
            "Time taken: 0.7733\n",
            "Function value obtained: 60784.5538\n",
            "Current minimum: 2094.2351\n",
            "Iteration No: 84 started. Evaluating function at random point.\n",
            "[0.005137332757520748, 1, 0.03265700536741579, 9, 0.8453576818202401] \n",
            "\n",
            "Iteration No: 84 ended. Evaluation done at random point.\n",
            "Time taken: 5.9406\n",
            "Function value obtained: 102518.2341\n",
            "Current minimum: 2094.2351\n",
            "Iteration No: 85 started. Evaluating function at random point.\n",
            "[0.01181813886590622, 0, 1.2183551631167762, 6, 0.4541623969075519] \n",
            "\n",
            "Iteration No: 85 ended. Evaluation done at random point.\n",
            "Time taken: 3.1589\n",
            "Function value obtained: 28188.3743\n",
            "Current minimum: 2094.2351\n",
            "Iteration No: 86 started. Evaluating function at random point.\n",
            "[0.0045019613638697525, 0.0, 1.228929412953749, 7, 0.5223705322713112] \n",
            "\n",
            "Iteration No: 86 ended. Evaluation done at random point.\n",
            "Time taken: 2.9809\n",
            "Function value obtained: 116239.8453\n",
            "Current minimum: 2094.2351\n",
            "Iteration No: 87 started. Evaluating function at random point.\n",
            "[0.010620616479620695, 1, 1.0891817547670155, 10, 0.2211609153460839] \n",
            "\n",
            "Iteration No: 87 ended. Evaluation done at random point.\n",
            "Time taken: 3.5348\n",
            "Function value obtained: 35347.5602\n",
            "Current minimum: 2094.2351\n",
            "Iteration No: 88 started. Evaluating function at random point.\n",
            "[0.0032090936225271046, 0.0, 0.024072445795308546, 4, 0.618480259512748] \n",
            "\n",
            "Iteration No: 88 ended. Evaluation done at random point.\n",
            "Time taken: 2.2572\n",
            "Function value obtained: 149991.6551\n",
            "Current minimum: 2094.2351\n",
            "Iteration No: 89 started. Evaluating function at random point.\n",
            "[0.08882033884178735, 0, 0.8181081907461234, 1, 0.8315193998721374] \n",
            "\n",
            "Iteration No: 89 ended. Evaluation done at random point.\n",
            "Time taken: 0.7697\n",
            "Function value obtained: 2107.8125\n",
            "Current minimum: 2094.2351\n",
            "Iteration No: 90 started. Evaluating function at random point.\n",
            "[0.04111929613658078, 1, 0.7362048039630683, 7, 0.24141862007657405] \n",
            "\n",
            "Iteration No: 90 ended. Evaluation done at random point.\n",
            "Time taken: 4.1909\n",
            "Function value obtained: 2164.8362\n",
            "Current minimum: 2094.2351\n",
            "Iteration No: 91 started. Evaluating function at random point.\n",
            "[0.02113533534926102, 0.0, 1.3317182351183756, 4, 0.4240889884358494] \n",
            "\n",
            "Iteration No: 91 ended. Evaluation done at random point.\n",
            "Time taken: 2.2911\n",
            "Function value obtained: 6001.9230\n",
            "Current minimum: 2094.2351\n",
            "Iteration No: 92 started. Evaluating function at random point.\n",
            "[0.01286398773472244, 0.0, 1.413149412545958, 3, 0.44714384049583644] \n",
            "\n",
            "Iteration No: 92 ended. Evaluation done at random point.\n",
            "Time taken: 1.6987\n",
            "Function value obtained: 23221.8365\n",
            "Current minimum: 2094.2351\n",
            "Iteration No: 93 started. Evaluating function at random point.\n",
            "[0.08665748530822981, 1, 0.7950669831932682, 4, 0.23262699282976557] \n",
            "\n",
            "Iteration No: 93 ended. Evaluation done at random point.\n",
            "Time taken: 2.1925\n",
            "Function value obtained: 2103.1766\n",
            "Current minimum: 2094.2351\n",
            "Iteration No: 94 started. Evaluating function at random point.\n",
            "[0.004977814850123896, 0, 1.9709828552865956, 3, 0.6971416168283548] \n",
            "\n",
            "Iteration No: 94 ended. Evaluation done at random point.\n",
            "Time taken: 1.6985\n",
            "Function value obtained: 105889.6939\n",
            "Current minimum: 2094.2351\n",
            "Iteration No: 95 started. Evaluating function at random point.\n",
            "[0.062250122328516434, 0.0, 0.4830913729879266, 5, 0.10590615488223223] \n",
            "\n",
            "Iteration No: 95 ended. Evaluation done at random point.\n",
            "Time taken: 2.8412\n",
            "Function value obtained: 2095.7966\n",
            "Current minimum: 2094.2351\n",
            "Iteration No: 96 started. Evaluating function at random point.\n",
            "[0.07978205565731546, 0.0, 1.3795365301555012, 1, 0.9167270193301821] \n",
            "\n",
            "Iteration No: 96 ended. Evaluation done at random point.\n",
            "Time taken: 0.7740\n",
            "Function value obtained: 2106.2471\n",
            "Current minimum: 2094.2351\n",
            "Iteration No: 97 started. Evaluating function at random point.\n",
            "[0.001689014122070193, 1, 0.26562999753738775, 5, 0.37429618332091613] \n",
            "\n",
            "Iteration No: 97 ended. Evaluation done at random point.\n",
            "Time taken: 2.7809\n",
            "Function value obtained: 202724.6534\n",
            "Current minimum: 2094.2351\n",
            "Iteration No: 98 started. Evaluating function at random point.\n",
            "[0.03144680409059174, 0.0, 0.3437061980952861, 8, 0.29624238837114275] \n",
            "\n",
            "Iteration No: 98 ended. Evaluation done at random point.\n",
            "Time taken: 4.9134\n",
            "Function value obtained: 2580.5893\n",
            "Current minimum: 2094.2351\n",
            "Iteration No: 99 started. Evaluating function at random point.\n",
            "[0.059145885473592584, 1, 1.4767806753872255, 3, 0.9425835996979306] \n",
            "\n",
            "Iteration No: 99 ended. Evaluation done at random point.\n",
            "Time taken: 1.6927\n",
            "Function value obtained: 2089.1290\n",
            "Current minimum: 2089.1290\n",
            "Iteration No: 100 started. Evaluating function at random point.\n",
            "[0.018535119718620856, 0, 1.8804193787095351, 5, 0.6995750602247515] \n",
            "\n",
            "Iteration No: 100 ended. Evaluation done at random point.\n",
            "Time taken: 2.7714\n",
            "Function value obtained: 8755.6586\n",
            "Current minimum: 2089.1290\n"
          ],
          "name": "stdout"
        }
      ]
    },
    {
      "cell_type": "code",
      "metadata": {
        "id": "-LCHB4FOrWYf"
      },
      "source": [
        "# tá dando erro quando começa a otimizar a busca\n",
        "resultados_gp = gp_minimize(model_trains3, intervalos3, random_state=0, verbose=1, n_calls=30, n_random_starts=15, x0 = [0.1,0.0,1.0,3,0.0], y0=2093.2309971404793)"
      ],
      "execution_count": null,
      "outputs": []
    },
    {
      "cell_type": "code",
      "metadata": {
        "id": "geIrZvN-yHXh",
        "outputId": "38b59dab-9355-4a76-e899-80ed966751d9",
        "colab": {
          "base_uri": "https://localhost:8080/",
          "height": 54
        }
      },
      "source": [
        "import sklearn.metrics as skm\n",
        "skm.SCORERS.keys()"
      ],
      "execution_count": null,
      "outputs": [
        {
          "output_type": "execute_result",
          "data": {
            "text/plain": [
              "dict_keys(['explained_variance', 'r2', 'max_error', 'neg_median_absolute_error', 'neg_mean_absolute_error', 'neg_mean_squared_error', 'neg_mean_squared_log_error', 'neg_root_mean_squared_error', 'neg_mean_poisson_deviance', 'neg_mean_gamma_deviance', 'accuracy', 'roc_auc', 'roc_auc_ovr', 'roc_auc_ovo', 'roc_auc_ovr_weighted', 'roc_auc_ovo_weighted', 'balanced_accuracy', 'average_precision', 'neg_log_loss', 'neg_brier_score', 'adjusted_rand_score', 'homogeneity_score', 'completeness_score', 'v_measure_score', 'mutual_info_score', 'adjusted_mutual_info_score', 'normalized_mutual_info_score', 'fowlkes_mallows_score', 'precision', 'precision_macro', 'precision_micro', 'precision_samples', 'precision_weighted', 'recall', 'recall_macro', 'recall_micro', 'recall_samples', 'recall_weighted', 'f1', 'f1_macro', 'f1_micro', 'f1_samples', 'f1_weighted', 'jaccard', 'jaccard_macro', 'jaccard_micro', 'jaccard_samples', 'jaccard_weighted'])"
            ]
          },
          "metadata": {
            "tags": []
          },
          "execution_count": 150
        }
      ]
    },
    {
      "cell_type": "code",
      "metadata": {
        "id": "Vvz9dniXwh4V"
      },
      "source": [
        "# O mesmo erro que comentei acima acontece aqui também. Não sei porque...\n",
        "SEED_p = 0\n",
        "np.random.seed(SEED_p)\n",
        "from skopt import BayesSearchCV\n",
        "opt = BayesSearchCV(XGBRegressor(objective='reg:squarederror'),\n",
        "                    {'max_depth':(1, 10),\n",
        "                     'learning_rate':(0.001, 0.1,'log-uniform'),\n",
        "                     'reg_lambda':(0.0, 2.0),\n",
        "                     'gamma':(0.0, 1,0),\n",
        "                     'reg_alpha': (0.0, 1.0)},\n",
        "                    n_jobs=-1, n_iter=30, cv=3, verbose=1,scoring='neg_mean_squared_error')\n",
        "\n",
        "opt.fit(X_train,y_train)\n",
        "print(opt.best_estimator_) \n",
        "print(opt.best_score_)\n",
        "print(opt.score(X_test, y_test))"
      ],
      "execution_count": null,
      "outputs": []
    }
  ]
}